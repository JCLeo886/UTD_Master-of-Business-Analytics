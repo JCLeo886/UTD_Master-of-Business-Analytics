{
 "cells": [
  {
   "cell_type": "code",
   "execution_count": 1,
   "metadata": {
    "id": "A-UbeM7d_WHZ"
   },
   "outputs": [],
   "source": [
    "import numpy as np\n",
    "import matplotlib.pyplot as plt\n",
    "import pandas as pd"
   ]
  },
  {
   "cell_type": "markdown",
   "metadata": {
    "id": "8hVefOyGOJ3j"
   },
   "source": [
    "# **SeoulBikeData Processing (From Assignment 1)**"
   ]
  },
  {
   "cell_type": "markdown",
   "metadata": {
    "id": "-vOblfSuChcX"
   },
   "source": [
    "### **Data Processing**"
   ]
  },
  {
   "cell_type": "code",
   "execution_count": 2,
   "metadata": {
    "colab": {
     "base_uri": "https://localhost:8080/",
     "height": 142
    },
    "id": "M4L96WXnCwdC",
    "outputId": "7ba5bc73-e719-4360-940c-6d64aea700fd"
   },
   "outputs": [
    {
     "data": {
      "text/html": [
       "<div>\n",
       "<style scoped>\n",
       "    .dataframe tbody tr th:only-of-type {\n",
       "        vertical-align: middle;\n",
       "    }\n",
       "\n",
       "    .dataframe tbody tr th {\n",
       "        vertical-align: top;\n",
       "    }\n",
       "\n",
       "    .dataframe thead th {\n",
       "        text-align: right;\n",
       "    }\n",
       "</style>\n",
       "<table border=\"1\" class=\"dataframe\">\n",
       "  <thead>\n",
       "    <tr style=\"text-align: right;\">\n",
       "      <th></th>\n",
       "      <th>Date</th>\n",
       "      <th>Rented Bike Count</th>\n",
       "      <th>Hour</th>\n",
       "      <th>Temperature(°C)</th>\n",
       "      <th>Humidity(%)</th>\n",
       "      <th>Wind speed (m/s)</th>\n",
       "      <th>Visibility (10m)</th>\n",
       "      <th>Dew point temperature(°C)</th>\n",
       "      <th>Solar Radiation (MJ/m2)</th>\n",
       "      <th>Rainfall(mm)</th>\n",
       "      <th>Snowfall (cm)</th>\n",
       "      <th>Seasons</th>\n",
       "      <th>Holiday</th>\n",
       "      <th>Functioning Day</th>\n",
       "    </tr>\n",
       "  </thead>\n",
       "  <tbody>\n",
       "    <tr>\n",
       "      <th>0</th>\n",
       "      <td>01/12/2017</td>\n",
       "      <td>254</td>\n",
       "      <td>0</td>\n",
       "      <td>-5.2</td>\n",
       "      <td>37</td>\n",
       "      <td>2.2</td>\n",
       "      <td>2000</td>\n",
       "      <td>-17.6</td>\n",
       "      <td>0.0</td>\n",
       "      <td>0.0</td>\n",
       "      <td>0.0</td>\n",
       "      <td>Winter</td>\n",
       "      <td>No Holiday</td>\n",
       "      <td>Yes</td>\n",
       "    </tr>\n",
       "    <tr>\n",
       "      <th>1</th>\n",
       "      <td>01/12/2017</td>\n",
       "      <td>204</td>\n",
       "      <td>1</td>\n",
       "      <td>-5.5</td>\n",
       "      <td>38</td>\n",
       "      <td>0.8</td>\n",
       "      <td>2000</td>\n",
       "      <td>-17.6</td>\n",
       "      <td>0.0</td>\n",
       "      <td>0.0</td>\n",
       "      <td>0.0</td>\n",
       "      <td>Winter</td>\n",
       "      <td>No Holiday</td>\n",
       "      <td>Yes</td>\n",
       "    </tr>\n",
       "    <tr>\n",
       "      <th>2</th>\n",
       "      <td>01/12/2017</td>\n",
       "      <td>173</td>\n",
       "      <td>2</td>\n",
       "      <td>-6.0</td>\n",
       "      <td>39</td>\n",
       "      <td>1.0</td>\n",
       "      <td>2000</td>\n",
       "      <td>-17.7</td>\n",
       "      <td>0.0</td>\n",
       "      <td>0.0</td>\n",
       "      <td>0.0</td>\n",
       "      <td>Winter</td>\n",
       "      <td>No Holiday</td>\n",
       "      <td>Yes</td>\n",
       "    </tr>\n",
       "  </tbody>\n",
       "</table>\n",
       "</div>"
      ],
      "text/plain": [
       "         Date  Rented Bike Count  Hour  ...  Seasons     Holiday  Functioning Day\n",
       "0  01/12/2017                254     0  ...   Winter  No Holiday              Yes\n",
       "1  01/12/2017                204     1  ...   Winter  No Holiday              Yes\n",
       "2  01/12/2017                173     2  ...   Winter  No Holiday              Yes\n",
       "\n",
       "[3 rows x 14 columns]"
      ]
     },
     "execution_count": 2,
     "metadata": {
      "tags": []
     },
     "output_type": "execute_result"
    }
   ],
   "source": [
    "dataset = pd.read_csv(\"/content/SeoulBikeData.csv\",encoding='latin1') \n",
    "dataset.head(3) # view the data\n",
    "# dataset.dtypes"
   ]
  },
  {
   "cell_type": "code",
   "execution_count": 3,
   "metadata": {
    "id": "nNTJPnUKDTny"
   },
   "outputs": [],
   "source": [
    "X = dataset.iloc[:, 2:-1].values #drop date and Rent Bike Count\n",
    "y = dataset.iloc[:, -1].values"
   ]
  },
  {
   "cell_type": "code",
   "execution_count": 4,
   "metadata": {
    "colab": {
     "base_uri": "https://localhost:8080/",
     "height": 34
    },
    "id": "1f-WZvZsD9tG",
    "outputId": "cd1ab386-68b6-4d05-de0f-604cdb097844"
   },
   "outputs": [
    {
     "name": "stdout",
     "output_type": "stream",
     "text": [
      "[0 -5.2 37 2.2 2000 -17.6 0.0 0.0 0.0 'Winter' 'No Holiday']\n"
     ]
    }
   ],
   "source": [
    "print(X[0,:])"
   ]
  },
  {
   "cell_type": "markdown",
   "metadata": {
    "id": "8MHBNMiAFOAu"
   },
   "source": [
    "Encoding the Independent Variable"
   ]
  },
  {
   "cell_type": "code",
   "execution_count": 5,
   "metadata": {
    "id": "lbXF3VFGEwVs"
   },
   "outputs": [],
   "source": [
    "from sklearn.compose import ColumnTransformer\n",
    "from sklearn.preprocessing import OneHotEncoder\n",
    "ct = ColumnTransformer(transformers=[('encoder', OneHotEncoder(), [-1,-2])], remainder='passthrough')\n",
    "X = np.array(ct.fit_transform(X))"
   ]
  },
  {
   "cell_type": "code",
   "execution_count": 6,
   "metadata": {
    "colab": {
     "base_uri": "https://localhost:8080/",
     "height": 34
    },
    "id": "okRYTYz6FC-o",
    "outputId": "b4c289c0-eb96-4163-df01-bb9c3b65ca33"
   },
   "outputs": [
    {
     "name": "stdout",
     "output_type": "stream",
     "text": [
      "[0.0 1.0 0.0 0.0 0.0 1.0 0 -5.2 37 2.2 2000 -17.6 0.0 0.0 0.0]\n"
     ]
    }
   ],
   "source": [
    "print(X[0,:]) # 15 Variables"
   ]
  },
  {
   "cell_type": "markdown",
   "metadata": {
    "id": "3c1CYDtnFTQW"
   },
   "source": [
    "Encoding the Dependent Variable"
   ]
  },
  {
   "cell_type": "code",
   "execution_count": 7,
   "metadata": {
    "id": "5q2f1rQdFV3Y"
   },
   "outputs": [],
   "source": [
    "from sklearn.preprocessing import LabelEncoder\n",
    "le = LabelEncoder()\n",
    "y = le.fit_transform(y)"
   ]
  },
  {
   "cell_type": "code",
   "execution_count": 8,
   "metadata": {
    "colab": {
     "base_uri": "https://localhost:8080/",
     "height": 34
    },
    "id": "P4BueJxIFY0X",
    "outputId": "efb72c95-e8c4-4baa-8122-3ab141dfc218"
   },
   "outputs": [
    {
     "data": {
      "text/plain": [
       "Counter({0: 295, 1: 8465})"
      ]
     },
     "execution_count": 8,
     "metadata": {
      "tags": []
     },
     "output_type": "execute_result"
    }
   ],
   "source": [
    "import collections, numpy\n",
    "collections.Counter(y)"
   ]
  },
  {
   "cell_type": "markdown",
   "metadata": {
    "id": "P6SqeXtwF6yG"
   },
   "source": [
    "Splitting the dataset into the Training set and Test set"
   ]
  },
  {
   "cell_type": "code",
   "execution_count": 9,
   "metadata": {
    "id": "n0JenBLxDZKS"
   },
   "outputs": [],
   "source": [
    "from sklearn.model_selection import train_test_split\n",
    "# Sample 1\n",
    "X_train, X_test, y_train, y_test = train_test_split(X, y, test_size = 0.3, random_state = 0)"
   ]
  },
  {
   "cell_type": "code",
   "execution_count": 10,
   "metadata": {
    "colab": {
     "base_uri": "https://localhost:8080/",
     "height": 34
    },
    "id": "_I89kMlDGJLt",
    "outputId": "85f780ca-355a-4853-eaca-9dd5b54a0165"
   },
   "outputs": [
    {
     "name": "stdout",
     "output_type": "stream",
     "text": [
      "(6132,) (6132, 15) (2628,) (2628, 15)\n"
     ]
    }
   ],
   "source": [
    "print(y_train.shape, X_train.shape, y_test.shape, X_test.shape)"
   ]
  },
  {
   "cell_type": "markdown",
   "metadata": {
    "id": "_fMttpSSG5ci"
   },
   "source": [
    "Feature Scaling (Not necessary but the result will be better)"
   ]
  },
  {
   "cell_type": "code",
   "execution_count": 11,
   "metadata": {
    "id": "J8eiQMyVG4po"
   },
   "outputs": [],
   "source": [
    "from sklearn.preprocessing import StandardScaler\n",
    "sc = StandardScaler()\n",
    "X_train = sc.fit_transform(X_train)\n",
    "X_test = sc.transform(X_test)\n",
    "# ready X_train, X_test, y_train, y_test"
   ]
  },
  {
   "cell_type": "code",
   "execution_count": 12,
   "metadata": {
    "id": "neaGBPgLrQpv"
   },
   "outputs": [],
   "source": [
    "# Sample 2\n",
    "X_train2, X_test2, y_train2, y_test2 = train_test_split(X, y, test_size = 0.3, random_state = 5) # Change train and test set\n",
    "X_train2 = sc.fit_transform(X_train2)\n",
    "X_test2 = sc.fit_transform(X_test2)\n",
    "# ready X_train2, X_test2, y_train2, y_test2"
   ]
  },
  {
   "cell_type": "markdown",
   "metadata": {
    "id": "Cx2MRmvSGipK"
   },
   "source": [
    "## **Support Vector Machine**"
   ]
  },
  {
   "cell_type": "markdown",
   "metadata": {
    "id": "r_bhMEIlHFzm"
   },
   "source": [
    "### **Training the SVM model on the Training set Kernel Function 1 (rbf)**"
   ]
  },
  {
   "cell_type": "code",
   "execution_count": 13,
   "metadata": {
    "id": "yAruZcgS177i"
   },
   "outputs": [],
   "source": [
    "import time\n",
    "tStart = time.time()"
   ]
  },
  {
   "cell_type": "code",
   "execution_count": 14,
   "metadata": {
    "colab": {
     "base_uri": "https://localhost:8080/",
     "height": 85
    },
    "id": "2nY4tvrmHLQx",
    "outputId": "8308cf4a-7283-421b-8ffb-f7350a5dd07e"
   },
   "outputs": [
    {
     "data": {
      "text/plain": [
       "SVC(C=1.0, break_ties=False, cache_size=200, class_weight=None, coef0=0.0,\n",
       "    decision_function_shape='ovr', degree=3, gamma='scale', kernel='rbf',\n",
       "    max_iter=-1, probability=False, random_state=0, shrinking=True, tol=0.001,\n",
       "    verbose=False)"
      ]
     },
     "execution_count": 14,
     "metadata": {
      "tags": []
     },
     "output_type": "execute_result"
    }
   ],
   "source": [
    "from sklearn.svm import SVC\n",
    "classifier = SVC(kernel = 'rbf', random_state = 0)\n",
    "classifier.fit(X_train, y_train)"
   ]
  },
  {
   "cell_type": "markdown",
   "metadata": {
    "id": "hU1dOKadpms7"
   },
   "source": [
    "Training sample 1 Confusion Matrix (SVM rbf)"
   ]
  },
  {
   "cell_type": "code",
   "execution_count": 15,
   "metadata": {
    "colab": {
     "base_uri": "https://localhost:8080/",
     "height": 68
    },
    "id": "0wjBxEX4sn8M",
    "outputId": "f5366b90-37bb-4b76-d1d5-502fcb683f28"
   },
   "outputs": [
    {
     "name": "stdout",
     "output_type": "stream",
     "text": [
      "[[   0  198]\n",
      " [   0 5934]]\n",
      "Accuracy: 96.77 %\n"
     ]
    }
   ],
   "source": [
    "from sklearn.metrics import confusion_matrix, accuracy_score\n",
    "# In sample1 error\n",
    "y_pred_in = classifier.predict(X_train)\n",
    "cm = confusion_matrix(y_train, y_pred_in)\n",
    "print(cm)\n",
    "print(\"Accuracy: {:.2f} %\".format(accuracy_score(y_train, y_pred_in)*100))"
   ]
  },
  {
   "cell_type": "markdown",
   "metadata": {
    "id": "fg6t1CB6Q4WR"
   },
   "source": [
    "Applying k-Fold Cross Validation(SVM rbf)"
   ]
  },
  {
   "cell_type": "code",
   "execution_count": 16,
   "metadata": {
    "colab": {
     "base_uri": "https://localhost:8080/",
     "height": 51
    },
    "id": "ZDvM5qHSRDI1",
    "outputId": "e01e0765-7cca-47af-aae2-65f950e3f106"
   },
   "outputs": [
    {
     "name": "stdout",
     "output_type": "stream",
     "text": [
      "Accuracy: 96.77 %\n",
      "Standard Deviation: 0.06 %\n"
     ]
    }
   ],
   "source": [
    "from sklearn.model_selection import cross_val_score\n",
    "accuracies = cross_val_score(estimator = classifier,X = X_train, y = y_train, cv = 10)\n",
    "# print(accuracies)\n",
    "print(\"Accuracy: {:.2f} %\".format(accuracies.mean()*100))\n",
    "print(\"Standard Deviation: {:.2f} %\".format(accuracies.std()*100))\n",
    "# Accuracy: 0.9881 (+/- 0.0036)"
   ]
  },
  {
   "cell_type": "code",
   "execution_count": 17,
   "metadata": {
    "colab": {
     "base_uri": "https://localhost:8080/",
     "height": 34
    },
    "id": "jFW-TQ_110CP",
    "outputId": "2b836277-d7ab-4e3d-ab5c-aa83bfcf0028"
   },
   "outputs": [
    {
     "name": "stdout",
     "output_type": "stream",
     "text": [
      "2.998196601867676\n"
     ]
    }
   ],
   "source": [
    "tEnd = time.time()\n",
    "print(tEnd - tStart)"
   ]
  },
  {
   "cell_type": "markdown",
   "metadata": {
    "id": "KmmZKIsyHVc5"
   },
   "source": [
    "Predicting the Test set results(rbf)"
   ]
  },
  {
   "cell_type": "code",
   "execution_count": 18,
   "metadata": {
    "id": "zoUZ2EihHUyk"
   },
   "outputs": [],
   "source": [
    "y_pred = classifier.predict(X_test)"
   ]
  },
  {
   "cell_type": "code",
   "execution_count": 19,
   "metadata": {
    "colab": {
     "base_uri": "https://localhost:8080/",
     "height": 68
    },
    "id": "gY9FImjUHe2L",
    "outputId": "ce9ccd92-e692-4d4c-813c-382ab0e015e4"
   },
   "outputs": [
    {
     "name": "stdout",
     "output_type": "stream",
     "text": [
      "[[   0   97]\n",
      " [   0 2531]]\n",
      "Accuracy: 96.31 %\n"
     ]
    }
   ],
   "source": [
    "# Out sample error 1\n",
    "cm = confusion_matrix(y_test, y_pred)\n",
    "print(cm)\n",
    "print(\"Accuracy: {:.2f} %\".format(accuracy_score(y_test, y_pred)*100))"
   ]
  },
  {
   "cell_type": "markdown",
   "metadata": {
    "id": "R-1ffiKqLSx2"
   },
   "source": [
    "### **Training the SVM model on the Training set Kernel Function 2 (sigmoid)**\n"
   ]
  },
  {
   "cell_type": "code",
   "execution_count": 20,
   "metadata": {
    "colab": {
     "base_uri": "https://localhost:8080/",
     "height": 85
    },
    "id": "xIefqQriLRGJ",
    "outputId": "781a3a25-57e8-406f-b2ac-9db53986f346"
   },
   "outputs": [
    {
     "data": {
      "text/plain": [
       "SVC(C=1.0, break_ties=False, cache_size=200, class_weight=None, coef0=0.0,\n",
       "    decision_function_shape='ovr', degree=3, gamma='scale', kernel='sigmoid',\n",
       "    max_iter=-1, probability=False, random_state=0, shrinking=True, tol=0.001,\n",
       "    verbose=False)"
      ]
     },
     "execution_count": 20,
     "metadata": {
      "tags": []
     },
     "output_type": "execute_result"
    }
   ],
   "source": [
    "classifier = SVC(kernel = 'sigmoid', random_state = 0)\n",
    "classifier.fit(X_train, y_train)"
   ]
  },
  {
   "cell_type": "markdown",
   "metadata": {
    "id": "JR8-7c_tBmtF"
   },
   "source": [
    "Training set results and Confusion Matrix (SVM sigmoid)"
   ]
  },
  {
   "cell_type": "code",
   "execution_count": 21,
   "metadata": {
    "colab": {
     "base_uri": "https://localhost:8080/",
     "height": 68
    },
    "id": "aCqZ13odBA_C",
    "outputId": "f830a8f1-eb11-4f60-e5df-57ef9c2027c0"
   },
   "outputs": [
    {
     "name": "stdout",
     "output_type": "stream",
     "text": [
      "[[   0  198]\n",
      " [  24 5910]]\n",
      "Accuracy: 96.38 %\n"
     ]
    }
   ],
   "source": [
    "y_pred_in = classifier.predict(X_train)\n",
    "cm = confusion_matrix(y_train, y_pred_in)\n",
    "print(cm)\n",
    "print(\"Accuracy: {:.2f} %\".format(accuracy_score(y_train, y_pred_in)*100))"
   ]
  },
  {
   "cell_type": "markdown",
   "metadata": {
    "id": "l12WGVXORadO"
   },
   "source": [
    "Applying k-Fold Cross Validation(SVM sigmoid)"
   ]
  },
  {
   "cell_type": "code",
   "execution_count": 22,
   "metadata": {
    "colab": {
     "base_uri": "https://localhost:8080/",
     "height": 51
    },
    "id": "y6XDvJUoRadQ",
    "outputId": "2a1ff67c-9d4f-4656-9f33-b68716c21e14"
   },
   "outputs": [
    {
     "name": "stdout",
     "output_type": "stream",
     "text": [
      "Accuracy: 95.89 %\n",
      "Standard Deviation: 0.48 %\n"
     ]
    }
   ],
   "source": [
    "accuracies = cross_val_score(estimator = classifier, X = X_train, y = y_train, cv = 10)\n",
    "print(\"Accuracy: {:.2f} %\".format(accuracies.mean()*100))\n",
    "print(\"Standard Deviation: {:.2f} %\".format(accuracies.std()*100))"
   ]
  },
  {
   "cell_type": "markdown",
   "metadata": {
    "id": "wJAPF3dYL9o1"
   },
   "source": [
    "Testing set results and Confusion Matrix (SVM sigmoid)"
   ]
  },
  {
   "cell_type": "code",
   "execution_count": 23,
   "metadata": {
    "colab": {
     "base_uri": "https://localhost:8080/",
     "height": 68
    },
    "id": "MTTQZFW8LQ31",
    "outputId": "df6a7927-649e-4888-c66e-1d267abd6af0"
   },
   "outputs": [
    {
     "name": "stdout",
     "output_type": "stream",
     "text": [
      "[[   0   97]\n",
      " [  15 2516]]\n",
      "Accuracy: 95.74 %\n"
     ]
    }
   ],
   "source": [
    "y_pred = classifier.predict(X_test)\n",
    "cm = confusion_matrix(y_test, y_pred)\n",
    "print(cm)\n",
    "print(\"Accuracy: {:.2f} %\".format(accuracy_score(y_test, y_pred)*100))"
   ]
  },
  {
   "cell_type": "markdown",
   "metadata": {
    "id": "wq6tQp2GMEg_"
   },
   "source": [
    "### **Training the SVM model on the Training set Kernel Function 3 (poly)**"
   ]
  },
  {
   "cell_type": "code",
   "execution_count": 24,
   "metadata": {
    "colab": {
     "base_uri": "https://localhost:8080/",
     "height": 85
    },
    "id": "SEmAC_5ECUaQ",
    "outputId": "d809403e-52fc-4d34-d171-29a99d743e27"
   },
   "outputs": [
    {
     "data": {
      "text/plain": [
       "SVC(C=1.0, break_ties=False, cache_size=200, class_weight=None, coef0=0.0,\n",
       "    decision_function_shape='ovr', degree=3, gamma='scale', kernel='poly',\n",
       "    max_iter=-1, probability=False, random_state=0, shrinking=True, tol=0.001,\n",
       "    verbose=False)"
      ]
     },
     "execution_count": 24,
     "metadata": {
      "tags": []
     },
     "output_type": "execute_result"
    }
   ],
   "source": [
    "classifier = SVC(kernel = 'poly', random_state = 0)\n",
    "classifier.fit(X_train, y_train)"
   ]
  },
  {
   "cell_type": "markdown",
   "metadata": {
    "id": "zlipFrRzCUaV"
   },
   "source": [
    "Training set results and Confusion Matrix (SVM poly)"
   ]
  },
  {
   "cell_type": "code",
   "execution_count": 25,
   "metadata": {
    "colab": {
     "base_uri": "https://localhost:8080/",
     "height": 68
    },
    "id": "SyzUEzIlCUaY",
    "outputId": "bbb20bab-167e-4873-9493-03f6e0e8e002"
   },
   "outputs": [
    {
     "name": "stdout",
     "output_type": "stream",
     "text": [
      "[[  15  183]\n",
      " [   2 5932]]\n",
      "Accuracy: 96.98 %\n"
     ]
    }
   ],
   "source": [
    "y_pred_in = classifier.predict(X_train)\n",
    "cm = confusion_matrix(y_train, y_pred_in)\n",
    "print(cm)\n",
    "print(\"Accuracy: {:.2f} %\".format(accuracy_score(y_train, y_pred_in)*100))"
   ]
  },
  {
   "cell_type": "markdown",
   "metadata": {
    "id": "CSCvBd-pCUab"
   },
   "source": [
    "Applying k-Fold Cross Validation(SVM poly)"
   ]
  },
  {
   "cell_type": "code",
   "execution_count": 26,
   "metadata": {
    "colab": {
     "base_uri": "https://localhost:8080/",
     "height": 51
    },
    "id": "V7e6-0-DCUac",
    "outputId": "7db0744b-6992-4f58-c5df-82daa9c97a75"
   },
   "outputs": [
    {
     "name": "stdout",
     "output_type": "stream",
     "text": [
      "Accuracy: 96.85 %\n",
      "Standard Deviation: 0.19 %\n"
     ]
    }
   ],
   "source": [
    "accuracies = cross_val_score(estimator = classifier, X = X_train, y = y_train, cv = 10)\n",
    "print(\"Accuracy: {:.2f} %\".format(accuracies.mean()*100))\n",
    "print(\"Standard Deviation: {:.2f} %\".format(accuracies.std()*100))"
   ]
  },
  {
   "cell_type": "markdown",
   "metadata": {
    "id": "ihgzkaNxCUaf"
   },
   "source": [
    "Testing set results and Confusion Matrix (SVM poly)"
   ]
  },
  {
   "cell_type": "code",
   "execution_count": 27,
   "metadata": {
    "colab": {
     "base_uri": "https://localhost:8080/",
     "height": 68
    },
    "id": "5nxWoQV-CUag",
    "outputId": "36e0801d-a223-43af-da40-b2ef3205baff"
   },
   "outputs": [
    {
     "name": "stdout",
     "output_type": "stream",
     "text": [
      "[[   2   95]\n",
      " [   5 2526]]\n",
      "Accuracy: 96.19 %\n"
     ]
    }
   ],
   "source": [
    "y_pred = classifier.predict(X_test)\n",
    "cm = confusion_matrix(y_test, y_pred)\n",
    "print(cm)\n",
    "print(\"Accuracy: {:.2f} %\".format(accuracy_score(y_test, y_pred)*100))"
   ]
  },
  {
   "cell_type": "markdown",
   "metadata": {
    "id": "drP7sopeI-40"
   },
   "source": [
    "## **Decision Tree**"
   ]
  },
  {
   "cell_type": "code",
   "execution_count": 28,
   "metadata": {
    "id": "PGnUZCTyOMqa"
   },
   "outputs": [],
   "source": [
    "X_train, X_test, y_train, y_test = train_test_split(X, y, test_size = 0.3, random_state = 0) # Change train and test set\n",
    "X_train = sc.fit_transform(X_train)\n",
    "X_test = sc.fit_transform(X_test)\n",
    "# Tree ready X_train, X_test, y_train, y_test"
   ]
  },
  {
   "cell_type": "markdown",
   "metadata": {
    "id": "p58rjWHyLdxY"
   },
   "source": [
    "### **First Tree**"
   ]
  },
  {
   "cell_type": "markdown",
   "metadata": {
    "id": "OcwqLKTbIhz5"
   },
   "source": [
    "Training the Decision Tree Classification model on the Training set"
   ]
  },
  {
   "cell_type": "code",
   "execution_count": 29,
   "metadata": {
    "id": "YOyhRt2C36Vt"
   },
   "outputs": [],
   "source": [
    "tStart = time.time()"
   ]
  },
  {
   "cell_type": "code",
   "execution_count": 30,
   "metadata": {
    "colab": {
     "base_uri": "https://localhost:8080/",
     "height": 68
    },
    "id": "eq04biPAoY8z",
    "outputId": "88a8593a-415f-4de4-8765-937286ad1ec2"
   },
   "outputs": [
    {
     "name": "stdout",
     "output_type": "stream",
     "text": [
      "[[   2   95]\n",
      " [   4 2527]]\n",
      "Accuracy: 96.23 %\n"
     ]
    }
   ],
   "source": [
    "from sklearn.tree import DecisionTreeClassifier\n",
    "from sklearn import tree\n",
    "classifier = DecisionTreeClassifier(criterion = 'entropy',splitter='best',max_depth = 6, random_state = 0)\n",
    "classifier.fit(X_train, y_train)\n",
    "y_pred = classifier.predict(X_test)\n",
    "cm = confusion_matrix(y_test, y_pred)\n",
    "print(cm)\n",
    "print(\"Accuracy: {:.2f} %\".format(accuracy_score(y_test, y_pred)*100))"
   ]
  },
  {
   "cell_type": "code",
   "execution_count": 31,
   "metadata": {
    "colab": {
     "base_uri": "https://localhost:8080/",
     "height": 68
    },
    "id": "YRT8YqMnmDHj",
    "outputId": "1ac592bd-37ef-4f7e-869b-9c642aa87262"
   },
   "outputs": [
    {
     "name": "stdout",
     "output_type": "stream",
     "text": [
      "[[  12  186]\n",
      " [   2 5932]]\n",
      "Accuracy: 96.93 %\n"
     ]
    }
   ],
   "source": [
    "y_pred_in = classifier.predict(X_train)\n",
    "cm = confusion_matrix(y_train, y_pred_in)\n",
    "print(cm)\n",
    "print(\"Accuracy: {:.2f} %\".format(accuracy_score(y_train, y_pred_in)*100))"
   ]
  },
  {
   "cell_type": "markdown",
   "metadata": {
    "id": "71fi2kP7oY83"
   },
   "source": [
    "Applying k-Fold Cross Validation(Decision Tree)"
   ]
  },
  {
   "cell_type": "code",
   "execution_count": 32,
   "metadata": {
    "colab": {
     "base_uri": "https://localhost:8080/",
     "height": 51
    },
    "id": "-8ZCHx2-oY83",
    "outputId": "9d8cc122-f1c1-4f3d-e7a9-349d5c3e443a"
   },
   "outputs": [
    {
     "name": "stdout",
     "output_type": "stream",
     "text": [
      "Accuracy: 96.67 %\n",
      "Standard Deviation: 0.24 %\n"
     ]
    }
   ],
   "source": [
    "accuracies = cross_val_score(estimator = classifier, X = X_train, y = y_train, cv = 10)\n",
    "print(\"Accuracy: {:.2f} %\".format(accuracies.mean()*100))\n",
    "print(\"Standard Deviation: {:.2f} %\".format(accuracies.std()*100))"
   ]
  },
  {
   "cell_type": "code",
   "execution_count": 33,
   "metadata": {
    "colab": {
     "base_uri": "https://localhost:8080/",
     "height": 265
    },
    "id": "tnK74WqsGtzr",
    "outputId": "12e16ed7-8746-494d-cbff-bc8426fbad0c"
   },
   "outputs": [
    {
     "name": "stdout",
     "output_type": "stream",
     "text": [
      "0.40844011306762695\n"
     ]
    },
    {
     "data": {
      "image/png": "[encoded data removed]",
      "text/plain": [
       "<Figure size 432x288 with 1 Axes>"
      ]
     },
     "metadata": {
      "needs_background": "light",
      "tags": []
     },
     "output_type": "display_data"
    }
   ],
   "source": [
    "tree.plot_tree(classifier) \n",
    "tEnd = time.time()\n",
    "print(tEnd - tStart)"
   ]
  },
  {
   "cell_type": "markdown",
   "metadata": {
    "id": "rYkkCyOTHIu6"
   },
   "source": [
    "### **Second Tree**"
   ]
  },
  {
   "cell_type": "markdown",
   "metadata": {
    "id": "ULJSx4J3HIu6"
   },
   "source": [
    "Training the Decision Tree Classification model on the Training set"
   ]
  },
  {
   "cell_type": "code",
   "execution_count": 34,
   "metadata": {
    "id": "eUvnpazI2J8h"
   },
   "outputs": [],
   "source": [
    "tStart2 = time.time()"
   ]
  },
  {
   "cell_type": "code",
   "execution_count": 35,
   "metadata": {
    "colab": {
     "base_uri": "https://localhost:8080/",
     "height": 68
    },
    "id": "UdflNgWfHIu7",
    "outputId": "a43b0737-6800-4103-befa-b966c2d7c80d"
   },
   "outputs": [
    {
     "name": "stdout",
     "output_type": "stream",
     "text": [
      "[[  36   61]\n",
      " [  46 2485]]\n",
      "Accuracy: 95.93 %\n"
     ]
    }
   ],
   "source": [
    "classifier = DecisionTreeClassifier(criterion = 'entropy',splitter='best',random_state = 0)\n",
    "classifier.fit(X_train, y_train)\n",
    "y_pred = classifier.predict(X_test)\n",
    "cm = confusion_matrix(y_test, y_pred)\n",
    "print(cm)\n",
    "print(\"Accuracy: {:.2f} %\".format(accuracy_score(y_test, y_pred)*100))"
   ]
  },
  {
   "cell_type": "code",
   "execution_count": 36,
   "metadata": {
    "colab": {
     "base_uri": "https://localhost:8080/",
     "height": 68
    },
    "id": "2aIpDyGQHIu9",
    "outputId": "5224da31-643c-4c42-b171-d738706c7ca6"
   },
   "outputs": [
    {
     "name": "stdout",
     "output_type": "stream",
     "text": [
      "[[ 198    0]\n",
      " [   0 5934]]\n",
      "Accuracy: 100.00 %\n"
     ]
    }
   ],
   "source": [
    "y_pred_in = classifier.predict(X_train)\n",
    "cm = confusion_matrix(y_train, y_pred_in)\n",
    "print(cm)\n",
    "print(\"Accuracy: {:.2f} %\".format(accuracy_score(y_train, y_pred_in)*100))"
   ]
  },
  {
   "cell_type": "markdown",
   "metadata": {
    "id": "xfxYO7zNHIu_"
   },
   "source": [
    "Applying k-Fold Cross Validation(Decision Tree)"
   ]
  },
  {
   "cell_type": "code",
   "execution_count": 37,
   "metadata": {
    "colab": {
     "base_uri": "https://localhost:8080/",
     "height": 51
    },
    "id": "w_O_eGHLHIvA",
    "outputId": "f85b0958-9799-4f7c-861e-93e0b01ed5ef"
   },
   "outputs": [
    {
     "name": "stdout",
     "output_type": "stream",
     "text": [
      "Accuracy: 95.84 %\n",
      "Standard Deviation: 0.65 %\n"
     ]
    }
   ],
   "source": [
    "accuracies = cross_val_score(estimator = classifier, X = X_train, y = y_train, cv = 10)\n",
    "print(\"Accuracy: {:.2f} %\".format(accuracies.mean()*100))\n",
    "print(\"Standard Deviation: {:.2f} %\".format(accuracies.std()*100))"
   ]
  },
  {
   "cell_type": "code",
   "execution_count": 38,
   "metadata": {
    "colab": {
     "base_uri": "https://localhost:8080/",
     "height": 265
    },
    "id": "upQQIQfYHq87",
    "outputId": "c97c3b22-8fac-4cf4-b29c-bbba3b37b284"
   },
   "outputs": [
    {
     "name": "stdout",
     "output_type": "stream",
     "text": [
      "0.7791218757629395\n"
     ]
    },
    {
     "data": {
      "image/png": "[encoded data removed]",
      "text/plain": [
       "<Figure size 432x288 with 1 Axes>"
      ]
     },
     "metadata": {
      "needs_background": "light",
      "tags": []
     },
     "output_type": "display_data"
    }
   ],
   "source": [
    "tStart = time.time()\n",
    "tree.plot_tree(classifier) \n",
    "tEnd = time.time()\n",
    "print(tEnd - tStart)"
   ]
  },
  {
   "cell_type": "code",
   "execution_count": 39,
   "metadata": {
    "colab": {
     "base_uri": "https://localhost:8080/",
     "height": 51
    },
    "id": "kbfqF1HQwZo6",
    "outputId": "0505b37a-e42c-4d1a-cbf9-397840bae308"
   },
   "outputs": [
    {
     "name": "stdout",
     "output_type": "stream",
     "text": [
      "Accuracy: 94.94 %\n",
      "Standard Deviation: 1.08 %\n"
     ]
    }
   ],
   "source": [
    "accuracies = cross_val_score(estimator = classifier,X = X_test, y = y_test, cv = 10)\n",
    "print(\"Accuracy: {:.2f} %\".format(accuracies.mean()*100))\n",
    "print(\"Standard Deviation: {:.2f} %\".format(accuracies.std()*100))"
   ]
  },
  {
   "cell_type": "code",
   "execution_count": 40,
   "metadata": {
    "colab": {
     "base_uri": "https://localhost:8080/",
     "height": 34
    },
    "id": "Xy74sGyF2MYm",
    "outputId": "72b08bf8-d91a-4278-c51f-c06fd64ba891"
   },
   "outputs": [
    {
     "name": "stdout",
     "output_type": "stream",
     "text": [
      "11.516032218933105\n"
     ]
    }
   ],
   "source": [
    "tEnd2 = time.time()\n",
    "print(tEnd2 - tStart2)"
   ]
  },
  {
   "cell_type": "markdown",
   "metadata": {
    "id": "UVcgLzZQTscT"
   },
   "source": [
    "## **Boosting (AdaBoost)**"
   ]
  },
  {
   "cell_type": "code",
   "execution_count": 41,
   "metadata": {
    "id": "vH20oiTonwb-"
   },
   "outputs": [],
   "source": [
    "X_train, X_test, y_train, y_test = train_test_split(X, y, test_size = 0.3, random_state = 0) # Change train and test set\n",
    "X_train = sc.fit_transform(X_train)\n",
    "X_test = sc.fit_transform(X_test)\n",
    "# Tree ready X_train, X_test, y_train, y_test"
   ]
  },
  {
   "cell_type": "markdown",
   "metadata": {
    "id": "1Y89ctGZ7Mcx"
   },
   "source": [
    "Training AdaBoost on the Training set"
   ]
  },
  {
   "cell_type": "code",
   "execution_count": 42,
   "metadata": {
    "colab": {
     "base_uri": "https://localhost:8080/",
     "height": 51
    },
    "id": "Xb-xtpLHWKPg",
    "outputId": "386f22fb-f5ed-49f9-df7e-996986f71f2b"
   },
   "outputs": [
    {
     "data": {
      "text/plain": [
       "AdaBoostClassifier(algorithm='SAMME.R', base_estimator=None, learning_rate=1.0,\n",
       "                   n_estimators=50, random_state=None)"
      ]
     },
     "execution_count": 42,
     "metadata": {
      "tags": []
     },
     "output_type": "execute_result"
    }
   ],
   "source": [
    "from sklearn.ensemble import AdaBoostClassifier\n",
    "classifier = AdaBoostClassifier()\n",
    "classifier.fit(X_train, y_train)"
   ]
  },
  {
   "cell_type": "markdown",
   "metadata": {
    "id": "v0bhnTTpn6KC"
   },
   "source": [
    "Training set results and Confusion Matrix"
   ]
  },
  {
   "cell_type": "code",
   "execution_count": 43,
   "metadata": {
    "colab": {
     "base_uri": "https://localhost:8080/",
     "height": 68
    },
    "id": "0YTH-gYYn6KC",
    "outputId": "6242b388-82e3-4364-bba3-c0049587baf3"
   },
   "outputs": [
    {
     "name": "stdout",
     "output_type": "stream",
     "text": [
      "[[   2  196]\n",
      " [   4 5930]]\n",
      "Accuracy: 96.74 %\n"
     ]
    }
   ],
   "source": [
    "y_pred_in = classifier.predict(X_train)\n",
    "cm = confusion_matrix(y_train, y_pred_in)\n",
    "print(cm)\n",
    "print(\"Accuracy: {:.2f} %\".format(accuracy_score(y_train, y_pred_in)*100))"
   ]
  },
  {
   "cell_type": "markdown",
   "metadata": {
    "id": "EnbCjHgQ8XPn"
   },
   "source": [
    "Applying k-Fold Cross Validation"
   ]
  },
  {
   "cell_type": "code",
   "execution_count": 44,
   "metadata": {
    "colab": {
     "base_uri": "https://localhost:8080/",
     "height": 51
    },
    "id": "yYbfiITD8ZAz",
    "outputId": "730ff3cb-77c7-4398-b78a-d12831b01053"
   },
   "outputs": [
    {
     "name": "stdout",
     "output_type": "stream",
     "text": [
      "Accuracy: 96.54 %\n",
      "Standard Deviation: 0.19 %\n"
     ]
    }
   ],
   "source": [
    "accuracies = cross_val_score(estimator = classifier, X = X_train, y = y_train, cv = 10)\n",
    "print(\"Accuracy: {:.2f} %\".format(accuracies.mean()*100))\n",
    "print(\"Standard Deviation: {:.2f} %\".format(accuracies.std()*100))"
   ]
  },
  {
   "cell_type": "markdown",
   "metadata": {
    "id": "ivqmubzW7dFJ"
   },
   "source": [
    "Making the Confusion Matrix"
   ]
  },
  {
   "cell_type": "code",
   "execution_count": 45,
   "metadata": {
    "colab": {
     "base_uri": "https://localhost:8080/",
     "height": 68
    },
    "id": "SUSZ3zm_7gRD",
    "outputId": "03bc6b3c-6df9-4cd3-8239-0a89e0cec055"
   },
   "outputs": [
    {
     "name": "stdout",
     "output_type": "stream",
     "text": [
      "[[   1   96]\n",
      " [   0 2531]]\n",
      "Accuracy: 96.35 %\n"
     ]
    }
   ],
   "source": [
    "y_pred = classifier.predict(X_test)\n",
    "cm = confusion_matrix(y_test, y_pred)\n",
    "print(cm)\n",
    "print(\"Accuracy: {:.2f} %\".format(accuracy_score(y_test, y_pred)*100))"
   ]
  },
  {
   "cell_type": "code",
   "execution_count": 46,
   "metadata": {
    "colab": {
     "base_uri": "https://localhost:8080/",
     "height": 51
    },
    "id": "mb7Uc3qlww-D",
    "outputId": "ee570142-8d27-44c6-97f3-8d293f7bb355"
   },
   "outputs": [
    {
     "name": "stdout",
     "output_type": "stream",
     "text": [
      "Accuracy: 95.89 %\n",
      "Standard Deviation: 0.48 %\n"
     ]
    }
   ],
   "source": [
    "accuracies = cross_val_score(estimator = classifier,X = X_test, y = y_test, cv = 10)\n",
    "print(\"Accuracy: {:.2f} %\".format(accuracies.mean()*100))\n",
    "print(\"Standard Deviation: {:.2f} %\".format(accuracies.std()*100))"
   ]
  },
  {
   "cell_type": "markdown",
   "metadata": {
    "id": "3AbmmNona5t_"
   },
   "source": [
    "# **IBM HR Dataset Processing**"
   ]
  },
  {
   "cell_type": "markdown",
   "metadata": {
    "id": "gJSkrsqWa5uA"
   },
   "source": [
    "### **Data Processing**"
   ]
  },
  {
   "cell_type": "code",
   "execution_count": 47,
   "metadata": {
    "id": "_SCae5GZa5uB"
   },
   "outputs": [],
   "source": [
    "import numpy as np\n",
    "import matplotlib.pyplot as plt\n",
    "import pandas as pd\n",
    "from sklearn.compose import ColumnTransformer\n",
    "from sklearn.preprocessing import OneHotEncoder, LabelEncoder, StandardScaler\n",
    "import collections, numpy\n",
    "from sklearn.model_selection import train_test_split, cross_val_score\n",
    "from sklearn.svm import SVC\n",
    "from sklearn.metrics import confusion_matrix, accuracy_score\n",
    "from sklearn.tree import DecisionTreeClassifier\n",
    "from sklearn import tree\n",
    "from sklearn.preprocessing import OrdinalEncoder"
   ]
  },
  {
   "cell_type": "code",
   "execution_count": 48,
   "metadata": {
    "colab": {
     "base_uri": "https://localhost:8080/",
     "height": 213
    },
    "id": "ezn9nppTa5uF",
    "outputId": "c1692e63-bf2e-4aad-bc82-76f27c83d7d1"
   },
   "outputs": [
    {
     "data": {
      "text/html": [
       "<div>\n",
       "<style scoped>\n",
       "    .dataframe tbody tr th:only-of-type {\n",
       "        vertical-align: middle;\n",
       "    }\n",
       "\n",
       "    .dataframe tbody tr th {\n",
       "        vertical-align: top;\n",
       "    }\n",
       "\n",
       "    .dataframe thead th {\n",
       "        text-align: right;\n",
       "    }\n",
       "</style>\n",
       "<table border=\"1\" class=\"dataframe\">\n",
       "  <thead>\n",
       "    <tr style=\"text-align: right;\">\n",
       "      <th></th>\n",
       "      <th>Age</th>\n",
       "      <th>Attrition</th>\n",
       "      <th>BusinessTravel</th>\n",
       "      <th>DailyRate</th>\n",
       "      <th>Department</th>\n",
       "      <th>DistanceFromHome</th>\n",
       "      <th>Education</th>\n",
       "      <th>EducationField</th>\n",
       "      <th>EmployeeCount</th>\n",
       "      <th>EmployeeNumber</th>\n",
       "      <th>EnvironmentSatisfaction</th>\n",
       "      <th>Gender</th>\n",
       "      <th>HourlyRate</th>\n",
       "      <th>JobInvolvement</th>\n",
       "      <th>JobLevel</th>\n",
       "      <th>JobRole</th>\n",
       "      <th>JobSatisfaction</th>\n",
       "      <th>MaritalStatus</th>\n",
       "      <th>MonthlyIncome</th>\n",
       "      <th>MonthlyRate</th>\n",
       "      <th>NumCompaniesWorked</th>\n",
       "      <th>Over18</th>\n",
       "      <th>OverTime</th>\n",
       "      <th>PercentSalaryHike</th>\n",
       "      <th>PerformanceRating</th>\n",
       "      <th>RelationshipSatisfaction</th>\n",
       "      <th>StandardHours</th>\n",
       "      <th>StockOptionLevel</th>\n",
       "      <th>TotalWorkingYears</th>\n",
       "      <th>TrainingTimesLastYear</th>\n",
       "      <th>WorkLifeBalance</th>\n",
       "      <th>YearsAtCompany</th>\n",
       "      <th>YearsInCurrentRole</th>\n",
       "      <th>YearsSinceLastPromotion</th>\n",
       "      <th>YearsWithCurrManager</th>\n",
       "    </tr>\n",
       "  </thead>\n",
       "  <tbody>\n",
       "    <tr>\n",
       "      <th>0</th>\n",
       "      <td>41</td>\n",
       "      <td>Yes</td>\n",
       "      <td>Travel_Rarely</td>\n",
       "      <td>1102</td>\n",
       "      <td>Sales</td>\n",
       "      <td>1</td>\n",
       "      <td>2</td>\n",
       "      <td>Life Sciences</td>\n",
       "      <td>1</td>\n",
       "      <td>1</td>\n",
       "      <td>2</td>\n",
       "      <td>Female</td>\n",
       "      <td>94</td>\n",
       "      <td>3</td>\n",
       "      <td>2</td>\n",
       "      <td>Sales Executive</td>\n",
       "      <td>4</td>\n",
       "      <td>Single</td>\n",
       "      <td>5993</td>\n",
       "      <td>19479</td>\n",
       "      <td>8</td>\n",
       "      <td>Y</td>\n",
       "      <td>Yes</td>\n",
       "      <td>11</td>\n",
       "      <td>3</td>\n",
       "      <td>1</td>\n",
       "      <td>80</td>\n",
       "      <td>0</td>\n",
       "      <td>8</td>\n",
       "      <td>0</td>\n",
       "      <td>1</td>\n",
       "      <td>6</td>\n",
       "      <td>4</td>\n",
       "      <td>0</td>\n",
       "      <td>5</td>\n",
       "    </tr>\n",
       "    <tr>\n",
       "      <th>1</th>\n",
       "      <td>49</td>\n",
       "      <td>No</td>\n",
       "      <td>Travel_Frequently</td>\n",
       "      <td>279</td>\n",
       "      <td>Research &amp; Development</td>\n",
       "      <td>8</td>\n",
       "      <td>1</td>\n",
       "      <td>Life Sciences</td>\n",
       "      <td>1</td>\n",
       "      <td>2</td>\n",
       "      <td>3</td>\n",
       "      <td>Male</td>\n",
       "      <td>61</td>\n",
       "      <td>2</td>\n",
       "      <td>2</td>\n",
       "      <td>Research Scientist</td>\n",
       "      <td>2</td>\n",
       "      <td>Married</td>\n",
       "      <td>5130</td>\n",
       "      <td>24907</td>\n",
       "      <td>1</td>\n",
       "      <td>Y</td>\n",
       "      <td>No</td>\n",
       "      <td>23</td>\n",
       "      <td>4</td>\n",
       "      <td>4</td>\n",
       "      <td>80</td>\n",
       "      <td>1</td>\n",
       "      <td>10</td>\n",
       "      <td>3</td>\n",
       "      <td>3</td>\n",
       "      <td>10</td>\n",
       "      <td>7</td>\n",
       "      <td>1</td>\n",
       "      <td>7</td>\n",
       "    </tr>\n",
       "    <tr>\n",
       "      <th>2</th>\n",
       "      <td>37</td>\n",
       "      <td>Yes</td>\n",
       "      <td>Travel_Rarely</td>\n",
       "      <td>1373</td>\n",
       "      <td>Research &amp; Development</td>\n",
       "      <td>2</td>\n",
       "      <td>2</td>\n",
       "      <td>Other</td>\n",
       "      <td>1</td>\n",
       "      <td>4</td>\n",
       "      <td>4</td>\n",
       "      <td>Male</td>\n",
       "      <td>92</td>\n",
       "      <td>2</td>\n",
       "      <td>1</td>\n",
       "      <td>Laboratory Technician</td>\n",
       "      <td>3</td>\n",
       "      <td>Single</td>\n",
       "      <td>2090</td>\n",
       "      <td>2396</td>\n",
       "      <td>6</td>\n",
       "      <td>Y</td>\n",
       "      <td>Yes</td>\n",
       "      <td>15</td>\n",
       "      <td>3</td>\n",
       "      <td>2</td>\n",
       "      <td>80</td>\n",
       "      <td>0</td>\n",
       "      <td>7</td>\n",
       "      <td>3</td>\n",
       "      <td>3</td>\n",
       "      <td>0</td>\n",
       "      <td>0</td>\n",
       "      <td>0</td>\n",
       "      <td>0</td>\n",
       "    </tr>\n",
       "  </tbody>\n",
       "</table>\n",
       "</div>"
      ],
      "text/plain": [
       "   Age Attrition  ... YearsSinceLastPromotion  YearsWithCurrManager\n",
       "0   41       Yes  ...                       0                     5\n",
       "1   49        No  ...                       1                     7\n",
       "2   37       Yes  ...                       0                     0\n",
       "\n",
       "[3 rows x 35 columns]"
      ]
     },
     "execution_count": 48,
     "metadata": {
      "tags": []
     },
     "output_type": "execute_result"
    }
   ],
   "source": [
    "dataset = pd.read_csv(\"/content/WA_Fn-UseC_-HR-Employee-Attrition.csv\") \n",
    "dataset.head(3) # view the data\n",
    "# dataset.dtypes\n"
   ]
  },
  {
   "cell_type": "code",
   "execution_count": 49,
   "metadata": {
    "id": "IMo2m1q8a5uJ"
   },
   "outputs": [],
   "source": [
    "# dataset.isnull().sum() # check the Missing Data"
   ]
  },
  {
   "cell_type": "code",
   "execution_count": 50,
   "metadata": {
    "id": "Onmz2V0va5uL"
   },
   "outputs": [],
   "source": [
    "# dataset.dtypes #PerformanceRating"
   ]
  },
  {
   "cell_type": "code",
   "execution_count": 51,
   "metadata": {
    "colab": {
     "base_uri": "https://localhost:8080/",
     "height": 213
    },
    "id": "M4RBcyfpa5uO",
    "outputId": "395e3e60-bfce-4db8-9e64-cc84afd337ea"
   },
   "outputs": [
    {
     "data": {
      "text/html": [
       "<div>\n",
       "<style scoped>\n",
       "    .dataframe tbody tr th:only-of-type {\n",
       "        vertical-align: middle;\n",
       "    }\n",
       "\n",
       "    .dataframe tbody tr th {\n",
       "        vertical-align: top;\n",
       "    }\n",
       "\n",
       "    .dataframe thead th {\n",
       "        text-align: right;\n",
       "    }\n",
       "</style>\n",
       "<table border=\"1\" class=\"dataframe\">\n",
       "  <thead>\n",
       "    <tr style=\"text-align: right;\">\n",
       "      <th></th>\n",
       "      <th>Age</th>\n",
       "      <th>Attrition</th>\n",
       "      <th>BusinessTravel</th>\n",
       "      <th>DailyRate</th>\n",
       "      <th>Department</th>\n",
       "      <th>DistanceFromHome</th>\n",
       "      <th>Education</th>\n",
       "      <th>EducationField</th>\n",
       "      <th>EmployeeCount</th>\n",
       "      <th>EmployeeNumber</th>\n",
       "      <th>EnvironmentSatisfaction</th>\n",
       "      <th>Gender</th>\n",
       "      <th>HourlyRate</th>\n",
       "      <th>JobInvolvement</th>\n",
       "      <th>JobLevel</th>\n",
       "      <th>JobRole</th>\n",
       "      <th>JobSatisfaction</th>\n",
       "      <th>MaritalStatus</th>\n",
       "      <th>MonthlyIncome</th>\n",
       "      <th>MonthlyRate</th>\n",
       "      <th>NumCompaniesWorked</th>\n",
       "      <th>Over18</th>\n",
       "      <th>OverTime</th>\n",
       "      <th>PerformanceRating</th>\n",
       "      <th>RelationshipSatisfaction</th>\n",
       "      <th>StandardHours</th>\n",
       "      <th>StockOptionLevel</th>\n",
       "      <th>TotalWorkingYears</th>\n",
       "      <th>TrainingTimesLastYear</th>\n",
       "      <th>WorkLifeBalance</th>\n",
       "      <th>YearsAtCompany</th>\n",
       "      <th>YearsInCurrentRole</th>\n",
       "      <th>YearsSinceLastPromotion</th>\n",
       "      <th>YearsWithCurrManager</th>\n",
       "    </tr>\n",
       "  </thead>\n",
       "  <tbody>\n",
       "    <tr>\n",
       "      <th>0</th>\n",
       "      <td>41</td>\n",
       "      <td>Yes</td>\n",
       "      <td>Travel_Rarely</td>\n",
       "      <td>1102</td>\n",
       "      <td>Sales</td>\n",
       "      <td>1</td>\n",
       "      <td>2</td>\n",
       "      <td>Life Sciences</td>\n",
       "      <td>1</td>\n",
       "      <td>1</td>\n",
       "      <td>2</td>\n",
       "      <td>Female</td>\n",
       "      <td>94</td>\n",
       "      <td>3</td>\n",
       "      <td>2</td>\n",
       "      <td>Sales Executive</td>\n",
       "      <td>4</td>\n",
       "      <td>Single</td>\n",
       "      <td>5993</td>\n",
       "      <td>19479</td>\n",
       "      <td>8</td>\n",
       "      <td>Y</td>\n",
       "      <td>Yes</td>\n",
       "      <td>3</td>\n",
       "      <td>1</td>\n",
       "      <td>80</td>\n",
       "      <td>0</td>\n",
       "      <td>8</td>\n",
       "      <td>0</td>\n",
       "      <td>1</td>\n",
       "      <td>6</td>\n",
       "      <td>4</td>\n",
       "      <td>0</td>\n",
       "      <td>5</td>\n",
       "    </tr>\n",
       "    <tr>\n",
       "      <th>1</th>\n",
       "      <td>49</td>\n",
       "      <td>No</td>\n",
       "      <td>Travel_Frequently</td>\n",
       "      <td>279</td>\n",
       "      <td>Research &amp; Development</td>\n",
       "      <td>8</td>\n",
       "      <td>1</td>\n",
       "      <td>Life Sciences</td>\n",
       "      <td>1</td>\n",
       "      <td>2</td>\n",
       "      <td>3</td>\n",
       "      <td>Male</td>\n",
       "      <td>61</td>\n",
       "      <td>2</td>\n",
       "      <td>2</td>\n",
       "      <td>Research Scientist</td>\n",
       "      <td>2</td>\n",
       "      <td>Married</td>\n",
       "      <td>5130</td>\n",
       "      <td>24907</td>\n",
       "      <td>1</td>\n",
       "      <td>Y</td>\n",
       "      <td>No</td>\n",
       "      <td>4</td>\n",
       "      <td>4</td>\n",
       "      <td>80</td>\n",
       "      <td>1</td>\n",
       "      <td>10</td>\n",
       "      <td>3</td>\n",
       "      <td>3</td>\n",
       "      <td>10</td>\n",
       "      <td>7</td>\n",
       "      <td>1</td>\n",
       "      <td>7</td>\n",
       "    </tr>\n",
       "    <tr>\n",
       "      <th>2</th>\n",
       "      <td>37</td>\n",
       "      <td>Yes</td>\n",
       "      <td>Travel_Rarely</td>\n",
       "      <td>1373</td>\n",
       "      <td>Research &amp; Development</td>\n",
       "      <td>2</td>\n",
       "      <td>2</td>\n",
       "      <td>Other</td>\n",
       "      <td>1</td>\n",
       "      <td>4</td>\n",
       "      <td>4</td>\n",
       "      <td>Male</td>\n",
       "      <td>92</td>\n",
       "      <td>2</td>\n",
       "      <td>1</td>\n",
       "      <td>Laboratory Technician</td>\n",
       "      <td>3</td>\n",
       "      <td>Single</td>\n",
       "      <td>2090</td>\n",
       "      <td>2396</td>\n",
       "      <td>6</td>\n",
       "      <td>Y</td>\n",
       "      <td>Yes</td>\n",
       "      <td>3</td>\n",
       "      <td>2</td>\n",
       "      <td>80</td>\n",
       "      <td>0</td>\n",
       "      <td>7</td>\n",
       "      <td>3</td>\n",
       "      <td>3</td>\n",
       "      <td>0</td>\n",
       "      <td>0</td>\n",
       "      <td>0</td>\n",
       "      <td>0</td>\n",
       "    </tr>\n",
       "  </tbody>\n",
       "</table>\n",
       "</div>"
      ],
      "text/plain": [
       "   Age Attrition  ... YearsSinceLastPromotion  YearsWithCurrManager\n",
       "0   41       Yes  ...                       0                     5\n",
       "1   49        No  ...                       1                     7\n",
       "2   37       Yes  ...                       0                     0\n",
       "\n",
       "[3 rows x 34 columns]"
      ]
     },
     "execution_count": 51,
     "metadata": {
      "tags": []
     },
     "output_type": "execute_result"
    }
   ],
   "source": [
    "dataset = dataset.drop(['PercentSalaryHike'], axis=1) \n",
    "dataset.head(3) # view the data"
   ]
  },
  {
   "cell_type": "code",
   "execution_count": 52,
   "metadata": {
    "colab": {
     "base_uri": "https://localhost:8080/",
     "height": 213
    },
    "id": "DfOAdwUVa5uR",
    "outputId": "c77a84b9-3ac9-4098-e306-bc925ace3fc6"
   },
   "outputs": [
    {
     "data": {
      "text/html": [
       "<div>\n",
       "<style scoped>\n",
       "    .dataframe tbody tr th:only-of-type {\n",
       "        vertical-align: middle;\n",
       "    }\n",
       "\n",
       "    .dataframe tbody tr th {\n",
       "        vertical-align: top;\n",
       "    }\n",
       "\n",
       "    .dataframe thead th {\n",
       "        text-align: right;\n",
       "    }\n",
       "</style>\n",
       "<table border=\"1\" class=\"dataframe\">\n",
       "  <thead>\n",
       "    <tr style=\"text-align: right;\">\n",
       "      <th></th>\n",
       "      <th>PerformanceRating</th>\n",
       "      <th>Age</th>\n",
       "      <th>Attrition</th>\n",
       "      <th>BusinessTravel</th>\n",
       "      <th>DailyRate</th>\n",
       "      <th>Department</th>\n",
       "      <th>DistanceFromHome</th>\n",
       "      <th>Education</th>\n",
       "      <th>EducationField</th>\n",
       "      <th>EmployeeCount</th>\n",
       "      <th>EmployeeNumber</th>\n",
       "      <th>EnvironmentSatisfaction</th>\n",
       "      <th>Gender</th>\n",
       "      <th>HourlyRate</th>\n",
       "      <th>JobInvolvement</th>\n",
       "      <th>JobLevel</th>\n",
       "      <th>JobRole</th>\n",
       "      <th>JobSatisfaction</th>\n",
       "      <th>MaritalStatus</th>\n",
       "      <th>MonthlyIncome</th>\n",
       "      <th>MonthlyRate</th>\n",
       "      <th>NumCompaniesWorked</th>\n",
       "      <th>Over18</th>\n",
       "      <th>OverTime</th>\n",
       "      <th>RelationshipSatisfaction</th>\n",
       "      <th>StandardHours</th>\n",
       "      <th>StockOptionLevel</th>\n",
       "      <th>TotalWorkingYears</th>\n",
       "      <th>TrainingTimesLastYear</th>\n",
       "      <th>WorkLifeBalance</th>\n",
       "      <th>YearsAtCompany</th>\n",
       "      <th>YearsInCurrentRole</th>\n",
       "      <th>YearsSinceLastPromotion</th>\n",
       "      <th>YearsWithCurrManager</th>\n",
       "    </tr>\n",
       "  </thead>\n",
       "  <tbody>\n",
       "    <tr>\n",
       "      <th>0</th>\n",
       "      <td>3</td>\n",
       "      <td>41</td>\n",
       "      <td>Yes</td>\n",
       "      <td>Travel_Rarely</td>\n",
       "      <td>1102</td>\n",
       "      <td>Sales</td>\n",
       "      <td>1</td>\n",
       "      <td>2</td>\n",
       "      <td>Life Sciences</td>\n",
       "      <td>1</td>\n",
       "      <td>1</td>\n",
       "      <td>2</td>\n",
       "      <td>Female</td>\n",
       "      <td>94</td>\n",
       "      <td>3</td>\n",
       "      <td>2</td>\n",
       "      <td>Sales Executive</td>\n",
       "      <td>4</td>\n",
       "      <td>Single</td>\n",
       "      <td>5993</td>\n",
       "      <td>19479</td>\n",
       "      <td>8</td>\n",
       "      <td>Y</td>\n",
       "      <td>Yes</td>\n",
       "      <td>1</td>\n",
       "      <td>80</td>\n",
       "      <td>0</td>\n",
       "      <td>8</td>\n",
       "      <td>0</td>\n",
       "      <td>1</td>\n",
       "      <td>6</td>\n",
       "      <td>4</td>\n",
       "      <td>0</td>\n",
       "      <td>5</td>\n",
       "    </tr>\n",
       "    <tr>\n",
       "      <th>1</th>\n",
       "      <td>4</td>\n",
       "      <td>49</td>\n",
       "      <td>No</td>\n",
       "      <td>Travel_Frequently</td>\n",
       "      <td>279</td>\n",
       "      <td>Research &amp; Development</td>\n",
       "      <td>8</td>\n",
       "      <td>1</td>\n",
       "      <td>Life Sciences</td>\n",
       "      <td>1</td>\n",
       "      <td>2</td>\n",
       "      <td>3</td>\n",
       "      <td>Male</td>\n",
       "      <td>61</td>\n",
       "      <td>2</td>\n",
       "      <td>2</td>\n",
       "      <td>Research Scientist</td>\n",
       "      <td>2</td>\n",
       "      <td>Married</td>\n",
       "      <td>5130</td>\n",
       "      <td>24907</td>\n",
       "      <td>1</td>\n",
       "      <td>Y</td>\n",
       "      <td>No</td>\n",
       "      <td>4</td>\n",
       "      <td>80</td>\n",
       "      <td>1</td>\n",
       "      <td>10</td>\n",
       "      <td>3</td>\n",
       "      <td>3</td>\n",
       "      <td>10</td>\n",
       "      <td>7</td>\n",
       "      <td>1</td>\n",
       "      <td>7</td>\n",
       "    </tr>\n",
       "    <tr>\n",
       "      <th>2</th>\n",
       "      <td>3</td>\n",
       "      <td>37</td>\n",
       "      <td>Yes</td>\n",
       "      <td>Travel_Rarely</td>\n",
       "      <td>1373</td>\n",
       "      <td>Research &amp; Development</td>\n",
       "      <td>2</td>\n",
       "      <td>2</td>\n",
       "      <td>Other</td>\n",
       "      <td>1</td>\n",
       "      <td>4</td>\n",
       "      <td>4</td>\n",
       "      <td>Male</td>\n",
       "      <td>92</td>\n",
       "      <td>2</td>\n",
       "      <td>1</td>\n",
       "      <td>Laboratory Technician</td>\n",
       "      <td>3</td>\n",
       "      <td>Single</td>\n",
       "      <td>2090</td>\n",
       "      <td>2396</td>\n",
       "      <td>6</td>\n",
       "      <td>Y</td>\n",
       "      <td>Yes</td>\n",
       "      <td>2</td>\n",
       "      <td>80</td>\n",
       "      <td>0</td>\n",
       "      <td>7</td>\n",
       "      <td>3</td>\n",
       "      <td>3</td>\n",
       "      <td>0</td>\n",
       "      <td>0</td>\n",
       "      <td>0</td>\n",
       "      <td>0</td>\n",
       "    </tr>\n",
       "  </tbody>\n",
       "</table>\n",
       "</div>"
      ],
      "text/plain": [
       "   PerformanceRating  Age  ... YearsSinceLastPromotion YearsWithCurrManager\n",
       "0                  3   41  ...                       0                    5\n",
       "1                  4   49  ...                       1                    7\n",
       "2                  3   37  ...                       0                    0\n",
       "\n",
       "[3 rows x 34 columns]"
      ]
     },
     "execution_count": 52,
     "metadata": {
      "tags": []
     },
     "output_type": "execute_result"
    }
   ],
   "source": [
    "PerformanceRating = dataset['PerformanceRating']\n",
    "dataset.drop(labels=['PerformanceRating'], axis=1, inplace = True)\n",
    "dataset.insert(0, 'PerformanceRating', PerformanceRating)\n",
    "dataset.head(3)"
   ]
  },
  {
   "cell_type": "code",
   "execution_count": 53,
   "metadata": {
    "id": "mgRPN8kxa5uT"
   },
   "outputs": [],
   "source": [
    "X = dataset.iloc[:, 1:].values\n",
    "y = dataset.iloc[:, 0].values"
   ]
  },
  {
   "cell_type": "code",
   "execution_count": 54,
   "metadata": {
    "colab": {
     "base_uri": "https://localhost:8080/",
     "height": 85
    },
    "id": "ZTyRDDG_a5uV",
    "outputId": "aad1b103-f7e9-41b0-eb9e-b04a6c99840d"
   },
   "outputs": [
    {
     "name": "stdout",
     "output_type": "stream",
     "text": [
      "[41 'Yes' 'Travel_Rarely' 1102 'Sales' 1 2 'Life Sciences' 1 1 2 'Female'\n",
      " 94 3 2 'Sales Executive' 4 'Single' 5993 19479 8 'Y' 'Yes' 1 80 0 8 0 1 6\n",
      " 4 0 5]\n",
      "[3 4 3 ... 4 3 3]\n"
     ]
    }
   ],
   "source": [
    "print(X[0])\n",
    "print(y)"
   ]
  },
  {
   "cell_type": "code",
   "execution_count": 55,
   "metadata": {
    "colab": {
     "base_uri": "https://localhost:8080/",
     "height": 51
    },
    "id": "giGfVN2Aa5uX",
    "outputId": "09383261-898c-4230-9ce9-0f440a44a2c7"
   },
   "outputs": [
    {
     "name": "stdout",
     "output_type": "stream",
     "text": [
      "[1.0 2.0 2.0 1.0 0.0 7.0 0.0 1.0 2.0 41 1102 1 2 1 1 2 94 3 2 4 5993 19479\n",
      " 8 1 80 0 8 0 1 6 4 0 5]\n"
     ]
    }
   ],
   "source": [
    "ct = ColumnTransformer(transformers=[('encoder', OrdinalEncoder(), [1,2,4,7,11,15,21,22,17])], remainder='passthrough')\n",
    "X = np.array(ct.fit_transform(X))\n",
    "print(X[0])"
   ]
  },
  {
   "cell_type": "markdown",
   "metadata": {
    "id": "CgC1AUDva5uZ"
   },
   "source": [
    "Encoding the Dependent Variable"
   ]
  },
  {
   "cell_type": "code",
   "execution_count": 56,
   "metadata": {
    "colab": {
     "base_uri": "https://localhost:8080/",
     "height": 51
    },
    "id": "czOLMzzRa5uZ",
    "outputId": "fb8e22c2-85b3-4a58-df99-f56f9042e5be"
   },
   "outputs": [
    {
     "name": "stdout",
     "output_type": "stream",
     "text": [
      "Counter({0: 1244, 1: 226})\n",
      "[0 1 0 ... 1 0 0]\n"
     ]
    }
   ],
   "source": [
    "le = LabelEncoder()\n",
    "y = le.fit_transform(y)\n",
    "print(collections.Counter(y)) # 3 is 1244(0), 4 is 226(1), check whether is binary classification.\n",
    "print(y)"
   ]
  },
  {
   "cell_type": "code",
   "execution_count": 57,
   "metadata": {
    "colab": {
     "base_uri": "https://localhost:8080/",
     "height": 34
    },
    "id": "QkSecIiKh8iW",
    "outputId": "a022fece-ed25-4c16-e9bd-53db2bebe39e"
   },
   "outputs": [
    {
     "name": "stdout",
     "output_type": "stream",
     "text": [
      "(1029, 33) (441, 33) (1029,) (441,)\n"
     ]
    }
   ],
   "source": [
    "X_train, X_test, y_train, y_test = train_test_split(X, y, test_size = 0.3, random_state = 0)\n",
    "print(X_train.shape, X_test.shape, y_train.shape, y_test.shape)"
   ]
  },
  {
   "cell_type": "markdown",
   "metadata": {
    "id": "SI0hcF3za5ub"
   },
   "source": [
    "## **Support Vector Machine**"
   ]
  },
  {
   "cell_type": "code",
   "execution_count": 58,
   "metadata": {
    "id": "tkPFAyjwW3nV"
   },
   "outputs": [],
   "source": [
    "X_train, X_test, y_train, y_test = train_test_split(X, y, test_size = 0.3, random_state = 0)\n",
    "sc = StandardScaler()\n",
    "X_train = sc.fit_transform(X_train)\n",
    "X_test = sc.transform(X_test)"
   ]
  },
  {
   "cell_type": "markdown",
   "metadata": {
    "id": "va6QTwkna5ud"
   },
   "source": [
    "### **Training the SVM model on the Training set Kernel Function 1 (rbf)**"
   ]
  },
  {
   "cell_type": "code",
   "execution_count": 59,
   "metadata": {
    "colab": {
     "base_uri": "https://localhost:8080/",
     "height": 0
    },
    "id": "D4FOg_eTa5ue",
    "outputId": "77737a23-e704-4bf2-83e0-ae11b9eece64"
   },
   "outputs": [
    {
     "data": {
      "text/plain": [
       "SVC(C=1.0, break_ties=False, cache_size=200, class_weight=None, coef0=0.0,\n",
       "    decision_function_shape='ovr', degree=3, gamma='scale', kernel='rbf',\n",
       "    max_iter=-1, probability=False, random_state=0, shrinking=True, tol=0.001,\n",
       "    verbose=False)"
      ]
     },
     "execution_count": 59,
     "metadata": {
      "tags": []
     },
     "output_type": "execute_result"
    }
   ],
   "source": [
    "classifier = SVC(kernel = 'rbf', random_state = 0)\n",
    "classifier.fit(X_train, y_train)"
   ]
  },
  {
   "cell_type": "markdown",
   "metadata": {
    "id": "IxwPIpvYa5ug"
   },
   "source": [
    "Training set results and Confusion Matrix (SVM rbf)"
   ]
  },
  {
   "cell_type": "code",
   "execution_count": 60,
   "metadata": {
    "colab": {
     "base_uri": "https://localhost:8080/",
     "height": 0
    },
    "id": "qqlyXt-Da5ug",
    "outputId": "4e361c63-7dbf-4296-89f4-ae180cf8135e"
   },
   "outputs": [
    {
     "name": "stdout",
     "output_type": "stream",
     "text": [
      "[[870   0]\n",
      " [159   0]]\n",
      "Accuracy: 84.55 %\n"
     ]
    }
   ],
   "source": [
    "y_pred_in = classifier.predict(X_train)\n",
    "cm = confusion_matrix(y_train, y_pred_in)\n",
    "print(cm)\n",
    "print(\"Accuracy: {:.2f} %\".format(accuracy_score(y_train, y_pred_in)*100))"
   ]
  },
  {
   "cell_type": "markdown",
   "metadata": {
    "id": "OzUPo-aJa5ui"
   },
   "source": [
    "Applying k-Fold Cross Validation(SVM rbf)"
   ]
  },
  {
   "cell_type": "code",
   "execution_count": 61,
   "metadata": {
    "colab": {
     "base_uri": "https://localhost:8080/",
     "height": 0
    },
    "id": "7JtlXZ7Ba5ui",
    "outputId": "194cba9d-d362-42ae-b936-7599f055ebf8"
   },
   "outputs": [
    {
     "name": "stdout",
     "output_type": "stream",
     "text": [
      "Accuracy: 84.55 %\n",
      "Standard Deviation: 0.25 %\n"
     ]
    }
   ],
   "source": [
    "accuracies = cross_val_score(estimator = classifier,X = X_train, y = y_train, cv = 10)\n",
    "print(\"Accuracy: {:.2f} %\".format(accuracies.mean()*100))\n",
    "print(\"Standard Deviation: {:.2f} %\".format(accuracies.std()*100))"
   ]
  },
  {
   "cell_type": "markdown",
   "metadata": {
    "id": "q1bWOgLea5uk"
   },
   "source": [
    "Testing set results and Confusion Matrix (SVM rbf)"
   ]
  },
  {
   "cell_type": "code",
   "execution_count": 62,
   "metadata": {
    "colab": {
     "base_uri": "https://localhost:8080/",
     "height": 0
    },
    "id": "sFUyZroCa5uk",
    "outputId": "0a29dd83-cec0-4de4-9a5b-228f6c37c793"
   },
   "outputs": [
    {
     "name": "stdout",
     "output_type": "stream",
     "text": [
      "[[374   0]\n",
      " [ 67   0]]\n",
      "Accuracy: 84.81 %\n"
     ]
    }
   ],
   "source": [
    "y_pred = classifier.predict(X_test)\n",
    "cm = confusion_matrix(y_test, y_pred)\n",
    "print(cm)\n",
    "print(\"Accuracy: {:.2f} %\".format(accuracy_score(y_test, y_pred)*100))"
   ]
  },
  {
   "cell_type": "markdown",
   "metadata": {
    "id": "uqdyZLh0a5uo"
   },
   "source": [
    "### **Training the SVM model on the Training set Kernel Function 2 (sigmoid)**\n"
   ]
  },
  {
   "cell_type": "code",
   "execution_count": 63,
   "metadata": {
    "colab": {
     "base_uri": "https://localhost:8080/",
     "height": 0
    },
    "id": "cfe__KPEa5uo",
    "outputId": "87df7fb4-b3d9-46e6-90ad-810d0dce9441"
   },
   "outputs": [
    {
     "data": {
      "text/plain": [
       "SVC(C=1.0, break_ties=False, cache_size=200, class_weight=None, coef0=0.0,\n",
       "    decision_function_shape='ovr', degree=3, gamma='scale', kernel='sigmoid',\n",
       "    max_iter=-1, probability=False, random_state=0, shrinking=True, tol=0.001,\n",
       "    verbose=False)"
      ]
     },
     "execution_count": 63,
     "metadata": {
      "tags": []
     },
     "output_type": "execute_result"
    }
   ],
   "source": [
    "classifier = SVC(kernel = 'sigmoid', random_state = 0)\n",
    "classifier.fit(X_train, y_train)"
   ]
  },
  {
   "cell_type": "markdown",
   "metadata": {
    "id": "iySQMXloa5uq"
   },
   "source": [
    "Training set results and Confusion Matrix (SVM sigmoid)"
   ]
  },
  {
   "cell_type": "code",
   "execution_count": 64,
   "metadata": {
    "colab": {
     "base_uri": "https://localhost:8080/",
     "height": 0
    },
    "id": "ciusRIrBa5uq",
    "outputId": "fbbd9c08-522d-4853-caba-83a51e488110"
   },
   "outputs": [
    {
     "name": "stdout",
     "output_type": "stream",
     "text": [
      "[[861   9]\n",
      " [159   0]]\n",
      "Accuracy: 83.67 %\n"
     ]
    }
   ],
   "source": [
    "y_pred_in = classifier.predict(X_train)\n",
    "cm = confusion_matrix(y_train, y_pred_in)\n",
    "print(cm)\n",
    "print(\"Accuracy: {:.2f} %\".format(accuracy_score(y_train, y_pred_in)*100))"
   ]
  },
  {
   "cell_type": "markdown",
   "metadata": {
    "id": "oQO6CW33a5us"
   },
   "source": [
    "Applying k-Fold Cross Validation(SVM sigmoid)"
   ]
  },
  {
   "cell_type": "code",
   "execution_count": 65,
   "metadata": {
    "colab": {
     "base_uri": "https://localhost:8080/",
     "height": 0
    },
    "id": "NG7FIMLia5us",
    "outputId": "07b31305-1e92-4ee9-96a6-ead80616ffe6"
   },
   "outputs": [
    {
     "name": "stdout",
     "output_type": "stream",
     "text": [
      "Accuracy: 84.65 %\n",
      "Standard Deviation: 0.71 %\n"
     ]
    }
   ],
   "source": [
    "accuracies = cross_val_score(estimator = classifier, X = X_train, y = y_train, cv = 10)\n",
    "print(\"Accuracy: {:.2f} %\".format(accuracies.mean()*100))\n",
    "print(\"Standard Deviation: {:.2f} %\".format(accuracies.std()*100))"
   ]
  },
  {
   "cell_type": "markdown",
   "metadata": {
    "id": "RVchzkr4a5ut"
   },
   "source": [
    "Testing set results and Confusion Matrix (SVM sigmoid)"
   ]
  },
  {
   "cell_type": "code",
   "execution_count": 66,
   "metadata": {
    "colab": {
     "base_uri": "https://localhost:8080/",
     "height": 0
    },
    "id": "eVa6KF4Aa5uu",
    "outputId": "a5a4b620-fc81-4695-daa1-9bbf9be4129c"
   },
   "outputs": [
    {
     "name": "stdout",
     "output_type": "stream",
     "text": [
      "[[373   1]\n",
      " [ 67   0]]\n",
      "Accuracy: 84.58 %\n"
     ]
    }
   ],
   "source": [
    "y_pred = classifier.predict(X_test)\n",
    "cm = confusion_matrix(y_test, y_pred)\n",
    "print(cm)\n",
    "print(\"Accuracy: {:.2f} %\".format(accuracy_score(y_test, y_pred)*100))"
   ]
  },
  {
   "cell_type": "markdown",
   "metadata": {
    "id": "5IKSl0-Da5ux"
   },
   "source": [
    "### **Training the SVM model on the Training set Kernel Function 3 (poly)**"
   ]
  },
  {
   "cell_type": "code",
   "execution_count": 67,
   "metadata": {
    "colab": {
     "base_uri": "https://localhost:8080/",
     "height": 0
    },
    "id": "8utaaR6Wa5uy",
    "outputId": "b2fb19b3-ac59-46ec-849f-9a505a3507ce"
   },
   "outputs": [
    {
     "data": {
      "text/plain": [
       "SVC(C=1.0, break_ties=False, cache_size=200, class_weight=None, coef0=0.0,\n",
       "    decision_function_shape='ovr', degree=3, gamma='scale', kernel='poly',\n",
       "    max_iter=-1, probability=False, random_state=0, shrinking=True, tol=0.001,\n",
       "    verbose=False)"
      ]
     },
     "execution_count": 67,
     "metadata": {
      "tags": []
     },
     "output_type": "execute_result"
    }
   ],
   "source": [
    "classifier = SVC(kernel = 'poly', random_state = 0)\n",
    "classifier.fit(X_train, y_train)"
   ]
  },
  {
   "cell_type": "markdown",
   "metadata": {
    "id": "qtS2nGtna5uz"
   },
   "source": [
    "Training set results and Confusion Matrix (SVM poly)"
   ]
  },
  {
   "cell_type": "code",
   "execution_count": 68,
   "metadata": {
    "colab": {
     "base_uri": "https://localhost:8080/",
     "height": 0
    },
    "id": "0jphJFhLa5uz",
    "outputId": "152a5a77-d21f-4b29-8433-136047a7d4f2"
   },
   "outputs": [
    {
     "name": "stdout",
     "output_type": "stream",
     "text": [
      "[[870   0]\n",
      " [114  45]]\n",
      "Accuracy: 88.92 %\n"
     ]
    }
   ],
   "source": [
    "y_pred_in = classifier.predict(X_train)\n",
    "cm = confusion_matrix(y_train, y_pred_in)\n",
    "print(cm)\n",
    "print(\"Accuracy: {:.2f} %\".format(accuracy_score(y_train, y_pred_in)*100))"
   ]
  },
  {
   "cell_type": "markdown",
   "metadata": {
    "id": "WgZM4gyUa5u0"
   },
   "source": [
    "Applying k-Fold Cross Validation(SVM poly)"
   ]
  },
  {
   "cell_type": "code",
   "execution_count": 69,
   "metadata": {
    "colab": {
     "base_uri": "https://localhost:8080/",
     "height": 0
    },
    "id": "1iYzaf1Ya5u1",
    "outputId": "8bf21d38-7503-4ce5-bd25-7270070d3cb8"
   },
   "outputs": [
    {
     "name": "stdout",
     "output_type": "stream",
     "text": [
      "Accuracy: 84.35 %\n",
      "Standard Deviation: 0.66 %\n"
     ]
    }
   ],
   "source": [
    "accuracies = cross_val_score(estimator = classifier, X = X_train, y = y_train, cv = 10)\n",
    "print(\"Accuracy: {:.2f} %\".format(accuracies.mean()*100))\n",
    "print(\"Standard Deviation: {:.2f} %\".format(accuracies.std()*100))"
   ]
  },
  {
   "cell_type": "markdown",
   "metadata": {
    "id": "c26tgmLua5u2"
   },
   "source": [
    "Testing set results and Confusion Matrix (SVM poly)"
   ]
  },
  {
   "cell_type": "code",
   "execution_count": 70,
   "metadata": {
    "colab": {
     "base_uri": "https://localhost:8080/",
     "height": 0
    },
    "id": "DltAks5aa5u2",
    "outputId": "f4d93eb3-6138-4256-83da-cf09f3265248"
   },
   "outputs": [
    {
     "name": "stdout",
     "output_type": "stream",
     "text": [
      "[[371   3]\n",
      " [ 67   0]]\n",
      "Accuracy: 84.13 %\n"
     ]
    }
   ],
   "source": [
    "y_pred = classifier.predict(X_test)\n",
    "cm = confusion_matrix(y_test, y_pred)\n",
    "print(cm)\n",
    "print(\"Accuracy: {:.2f} %\".format(accuracy_score(y_test, y_pred)*100))"
   ]
  },
  {
   "cell_type": "markdown",
   "metadata": {
    "id": "by-sPOpna5u4"
   },
   "source": [
    "## **Decision Tree**"
   ]
  },
  {
   "cell_type": "code",
   "execution_count": 71,
   "metadata": {
    "id": "ZFfEuZgGa5u4"
   },
   "outputs": [],
   "source": [
    "X_train, X_test, y_train, y_test = train_test_split(X, y, test_size = 0.3, random_state = 0) # Change train and test set"
   ]
  },
  {
   "cell_type": "markdown",
   "metadata": {
    "id": "SD8cufVBa5u5"
   },
   "source": [
    "### **First Tree**"
   ]
  },
  {
   "cell_type": "code",
   "execution_count": 72,
   "metadata": {
    "colab": {
     "base_uri": "https://localhost:8080/",
     "height": 68
    },
    "id": "txnKit3Na5u6",
    "outputId": "68fcf8e3-626e-40d6-88c3-01b595cf2e1d"
   },
   "outputs": [
    {
     "name": "stdout",
     "output_type": "stream",
     "text": [
      "[[312  62]\n",
      " [ 56  11]]\n",
      "Accuracy: 73.24 %\n"
     ]
    }
   ],
   "source": [
    "classifier = DecisionTreeClassifier(criterion = 'entropy',splitter='best', random_state = 5)\n",
    "classifier.fit(X_train, y_train)\n",
    "y_pred = classifier.predict(X_test)\n",
    "cm = confusion_matrix(y_test, y_pred)\n",
    "print(cm)\n",
    "print(\"Accuracy: {:.2f} %\".format(accuracy_score(y_test, y_pred)*100))"
   ]
  },
  {
   "cell_type": "code",
   "execution_count": 73,
   "metadata": {
    "colab": {
     "base_uri": "https://localhost:8080/",
     "height": 68
    },
    "id": "VUO_04sPa5u8",
    "outputId": "f81beea0-456f-404f-adfc-cdabbf2142aa"
   },
   "outputs": [
    {
     "name": "stdout",
     "output_type": "stream",
     "text": [
      "[[870   0]\n",
      " [  0 159]]\n",
      "Accuracy: 100.00 %\n"
     ]
    }
   ],
   "source": [
    "y_pred_in = classifier.predict(X_train)\n",
    "cm = confusion_matrix(y_train, y_pred_in)\n",
    "print(cm)\n",
    "print(\"Accuracy: {:.2f} %\".format(accuracy_score(y_train, y_pred_in)*100))"
   ]
  },
  {
   "cell_type": "code",
   "execution_count": 74,
   "metadata": {
    "colab": {
     "base_uri": "https://localhost:8080/",
     "height": 51
    },
    "id": "ZPYuWWuNdbTO",
    "outputId": "9bf2133e-889a-4c00-e85a-5cb34cb2f53c"
   },
   "outputs": [
    {
     "name": "stdout",
     "output_type": "stream",
     "text": [
      "Accuracy: 72.89 %\n",
      "Standard Deviation: 2.97 %\n"
     ]
    }
   ],
   "source": [
    "accuracies = cross_val_score(estimator = classifier, X = X_train, y = y_train, cv = 10)\n",
    "print(\"Accuracy: {:.2f} %\".format(accuracies.mean()*100))\n",
    "print(\"Standard Deviation: {:.2f} %\".format(accuracies.std()*100))"
   ]
  },
  {
   "cell_type": "code",
   "execution_count": 75,
   "metadata": {
    "colab": {
     "base_uri": "https://localhost:8080/",
     "height": 1000
    },
    "id": "gdnQYt7qa5u9",
    "outputId": "7b1f0ba6-7bac-4bd5-f1fe-73334f97d94e"
   },
   "outputs": [
    {
     "data": {
      "text/plain": [
       "[Text(99.23593352214868, 211.04470588235293, 'X[17] <= 1.5\\nentropy = 0.621\\nsamples = 1029\\nvalue = [870, 159]'),\n",
       " Text(10.909979633401223, 198.25411764705882, 'X[22] <= 4.5\\nentropy = 0.856\\nsamples = 57\\nvalue = [41, 16]'),\n",
       " Text(8.182484725050918, 185.4635294117647, 'X[20] <= 2300.0\\nentropy = 0.925\\nsamples = 47\\nvalue = [31, 16]'),\n",
       " Text(5.4549898167006114, 172.6729411764706, 'entropy = 0.0\\nsamples = 6\\nvalue = [6, 0]'),\n",
       " Text(10.909979633401223, 172.6729411764706, 'X[31] <= 0.5\\nentropy = 0.965\\nsamples = 41\\nvalue = [25, 16]'),\n",
       " Text(5.4549898167006114, 159.88235294117646, 'X[11] <= 7.5\\nentropy = 0.918\\nsamples = 15\\nvalue = [5, 10]'),\n",
       " Text(2.7274949083503057, 147.09176470588235, 'entropy = 0.0\\nsamples = 8\\nvalue = [0, 8]'),\n",
       " Text(8.182484725050918, 147.09176470588235, 'X[8] <= 0.5\\nentropy = 0.863\\nsamples = 7\\nvalue = [5, 2]'),\n",
       " Text(5.4549898167006114, 134.30117647058825, 'X[12] <= 2.5\\nentropy = 0.918\\nsamples = 3\\nvalue = [1, 2]'),\n",
       " Text(2.7274949083503057, 121.51058823529411, 'entropy = 0.0\\nsamples = 1\\nvalue = [1, 0]'),\n",
       " Text(8.182484725050918, 121.51058823529411, 'entropy = 0.0\\nsamples = 2\\nvalue = [0, 2]'),\n",
       " Text(10.909979633401223, 134.30117647058825, 'entropy = 0.0\\nsamples = 4\\nvalue = [4, 0]'),\n",
       " Text(16.364969450101835, 159.88235294117646, 'X[5] <= 3.5\\nentropy = 0.779\\nsamples = 26\\nvalue = [20, 6]'),\n",
       " Text(13.637474541751528, 147.09176470588235, 'entropy = 0.0\\nsamples = 11\\nvalue = [11, 0]'),\n",
       " Text(19.09246435845214, 147.09176470588235, 'X[16] <= 47.0\\nentropy = 0.971\\nsamples = 15\\nvalue = [9, 6]'),\n",
       " Text(16.364969450101835, 134.30117647058825, 'entropy = 0.0\\nsamples = 5\\nvalue = [5, 0]'),\n",
       " Text(21.819959266802446, 134.30117647058825, 'X[1] <= 1.5\\nentropy = 0.971\\nsamples = 10\\nvalue = [4, 6]'),\n",
       " Text(19.09246435845214, 121.51058823529411, 'entropy = 0.0\\nsamples = 5\\nvalue = [0, 5]'),\n",
       " Text(24.54745417515275, 121.51058823529411, 'X[3] <= 4.5\\nentropy = 0.722\\nsamples = 5\\nvalue = [4, 1]'),\n",
       " Text(21.819959266802446, 108.72, 'entropy = 0.0\\nsamples = 4\\nvalue = [4, 0]'),\n",
       " Text(27.274949083503056, 108.72, 'entropy = 0.0\\nsamples = 1\\nvalue = [0, 1]'),\n",
       " Text(13.637474541751528, 185.4635294117647, 'entropy = 0.0\\nsamples = 10\\nvalue = [10, 0]'),\n",
       " Text(187.56188741089613, 198.25411764705882, 'X[21] <= 14147.5\\nentropy = 0.603\\nsamples = 972\\nvalue = [829, 143]'),\n",
       " Text(97.60116789714868, 185.4635294117647, 'X[16] <= 95.5\\nentropy = 0.672\\nsamples = 493\\nvalue = [406, 87]'),\n",
       " Text(75.72527367617108, 172.6729411764706, 'X[12] <= 2.5\\nentropy = 0.699\\nsamples = 456\\nvalue = [370, 86]'),\n",
       " Text(59.323014256619146, 159.88235294117646, 'X[20] <= 17626.5\\nentropy = 0.86\\nsamples = 120\\nvalue = [86, 34]'),\n",
       " Text(56.595519348268844, 147.09176470588235, 'X[10] <= 1433.5\\nentropy = 0.886\\nsamples = 112\\nvalue = [78, 34]'),\n",
       " Text(53.868024439918536, 134.30117647058825, 'X[20] <= 17249.0\\nentropy = 0.861\\nsamples = 109\\nvalue = [78, 31]'),\n",
       " Text(51.140529531568234, 121.51058823529411, 'X[14] <= 813.5\\nentropy = 0.843\\nsamples = 107\\nvalue = [78, 29]'),\n",
       " Text(32.72993890020367, 108.72, 'X[21] <= 3058.0\\nentropy = 0.971\\nsamples = 45\\nvalue = [27, 18]'),\n",
       " Text(30.00244399185336, 95.92941176470588, 'entropy = 0.0\\nsamples = 3\\nvalue = [0, 3]'),\n",
       " Text(35.45743380855397, 95.92941176470588, 'X[21] <= 4416.0\\nentropy = 0.94\\nsamples = 42\\nvalue = [27, 15]'),\n",
       " Text(32.72993890020367, 83.13882352941175, 'entropy = 0.0\\nsamples = 7\\nvalue = [7, 0]'),\n",
       " Text(38.18492871690428, 83.13882352941175, 'X[9] <= 26.5\\nentropy = 0.985\\nsamples = 35\\nvalue = [20, 15]'),\n",
       " Text(31.366191446028516, 70.34823529411764, 'X[10] <= 558.0\\nentropy = 0.592\\nsamples = 7\\nvalue = [1, 6]'),\n",
       " Text(28.63869653767821, 57.557647058823534, 'entropy = 0.0\\nsamples = 1\\nvalue = [1, 0]'),\n",
       " Text(34.093686354378825, 57.557647058823534, 'entropy = 0.0\\nsamples = 6\\nvalue = [0, 6]'),\n",
       " Text(45.003665987780046, 70.34823529411764, 'X[11] <= 13.5\\nentropy = 0.906\\nsamples = 28\\nvalue = [19, 9]'),\n",
       " Text(39.548676171079435, 57.557647058823534, 'X[10] <= 1192.5\\nentropy = 0.998\\nsamples = 17\\nvalue = [9, 8]'),\n",
       " Text(36.82118126272913, 44.767058823529396, 'X[23] <= 3.5\\nentropy = 0.961\\nsamples = 13\\nvalue = [5, 8]'),\n",
       " Text(34.093686354378825, 31.976470588235287, 'X[11] <= 4.5\\nentropy = 0.954\\nsamples = 8\\nvalue = [5, 3]'),\n",
       " Text(31.366191446028516, 19.185882352941178, 'entropy = 0.0\\nsamples = 4\\nvalue = [4, 0]'),\n",
       " Text(36.82118126272913, 19.185882352941178, 'X[2] <= 1.5\\nentropy = 0.811\\nsamples = 4\\nvalue = [1, 3]'),\n",
       " Text(34.093686354378825, 6.39529411764704, 'entropy = 0.0\\nsamples = 3\\nvalue = [0, 3]'),\n",
       " Text(39.548676171079435, 6.39529411764704, 'entropy = 0.0\\nsamples = 1\\nvalue = [1, 0]'),\n",
       " Text(39.548676171079435, 31.976470588235287, 'entropy = 0.0\\nsamples = 5\\nvalue = [0, 5]'),\n",
       " Text(42.27617107942974, 44.767058823529396, 'entropy = 0.0\\nsamples = 4\\nvalue = [4, 0]'),\n",
       " Text(50.45865580448066, 57.557647058823534, 'X[10] <= 1352.0\\nentropy = 0.439\\nsamples = 11\\nvalue = [10, 1]'),\n",
       " Text(47.73116089613035, 44.767058823529396, 'entropy = 0.0\\nsamples = 10\\nvalue = [10, 0]'),\n",
       " Text(53.18615071283096, 44.767058823529396, 'entropy = 0.0\\nsamples = 1\\nvalue = [0, 1]'),\n",
       " Text(69.55112016293279, 108.72, 'X[20] <= 4797.5\\nentropy = 0.674\\nsamples = 62\\nvalue = [51, 11]'),\n",
       " Text(64.09613034623219, 95.92941176470588, 'X[16] <= 53.5\\nentropy = 0.406\\nsamples = 37\\nvalue = [34, 3]'),\n",
       " Text(61.36863543788188, 83.13882352941175, 'X[5] <= 5.0\\nentropy = 0.75\\nsamples = 14\\nvalue = [11, 3]'),\n",
       " Text(58.641140529531576, 70.34823529411764, 'entropy = 0.0\\nsamples = 7\\nvalue = [7, 0]'),\n",
       " Text(64.09613034623219, 70.34823529411764, 'X[20] <= 3722.0\\nentropy = 0.985\\nsamples = 7\\nvalue = [4, 3]'),\n",
       " Text(61.36863543788188, 57.557647058823534, 'X[29] <= 2.0\\nentropy = 0.811\\nsamples = 4\\nvalue = [1, 3]'),\n",
       " Text(58.641140529531576, 44.767058823529396, 'entropy = 0.0\\nsamples = 1\\nvalue = [1, 0]'),\n",
       " Text(64.09613034623219, 44.767058823529396, 'entropy = 0.0\\nsamples = 3\\nvalue = [0, 3]'),\n",
       " Text(66.8236252545825, 57.557647058823534, 'entropy = 0.0\\nsamples = 3\\nvalue = [3, 0]'),\n",
       " Text(66.8236252545825, 83.13882352941175, 'entropy = 0.0\\nsamples = 23\\nvalue = [23, 0]'),\n",
       " Text(75.00610997963341, 95.92941176470588, 'X[26] <= 9.5\\nentropy = 0.904\\nsamples = 25\\nvalue = [17, 8]'),\n",
       " Text(72.2786150712831, 83.13882352941175, 'entropy = 0.0\\nsamples = 4\\nvalue = [0, 4]'),\n",
       " Text(77.73360488798372, 83.13882352941175, 'X[16] <= 73.0\\nentropy = 0.702\\nsamples = 21\\nvalue = [17, 4]'),\n",
       " Text(75.00610997963341, 70.34823529411764, 'entropy = 0.0\\nsamples = 14\\nvalue = [14, 0]'),\n",
       " Text(80.46109979633403, 70.34823529411764, 'X[2] <= 1.5\\nentropy = 0.985\\nsamples = 7\\nvalue = [3, 4]'),\n",
       " Text(77.73360488798372, 57.557647058823534, 'entropy = 0.0\\nsamples = 4\\nvalue = [0, 4]'),\n",
       " Text(83.18859470468432, 57.557647058823534, 'entropy = 0.0\\nsamples = 3\\nvalue = [3, 0]'),\n",
       " Text(56.595519348268844, 121.51058823529411, 'entropy = 0.0\\nsamples = 2\\nvalue = [0, 2]'),\n",
       " Text(59.323014256619146, 134.30117647058825, 'entropy = 0.0\\nsamples = 3\\nvalue = [0, 3]'),\n",
       " Text(62.050509164969455, 147.09176470588235, 'entropy = 0.0\\nsamples = 8\\nvalue = [8, 0]'),\n",
       " Text(92.12753309572302, 159.88235294117646, 'X[8] <= 0.5\\nentropy = 0.622\\nsamples = 336\\nvalue = [284, 52]'),\n",
       " Text(70.23299389002037, 147.09176470588235, 'X[28] <= 1.5\\nentropy = 0.3\\nsamples = 75\\nvalue = [71, 4]'),\n",
       " Text(64.77800407331976, 134.30117647058825, 'X[22] <= 5.0\\nentropy = 0.971\\nsamples = 5\\nvalue = [2, 3]'),\n",
       " Text(62.050509164969455, 121.51058823529411, 'entropy = 0.0\\nsamples = 3\\nvalue = [0, 3]'),\n",
       " Text(67.50549898167007, 121.51058823529411, 'entropy = 0.0\\nsamples = 2\\nvalue = [2, 0]'),\n",
       " Text(75.68798370672098, 134.30117647058825, 'X[17] <= 3.5\\nentropy = 0.108\\nsamples = 70\\nvalue = [69, 1]'),\n",
       " Text(72.96048879837068, 121.51058823529411, 'entropy = 0.0\\nsamples = 63\\nvalue = [63, 0]'),\n",
       " Text(78.4154786150713, 121.51058823529411, 'X[15] <= 1.5\\nentropy = 0.592\\nsamples = 7\\nvalue = [6, 1]'),\n",
       " Text(75.68798370672098, 108.72, 'entropy = 0.0\\nsamples = 1\\nvalue = [0, 1]'),\n",
       " Text(81.14297352342159, 108.72, 'entropy = 0.0\\nsamples = 6\\nvalue = [6, 0]'),\n",
       " Text(114.02207230142567, 147.09176470588235, 'X[20] <= 2071.5\\nentropy = 0.689\\nsamples = 261\\nvalue = [213, 48]'),\n",
       " Text(86.5979633401222, 134.30117647058825, 'X[9] <= 18.5\\nentropy = 0.918\\nsamples = 6\\nvalue = [2, 4]'),\n",
       " Text(83.8704684317719, 121.51058823529411, 'entropy = 0.0\\nsamples = 2\\nvalue = [2, 0]'),\n",
       " Text(89.32545824847251, 121.51058823529411, 'entropy = 0.0\\nsamples = 4\\nvalue = [0, 4]'),\n",
       " Text(141.44618126272914, 134.30117647058825, 'X[14] <= 122.0\\nentropy = 0.664\\nsamples = 255\\nvalue = [211, 44]'),\n",
       " Text(94.78044806517312, 121.51058823529411, 'X[22] <= 0.5\\nentropy = 0.997\\nsamples = 15\\nvalue = [8, 7]'),\n",
       " Text(92.05295315682282, 108.72, 'entropy = 0.0\\nsamples = 3\\nvalue = [0, 3]'),\n",
       " Text(97.50794297352343, 108.72, 'X[21] <= 6828.0\\nentropy = 0.918\\nsamples = 12\\nvalue = [8, 4]'),\n",
       " Text(94.78044806517312, 95.92941176470588, 'entropy = 0.0\\nsamples = 5\\nvalue = [5, 0]'),\n",
       " Text(100.23543788187374, 95.92941176470588, 'X[26] <= 7.5\\nentropy = 0.985\\nsamples = 7\\nvalue = [3, 4]'),\n",
       " Text(97.50794297352343, 83.13882352941175, 'entropy = 0.0\\nsamples = 2\\nvalue = [2, 0]'),\n",
       " Text(102.96293279022404, 83.13882352941175, 'X[20] <= 6191.0\\nentropy = 0.722\\nsamples = 5\\nvalue = [1, 4]'),\n",
       " Text(100.23543788187374, 70.34823529411764, 'entropy = 0.0\\nsamples = 3\\nvalue = [0, 3]'),\n",
       " Text(105.69042769857435, 70.34823529411764, 'X[32] <= 10.0\\nentropy = 1.0\\nsamples = 2\\nvalue = [1, 1]'),\n",
       " Text(102.96293279022404, 57.557647058823534, 'entropy = 0.0\\nsamples = 1\\nvalue = [1, 0]'),\n",
       " Text(108.41792260692465, 57.557647058823534, 'entropy = 0.0\\nsamples = 1\\nvalue = [0, 1]'),\n",
       " Text(188.11191446028513, 121.51058823529411, 'X[23] <= 3.5\\nentropy = 0.62\\nsamples = 240\\nvalue = [203, 37]'),\n",
       " Text(166.88859470468432, 108.72, 'X[21] <= 11805.0\\nentropy = 0.696\\nsamples = 176\\nvalue = [143, 33]'),\n",
       " Text(148.98940936863545, 95.92941176470588, 'X[14] <= 1948.0\\nentropy = 0.597\\nsamples = 145\\nvalue = [124, 21]'),\n",
       " Text(132.28350305498984, 83.13882352941175, 'X[7] <= 0.5\\nentropy = 0.528\\nsamples = 134\\nvalue = [118, 16]'),\n",
       " Text(119.32790224032587, 70.34823529411764, 'X[10] <= 500.0\\nentropy = 0.382\\nsamples = 94\\nvalue = [87, 7]'),\n",
       " Text(113.87291242362527, 57.557647058823534, 'X[21] <= 7870.5\\nentropy = 0.779\\nsamples = 26\\nvalue = [20, 6]'),\n",
       " Text(111.14541751527496, 44.767058823529396, 'X[21] <= 6745.5\\nentropy = 0.996\\nsamples = 13\\nvalue = [7, 6]'),\n",
       " Text(108.41792260692465, 31.976470588235287, 'X[1] <= 1.5\\nentropy = 0.764\\nsamples = 9\\nvalue = [7, 2]'),\n",
       " Text(105.69042769857435, 19.185882352941178, 'X[23] <= 2.5\\nentropy = 0.918\\nsamples = 3\\nvalue = [1, 2]'),\n",
       " Text(102.96293279022404, 6.39529411764704, 'entropy = 0.0\\nsamples = 2\\nvalue = [0, 2]'),\n",
       " Text(108.41792260692465, 6.39529411764704, 'entropy = 0.0\\nsamples = 1\\nvalue = [1, 0]'),\n",
       " Text(111.14541751527496, 19.185882352941178, 'entropy = 0.0\\nsamples = 6\\nvalue = [6, 0]'),\n",
       " Text(113.87291242362527, 31.976470588235287, 'entropy = 0.0\\nsamples = 4\\nvalue = [0, 4]'),\n",
       " Text(116.60040733197557, 44.767058823529396, 'entropy = 0.0\\nsamples = 13\\nvalue = [13, 0]'),\n",
       " Text(124.78289205702649, 57.557647058823534, 'X[2] <= 0.5\\nentropy = 0.111\\nsamples = 68\\nvalue = [67, 1]'),\n",
       " Text(122.05539714867618, 44.767058823529396, 'X[9] <= 37.5\\nentropy = 0.918\\nsamples = 3\\nvalue = [2, 1]'),\n",
       " Text(119.32790224032587, 31.976470588235287, 'entropy = 0.0\\nsamples = 1\\nvalue = [0, 1]'),\n",
       " Text(124.78289205702649, 31.976470588235287, 'entropy = 0.0\\nsamples = 2\\nvalue = [2, 0]'),\n",
       " Text(127.5103869653768, 44.767058823529396, 'entropy = 0.0\\nsamples = 65\\nvalue = [65, 0]'),\n",
       " Text(145.23910386965377, 70.34823529411764, 'X[27] <= 2.5\\nentropy = 0.769\\nsamples = 40\\nvalue = [31, 9]'),\n",
       " Text(138.420366598778, 57.557647058823534, 'X[26] <= 15.5\\nentropy = 0.934\\nsamples = 20\\nvalue = [13, 7]'),\n",
       " Text(135.69287169042772, 44.767058823529396, 'X[16] <= 54.5\\nentropy = 0.996\\nsamples = 13\\nvalue = [6, 7]'),\n",
       " Text(130.2378818737271, 31.976470588235287, 'X[3] <= 3.5\\nentropy = 0.65\\nsamples = 6\\nvalue = [5, 1]'),\n",
       " Text(127.5103869653768, 19.185882352941178, 'entropy = 0.0\\nsamples = 5\\nvalue = [5, 0]'),\n",
       " Text(132.9653767820774, 19.185882352941178, 'entropy = 0.0\\nsamples = 1\\nvalue = [0, 1]'),\n",
       " Text(141.1478615071283, 31.976470588235287, 'X[14] <= 813.0\\nentropy = 0.592\\nsamples = 7\\nvalue = [1, 6]'),\n",
       " Text(138.420366598778, 19.185882352941178, 'entropy = 0.0\\nsamples = 1\\nvalue = [1, 0]'),\n",
       " Text(143.87535641547862, 19.185882352941178, 'entropy = 0.0\\nsamples = 6\\nvalue = [0, 6]'),\n",
       " Text(141.1478615071283, 44.767058823529396, 'entropy = 0.0\\nsamples = 7\\nvalue = [7, 0]'),\n",
       " Text(152.05784114052955, 57.557647058823534, 'X[22] <= 4.5\\nentropy = 0.469\\nsamples = 20\\nvalue = [18, 2]'),\n",
       " Text(149.33034623217924, 44.767058823529396, 'entropy = 0.0\\nsamples = 16\\nvalue = [16, 0]'),\n",
       " Text(154.78533604887986, 44.767058823529396, 'X[9] <= 38.5\\nentropy = 1.0\\nsamples = 4\\nvalue = [2, 2]'),\n",
       " Text(152.05784114052955, 31.976470588235287, 'X[29] <= 3.0\\nentropy = 0.918\\nsamples = 3\\nvalue = [2, 1]'),\n",
       " Text(149.33034623217924, 19.185882352941178, 'entropy = 0.0\\nsamples = 1\\nvalue = [0, 1]'),\n",
       " Text(154.78533604887986, 19.185882352941178, 'entropy = 0.0\\nsamples = 2\\nvalue = [2, 0]'),\n",
       " Text(157.51283095723016, 31.976470588235287, 'entropy = 0.0\\nsamples = 1\\nvalue = [0, 1]'),\n",
       " Text(165.69531568228106, 83.13882352941175, 'X[20] <= 5757.5\\nentropy = 0.994\\nsamples = 11\\nvalue = [6, 5]'),\n",
       " Text(160.24032586558047, 70.34823529411764, 'X[14] <= 1951.5\\nentropy = 0.65\\nsamples = 6\\nvalue = [5, 1]'),\n",
       " Text(157.51283095723016, 57.557647058823534, 'entropy = 0.0\\nsamples = 1\\nvalue = [0, 1]'),\n",
       " Text(162.96782077393075, 57.557647058823534, 'entropy = 0.0\\nsamples = 5\\nvalue = [5, 0]'),\n",
       " Text(171.15030549898168, 70.34823529411764, 'X[21] <= 4480.5\\nentropy = 0.722\\nsamples = 5\\nvalue = [1, 4]'),\n",
       " Text(168.42281059063137, 57.557647058823534, 'entropy = 0.0\\nsamples = 1\\nvalue = [1, 0]'),\n",
       " Text(173.877800407332, 57.557647058823534, 'entropy = 0.0\\nsamples = 4\\nvalue = [0, 4]'),\n",
       " Text(184.78778004073322, 95.92941176470588, 'X[32] <= 0.5\\nentropy = 0.963\\nsamples = 31\\nvalue = [19, 12]'),\n",
       " Text(182.06028513238292, 83.13882352941175, 'entropy = 0.0\\nsamples = 4\\nvalue = [0, 4]'),\n",
       " Text(187.5152749490835, 83.13882352941175, 'X[32] <= 3.5\\nentropy = 0.877\\nsamples = 27\\nvalue = [19, 8]'),\n",
       " Text(182.06028513238292, 70.34823529411764, 'X[14] <= 1745.5\\nentropy = 0.371\\nsamples = 14\\nvalue = [13, 1]'),\n",
       " Text(179.3327902240326, 57.557647058823534, 'entropy = 0.0\\nsamples = 12\\nvalue = [12, 0]'),\n",
       " Text(184.78778004073322, 57.557647058823534, 'X[22] <= 3.5\\nentropy = 1.0\\nsamples = 2\\nvalue = [1, 1]'),\n",
       " Text(182.06028513238292, 44.767058823529396, 'entropy = 0.0\\nsamples = 1\\nvalue = [0, 1]'),\n",
       " Text(187.5152749490835, 44.767058823529396, 'entropy = 0.0\\nsamples = 1\\nvalue = [1, 0]'),\n",
       " Text(192.97026476578412, 70.34823529411764, 'X[20] <= 4614.5\\nentropy = 0.996\\nsamples = 13\\nvalue = [6, 7]'),\n",
       " Text(190.2427698574338, 57.557647058823534, 'entropy = 0.0\\nsamples = 5\\nvalue = [0, 5]'),\n",
       " Text(195.69775967413443, 57.557647058823534, 'X[31] <= 0.5\\nentropy = 0.811\\nsamples = 8\\nvalue = [6, 2]'),\n",
       " Text(192.97026476578412, 44.767058823529396, 'entropy = 0.0\\nsamples = 2\\nvalue = [0, 2]'),\n",
       " Text(198.42525458248474, 44.767058823529396, 'entropy = 0.0\\nsamples = 6\\nvalue = [6, 0]'),\n",
       " Text(209.33523421588598, 108.72, 'X[3] <= 1.5\\nentropy = 0.337\\nsamples = 64\\nvalue = [60, 4]'),\n",
       " Text(206.60773930753567, 95.92941176470588, 'entropy = 0.0\\nsamples = 30\\nvalue = [30, 0]'),\n",
       " Text(212.06272912423626, 95.92941176470588, 'X[11] <= 23.5\\nentropy = 0.523\\nsamples = 34\\nvalue = [30, 4]'),\n",
       " Text(206.60773930753567, 83.13882352941175, 'X[20] <= 2650.0\\nentropy = 0.345\\nsamples = 31\\nvalue = [29, 2]'),\n",
       " Text(203.88024439918536, 70.34823529411764, 'X[14] <= 1112.0\\nentropy = 0.918\\nsamples = 6\\nvalue = [4, 2]'),\n",
       " Text(201.15274949083505, 57.557647058823534, 'entropy = 0.0\\nsamples = 2\\nvalue = [0, 2]'),\n",
       " Text(206.60773930753567, 57.557647058823534, 'entropy = 0.0\\nsamples = 4\\nvalue = [4, 0]'),\n",
       " Text(209.33523421588598, 70.34823529411764, 'entropy = 0.0\\nsamples = 25\\nvalue = [25, 0]'),\n",
       " Text(217.51771894093687, 83.13882352941175, 'X[10] <= 1036.0\\nentropy = 0.918\\nsamples = 3\\nvalue = [1, 2]'),\n",
       " Text(214.79022403258656, 70.34823529411764, 'entropy = 0.0\\nsamples = 2\\nvalue = [0, 2]'),\n",
       " Text(220.24521384928718, 70.34823529411764, 'entropy = 0.0\\nsamples = 1\\nvalue = [1, 0]'),\n",
       " Text(119.47706211812628, 172.6729411764706, 'X[28] <= 3.5\\nentropy = 0.179\\nsamples = 37\\nvalue = [36, 1]'),\n",
       " Text(116.74956720977598, 159.88235294117646, 'entropy = 0.0\\nsamples = 35\\nvalue = [35, 0]'),\n",
       " Text(122.20455702647659, 159.88235294117646, 'X[19] <= 3.5\\nentropy = 1.0\\nsamples = 2\\nvalue = [1, 1]'),\n",
       " Text(119.47706211812628, 147.09176470588235, 'entropy = 0.0\\nsamples = 1\\nvalue = [1, 0]'),\n",
       " Text(124.93205193482689, 147.09176470588235, 'entropy = 0.0\\nsamples = 1\\nvalue = [0, 1]'),\n",
       " Text(277.5226069246436, 185.4635294117647, 'X[9] <= 40.5\\nentropy = 0.52\\nsamples = 479\\nvalue = [423, 56]'),\n",
       " Text(255.70264765784117, 172.6729411764706, 'X[21] <= 23374.0\\nentropy = 0.421\\nsamples = 328\\nvalue = [300, 28]'),\n",
       " Text(243.42892057026478, 159.88235294117646, 'X[16] <= 73.5\\nentropy = 0.331\\nsamples = 246\\nvalue = [231, 15]'),\n",
       " Text(240.70142566191447, 147.09176470588235, 'X[21] <= 21519.5\\nentropy = 0.459\\nsamples = 155\\nvalue = [140, 15]'),\n",
       " Text(237.97393075356416, 134.30117647058825, 'X[27] <= 4.5\\nentropy = 0.547\\nsamples = 119\\nvalue = [104, 15]'),\n",
       " Text(235.24643584521388, 121.51058823529411, 'X[20] <= 4600.5\\nentropy = 0.602\\nsamples = 102\\nvalue = [87, 15]'),\n",
       " Text(228.4276985743381, 108.72, 'X[20] <= 2712.5\\nentropy = 0.386\\nsamples = 53\\nvalue = [49, 4]'),\n",
       " Text(225.7002036659878, 95.92941176470588, 'X[21] <= 16900.5\\nentropy = 0.634\\nsamples = 25\\nvalue = [21, 4]'),\n",
       " Text(222.9727087576375, 83.13882352941175, 'entropy = 0.0\\nsamples = 11\\nvalue = [11, 0]'),\n",
       " Text(228.4276985743381, 83.13882352941175, 'X[21] <= 17103.0\\nentropy = 0.863\\nsamples = 14\\nvalue = [10, 4]'),\n",
       " Text(225.7002036659878, 70.34823529411764, 'entropy = 0.0\\nsamples = 2\\nvalue = [0, 2]'),\n",
       " Text(231.15519348268842, 70.34823529411764, 'X[15] <= 1.5\\nentropy = 0.65\\nsamples = 12\\nvalue = [10, 2]'),\n",
       " Text(228.4276985743381, 57.557647058823534, 'entropy = 0.0\\nsamples = 2\\nvalue = [0, 2]'),\n",
       " Text(233.88268839103873, 57.557647058823534, 'entropy = 0.0\\nsamples = 10\\nvalue = [10, 0]'),\n",
       " Text(231.15519348268842, 95.92941176470588, 'entropy = 0.0\\nsamples = 28\\nvalue = [28, 0]'),\n",
       " Text(242.06517311608962, 108.72, 'X[7] <= 0.5\\nentropy = 0.768\\nsamples = 49\\nvalue = [38, 11]'),\n",
       " Text(236.61018329938904, 95.92941176470588, 'X[10] <= 778.0\\nentropy = 0.562\\nsamples = 38\\nvalue = [33, 5]'),\n",
       " Text(233.88268839103873, 83.13882352941175, 'entropy = 0.0\\nsamples = 16\\nvalue = [16, 0]'),\n",
       " Text(239.33767820773932, 83.13882352941175, 'X[26] <= 4.5\\nentropy = 0.773\\nsamples = 22\\nvalue = [17, 5]'),\n",
       " Text(236.61018329938904, 70.34823529411764, 'entropy = 0.0\\nsamples = 2\\nvalue = [0, 2]'),\n",
       " Text(242.06517311608962, 70.34823529411764, 'X[5] <= 4.5\\nentropy = 0.61\\nsamples = 20\\nvalue = [17, 3]'),\n",
       " Text(239.33767820773932, 57.557647058823534, 'X[9] <= 33.5\\nentropy = 1.0\\nsamples = 6\\nvalue = [3, 3]'),\n",
       " Text(236.61018329938904, 44.767058823529396, 'entropy = 0.0\\nsamples = 2\\nvalue = [0, 2]'),\n",
       " Text(242.06517311608962, 44.767058823529396, 'X[26] <= 16.0\\nentropy = 0.811\\nsamples = 4\\nvalue = [3, 1]'),\n",
       " Text(239.33767820773932, 31.976470588235287, 'entropy = 0.0\\nsamples = 3\\nvalue = [3, 0]'),\n",
       " Text(244.79266802443993, 31.976470588235287, 'entropy = 0.0\\nsamples = 1\\nvalue = [0, 1]'),\n",
       " Text(244.79266802443993, 57.557647058823534, 'entropy = 0.0\\nsamples = 14\\nvalue = [14, 0]'),\n",
       " Text(247.52016293279024, 95.92941176470588, 'X[8] <= 0.5\\nentropy = 0.994\\nsamples = 11\\nvalue = [5, 6]'),\n",
       " Text(244.79266802443993, 83.13882352941175, 'entropy = 0.0\\nsamples = 3\\nvalue = [0, 3]'),\n",
       " Text(250.24765784114055, 83.13882352941175, 'X[26] <= 11.0\\nentropy = 0.954\\nsamples = 8\\nvalue = [5, 3]'),\n",
       " Text(247.52016293279024, 70.34823529411764, 'entropy = 0.0\\nsamples = 4\\nvalue = [4, 0]'),\n",
       " Text(252.97515274949086, 70.34823529411764, 'X[2] <= 1.5\\nentropy = 0.811\\nsamples = 4\\nvalue = [1, 3]'),\n",
       " Text(250.24765784114055, 57.557647058823534, 'entropy = 0.0\\nsamples = 3\\nvalue = [0, 3]'),\n",
       " Text(255.70264765784117, 57.557647058823534, 'entropy = 0.0\\nsamples = 1\\nvalue = [1, 0]'),\n",
       " Text(240.70142566191447, 121.51058823529411, 'entropy = 0.0\\nsamples = 17\\nvalue = [17, 0]'),\n",
       " Text(243.42892057026478, 134.30117647058825, 'entropy = 0.0\\nsamples = 36\\nvalue = [36, 0]'),\n",
       " Text(246.1564154786151, 147.09176470588235, 'entropy = 0.0\\nsamples = 91\\nvalue = [91, 0]'),\n",
       " Text(267.97637474541756, 159.88235294117646, 'X[3] <= 2.5\\nentropy = 0.631\\nsamples = 82\\nvalue = [69, 13]'),\n",
       " Text(261.1576374745418, 147.09176470588235, 'X[21] <= 23811.5\\nentropy = 0.858\\nsamples = 39\\nvalue = [28, 11]'),\n",
       " Text(255.70264765784117, 134.30117647058825, 'X[14] <= 1188.5\\nentropy = 0.722\\nsamples = 5\\nvalue = [1, 4]'),\n",
       " Text(252.97515274949086, 121.51058823529411, 'entropy = 0.0\\nsamples = 4\\nvalue = [0, 4]'),\n",
       " Text(258.4301425661915, 121.51058823529411, 'entropy = 0.0\\nsamples = 1\\nvalue = [1, 0]'),\n",
       " Text(266.6126272912424, 134.30117647058825, 'X[9] <= 31.5\\nentropy = 0.734\\nsamples = 34\\nvalue = [27, 7]'),\n",
       " Text(263.8851323828921, 121.51058823529411, 'X[26] <= 9.0\\nentropy = 0.964\\nsamples = 18\\nvalue = [11, 7]'),\n",
       " Text(261.1576374745418, 108.72, 'X[10] <= 432.5\\nentropy = 0.75\\nsamples = 14\\nvalue = [11, 3]'),\n",
       " Text(258.4301425661915, 95.92941176470588, 'X[10] <= 240.5\\nentropy = 0.971\\nsamples = 5\\nvalue = [2, 3]'),\n",
       " Text(255.70264765784117, 83.13882352941175, 'entropy = 0.0\\nsamples = 2\\nvalue = [2, 0]'),\n",
       " Text(261.1576374745418, 83.13882352941175, 'entropy = 0.0\\nsamples = 3\\nvalue = [0, 3]'),\n",
       " Text(263.8851323828921, 95.92941176470588, 'entropy = 0.0\\nsamples = 9\\nvalue = [9, 0]'),\n",
       " Text(266.6126272912424, 108.72, 'entropy = 0.0\\nsamples = 4\\nvalue = [0, 4]'),\n",
       " Text(269.3401221995927, 121.51058823529411, 'entropy = 0.0\\nsamples = 16\\nvalue = [16, 0]'),\n",
       " Text(274.7951120162933, 147.09176470588235, 'X[21] <= 23398.5\\nentropy = 0.271\\nsamples = 43\\nvalue = [41, 2]'),\n",
       " Text(272.067617107943, 134.30117647058825, 'entropy = 0.0\\nsamples = 1\\nvalue = [0, 1]'),\n",
       " Text(277.5226069246436, 134.30117647058825, 'X[10] <= 183.0\\nentropy = 0.162\\nsamples = 42\\nvalue = [41, 1]'),\n",
       " Text(274.7951120162933, 121.51058823529411, 'X[21] <= 24775.5\\nentropy = 1.0\\nsamples = 2\\nvalue = [1, 1]'),\n",
       " Text(272.067617107943, 108.72, 'entropy = 0.0\\nsamples = 1\\nvalue = [0, 1]'),\n",
       " Text(277.5226069246436, 108.72, 'entropy = 0.0\\nsamples = 1\\nvalue = [1, 0]'),\n",
       " Text(280.2501018329939, 121.51058823529411, 'entropy = 0.0\\nsamples = 40\\nvalue = [40, 0]'),\n",
       " Text(299.34256619144605, 172.6729411764706, 'X[21] <= 18662.5\\nentropy = 0.692\\nsamples = 151\\nvalue = [123, 28]'),\n",
       " Text(288.4325865580448, 159.88235294117646, 'X[19] <= 3.5\\nentropy = 0.327\\nsamples = 50\\nvalue = [47, 3]'),\n",
       " Text(285.7050916496945, 147.09176470588235, 'entropy = 0.0\\nsamples = 35\\nvalue = [35, 0]'),\n",
       " Text(291.1600814663951, 147.09176470588235, 'X[32] <= 2.5\\nentropy = 0.722\\nsamples = 15\\nvalue = [12, 3]'),\n",
       " Text(288.4325865580448, 134.30117647058825, 'X[5] <= 3.5\\nentropy = 1.0\\nsamples = 6\\nvalue = [3, 3]'),\n",
       " Text(285.7050916496945, 121.51058823529411, 'entropy = 0.0\\nsamples = 3\\nvalue = [0, 3]'),\n",
       " Text(291.1600814663951, 121.51058823529411, 'entropy = 0.0\\nsamples = 3\\nvalue = [3, 0]'),\n",
       " Text(293.88757637474544, 134.30117647058825, 'entropy = 0.0\\nsamples = 9\\nvalue = [9, 0]'),\n",
       " Text(310.2525458248473, 159.88235294117646, 'X[21] <= 19270.0\\nentropy = 0.807\\nsamples = 101\\nvalue = [76, 25]'),\n",
       " Text(302.07006109979636, 147.09176470588235, 'X[27] <= 2.5\\nentropy = 0.863\\nsamples = 7\\nvalue = [2, 5]'),\n",
       " Text(299.34256619144605, 134.30117647058825, 'entropy = 0.0\\nsamples = 2\\nvalue = [2, 0]'),\n",
       " Text(304.79755600814667, 134.30117647058825, 'entropy = 0.0\\nsamples = 5\\nvalue = [0, 5]'),\n",
       " Text(318.4350305498982, 147.09176470588235, 'X[30] <= 11.5\\nentropy = 0.747\\nsamples = 94\\nvalue = [74, 20]'),\n",
       " Text(310.2525458248473, 134.30117647058825, 'X[14] <= 1393.5\\nentropy = 0.672\\nsamples = 85\\nvalue = [70, 15]'),\n",
       " Text(302.07006109979636, 121.51058823529411, 'X[29] <= 1.5\\nentropy = 0.485\\nsamples = 57\\nvalue = [51, 6]'),\n",
       " Text(296.61507128309574, 108.72, 'X[21] <= 23522.5\\nentropy = 0.991\\nsamples = 9\\nvalue = [5, 4]'),\n",
       " Text(293.88757637474544, 95.92941176470588, 'X[15] <= 3.5\\nentropy = 0.65\\nsamples = 6\\nvalue = [5, 1]'),\n",
       " Text(291.1600814663951, 83.13882352941175, 'entropy = 0.0\\nsamples = 5\\nvalue = [5, 0]'),\n",
       " Text(296.61507128309574, 83.13882352941175, 'entropy = 0.0\\nsamples = 1\\nvalue = [0, 1]'),\n",
       " Text(299.34256619144605, 95.92941176470588, 'entropy = 0.0\\nsamples = 3\\nvalue = [0, 3]'),\n",
       " Text(307.525050916497, 108.72, 'X[14] <= 158.0\\nentropy = 0.25\\nsamples = 48\\nvalue = [46, 2]'),\n",
       " Text(304.79755600814667, 95.92941176470588, 'X[19] <= 3.5\\nentropy = 0.764\\nsamples = 9\\nvalue = [7, 2]'),\n",
       " Text(302.07006109979636, 83.13882352941175, 'entropy = 0.0\\nsamples = 6\\nvalue = [6, 0]'),\n",
       " Text(307.525050916497, 83.13882352941175, 'X[10] <= 1156.5\\nentropy = 0.918\\nsamples = 3\\nvalue = [1, 2]'),\n",
       " Text(304.79755600814667, 70.34823529411764, 'entropy = 0.0\\nsamples = 1\\nvalue = [1, 0]'),\n",
       " Text(310.2525458248473, 70.34823529411764, 'entropy = 0.0\\nsamples = 2\\nvalue = [0, 2]'),\n",
       " Text(310.2525458248473, 95.92941176470588, 'entropy = 0.0\\nsamples = 39\\nvalue = [39, 0]'),\n",
       " Text(318.4350305498982, 121.51058823529411, 'X[9] <= 41.5\\nentropy = 0.906\\nsamples = 28\\nvalue = [19, 9]'),\n",
       " Text(315.7075356415479, 108.72, 'entropy = 0.0\\nsamples = 3\\nvalue = [0, 3]'),\n",
       " Text(321.1625254582485, 108.72, 'X[14] <= 1447.5\\nentropy = 0.795\\nsamples = 25\\nvalue = [19, 6]'),\n",
       " Text(318.4350305498982, 95.92941176470588, 'entropy = 0.0\\nsamples = 2\\nvalue = [0, 2]'),\n",
       " Text(323.89002036659883, 95.92941176470588, 'X[12] <= 3.5\\nentropy = 0.667\\nsamples = 23\\nvalue = [19, 4]'),\n",
       " Text(318.4350305498982, 83.13882352941175, 'X[5] <= 2.5\\nentropy = 0.337\\nsamples = 16\\nvalue = [15, 1]'),\n",
       " Text(315.7075356415479, 70.34823529411764, 'X[11] <= 2.5\\nentropy = 1.0\\nsamples = 2\\nvalue = [1, 1]'),\n",
       " Text(312.9800407331976, 57.557647058823534, 'entropy = 0.0\\nsamples = 1\\nvalue = [1, 0]'),\n",
       " Text(318.4350305498982, 57.557647058823534, 'entropy = 0.0\\nsamples = 1\\nvalue = [0, 1]'),\n",
       " Text(321.1625254582485, 70.34823529411764, 'entropy = 0.0\\nsamples = 14\\nvalue = [14, 0]'),\n",
       " Text(329.3450101832994, 83.13882352941175, 'X[10] <= 1137.5\\nentropy = 0.985\\nsamples = 7\\nvalue = [4, 3]'),\n",
       " Text(326.6175152749491, 70.34823529411764, 'X[27] <= 1.0\\nentropy = 0.811\\nsamples = 4\\nvalue = [1, 3]'),\n",
       " Text(323.89002036659883, 57.557647058823534, 'entropy = 0.0\\nsamples = 1\\nvalue = [1, 0]'),\n",
       " Text(329.3450101832994, 57.557647058823534, 'entropy = 0.0\\nsamples = 3\\nvalue = [0, 3]'),\n",
       " Text(332.0725050916497, 70.34823529411764, 'entropy = 0.0\\nsamples = 3\\nvalue = [3, 0]'),\n",
       " Text(326.6175152749491, 134.30117647058825, 'X[20] <= 8965.5\\nentropy = 0.991\\nsamples = 9\\nvalue = [4, 5]'),\n",
       " Text(323.89002036659883, 121.51058823529411, 'entropy = 0.0\\nsamples = 4\\nvalue = [0, 4]'),\n",
       " Text(329.3450101832994, 121.51058823529411, 'X[31] <= 14.0\\nentropy = 0.722\\nsamples = 5\\nvalue = [4, 1]'),\n",
       " Text(326.6175152749491, 108.72, 'entropy = 0.0\\nsamples = 4\\nvalue = [4, 0]'),\n",
       " Text(332.0725050916497, 108.72, 'entropy = 0.0\\nsamples = 1\\nvalue = [0, 1]')]"
      ]
     },
     "execution_count": 75,
     "metadata": {
      "tags": []
     },
     "output_type": "execute_result"
    },
    {
     "data": {
      "image/png": "[encoded data removed]",
      "text/plain": [
       "<Figure size 432x288 with 1 Axes>"
      ]
     },
     "metadata": {
      "needs_background": "light",
      "tags": []
     },
     "output_type": "display_data"
    }
   ],
   "source": [
    "tree.plot_tree(classifier) "
   ]
  },
  {
   "cell_type": "markdown",
   "metadata": {
    "id": "s5W2oDy0a5u-"
   },
   "source": [
    "### **Second Tree**"
   ]
  },
  {
   "cell_type": "markdown",
   "metadata": {
    "id": "qc_tCue3a5u-"
   },
   "source": [
    "Training the Decision Tree Classification model on the Training set"
   ]
  },
  {
   "cell_type": "code",
   "execution_count": 76,
   "metadata": {
    "colab": {
     "base_uri": "https://localhost:8080/",
     "height": 68
    },
    "id": "N6cGUSiEa5u_",
    "outputId": "bf22feb5-d213-4a11-b1b2-35e3555a0d9d"
   },
   "outputs": [
    {
     "name": "stdout",
     "output_type": "stream",
     "text": [
      "[[348  26]\n",
      " [ 66   1]]\n",
      "Accuracy: 79.14 %\n"
     ]
    }
   ],
   "source": [
    "X_train, X_test, y_train, y_test = train_test_split(X, y, test_size = 0.3, random_state = 0)\n",
    "classifier = DecisionTreeClassifier(criterion = 'entropy',splitter='best',max_depth = 6, random_state = 5)\n",
    "classifier.fit(X_train, y_train)\n",
    "y_pred = classifier.predict(X_test)\n",
    "cm = confusion_matrix(y_test, y_pred)\n",
    "print(cm)\n",
    "print(\"Accuracy: {:.2f} %\".format(accuracy_score(y_test, y_pred)*100))"
   ]
  },
  {
   "cell_type": "code",
   "execution_count": 77,
   "metadata": {
    "colab": {
     "base_uri": "https://localhost:8080/",
     "height": 68
    },
    "id": "ND7Oe3Vla5vB",
    "outputId": "4026e213-0d2d-4fe7-e621-567fac2d6674"
   },
   "outputs": [
    {
     "name": "stdout",
     "output_type": "stream",
     "text": [
      "[[859  11]\n",
      " [118  41]]\n",
      "Accuracy: 87.46 %\n"
     ]
    }
   ],
   "source": [
    "y_pred_in = classifier.predict(X_train)\n",
    "cm = confusion_matrix(y_train, y_pred_in)\n",
    "print(cm)\n",
    "print(\"Accuracy: {:.2f} %\".format(accuracy_score(y_train, y_pred_in)*100))"
   ]
  },
  {
   "cell_type": "markdown",
   "metadata": {
    "id": "fzbQL4yea5vC"
   },
   "source": [
    "Applying k-Fold Cross Validation(Decision Tree)"
   ]
  },
  {
   "cell_type": "code",
   "execution_count": 78,
   "metadata": {
    "colab": {
     "base_uri": "https://localhost:8080/",
     "height": 51
    },
    "id": "kkxQ8atDa5vD",
    "outputId": "036cc017-f17d-49df-8afb-c02ff63cc66d"
   },
   "outputs": [
    {
     "name": "stdout",
     "output_type": "stream",
     "text": [
      "Accuracy: 80.28 %\n",
      "Standard Deviation: 2.10 %\n"
     ]
    }
   ],
   "source": [
    "accuracies = cross_val_score(estimator = classifier, X = X_train, y = y_train, cv = 10)\n",
    "print(\"Accuracy: {:.2f} %\".format(accuracies.mean()*100))\n",
    "print(\"Standard Deviation: {:.2f} %\".format(accuracies.std()*100))"
   ]
  },
  {
   "cell_type": "code",
   "execution_count": 79,
   "metadata": {
    "colab": {
     "base_uri": "https://localhost:8080/",
     "height": 1000
    },
    "id": "lX8B6bwBa5vE",
    "outputId": "70083994-2d49-4b44-c810-d9d7edd5590e"
   },
   "outputs": [
    {
     "data": {
      "text/plain": [
       "[Text(106.40585106382979, 201.90857142857143, 'X[17] <= 1.5\\nentropy = 0.621\\nsamples = 1029\\nvalue = [870, 159]'),\n",
       " Text(28.493617021276595, 170.84571428571428, 'X[22] <= 4.5\\nentropy = 0.856\\nsamples = 57\\nvalue = [41, 16]'),\n",
       " Text(21.370212765957447, 139.78285714285715, 'X[20] <= 2300.0\\nentropy = 0.925\\nsamples = 47\\nvalue = [31, 16]'),\n",
       " Text(14.246808510638298, 108.72, 'entropy = 0.0\\nsamples = 6\\nvalue = [6, 0]'),\n",
       " Text(28.493617021276595, 108.72, 'X[31] <= 0.5\\nentropy = 0.965\\nsamples = 41\\nvalue = [25, 16]'),\n",
       " Text(14.246808510638298, 77.65714285714284, 'X[11] <= 7.5\\nentropy = 0.918\\nsamples = 15\\nvalue = [5, 10]'),\n",
       " Text(7.123404255319149, 46.59428571428572, 'entropy = 0.0\\nsamples = 8\\nvalue = [0, 8]'),\n",
       " Text(21.370212765957447, 46.59428571428572, 'X[8] <= 0.5\\nentropy = 0.863\\nsamples = 7\\nvalue = [5, 2]'),\n",
       " Text(14.246808510638298, 15.531428571428563, 'entropy = 0.918\\nsamples = 3\\nvalue = [1, 2]'),\n",
       " Text(28.493617021276595, 15.531428571428563, 'entropy = 0.0\\nsamples = 4\\nvalue = [4, 0]'),\n",
       " Text(42.740425531914894, 77.65714285714284, 'X[31] <= 2.5\\nentropy = 0.779\\nsamples = 26\\nvalue = [20, 6]'),\n",
       " Text(35.61702127659574, 46.59428571428572, 'entropy = 0.0\\nsamples = 11\\nvalue = [11, 0]'),\n",
       " Text(49.86382978723404, 46.59428571428572, 'X[1] <= 1.5\\nentropy = 0.971\\nsamples = 15\\nvalue = [9, 6]'),\n",
       " Text(42.740425531914894, 15.531428571428563, 'entropy = 0.65\\nsamples = 6\\nvalue = [1, 5]'),\n",
       " Text(56.98723404255319, 15.531428571428563, 'entropy = 0.503\\nsamples = 9\\nvalue = [8, 1]'),\n",
       " Text(35.61702127659574, 139.78285714285715, 'entropy = 0.0\\nsamples = 10\\nvalue = [10, 0]'),\n",
       " Text(184.31808510638297, 170.84571428571428, 'X[21] <= 14147.5\\nentropy = 0.603\\nsamples = 972\\nvalue = [829, 143]'),\n",
       " Text(126.4404255319149, 139.78285714285715, 'X[16] <= 95.5\\nentropy = 0.672\\nsamples = 493\\nvalue = [406, 87]'),\n",
       " Text(103.28936170212766, 108.72, 'X[12] <= 2.5\\nentropy = 0.699\\nsamples = 456\\nvalue = [370, 86]'),\n",
       " Text(85.48085106382979, 77.65714285714284, 'X[20] <= 17626.5\\nentropy = 0.86\\nsamples = 120\\nvalue = [86, 34]'),\n",
       " Text(78.35744680851063, 46.59428571428572, 'X[10] <= 1433.5\\nentropy = 0.886\\nsamples = 112\\nvalue = [78, 34]'),\n",
       " Text(71.23404255319149, 15.531428571428563, 'entropy = 0.861\\nsamples = 109\\nvalue = [78, 31]'),\n",
       " Text(85.48085106382979, 15.531428571428563, 'entropy = 0.0\\nsamples = 3\\nvalue = [0, 3]'),\n",
       " Text(92.60425531914893, 46.59428571428572, 'entropy = 0.0\\nsamples = 8\\nvalue = [8, 0]'),\n",
       " Text(121.09787234042552, 77.65714285714284, 'X[8] <= 0.5\\nentropy = 0.622\\nsamples = 336\\nvalue = [284, 52]'),\n",
       " Text(106.85106382978724, 46.59428571428572, 'X[28] <= 1.5\\nentropy = 0.3\\nsamples = 75\\nvalue = [71, 4]'),\n",
       " Text(99.72765957446808, 15.531428571428563, 'entropy = 0.971\\nsamples = 5\\nvalue = [2, 3]'),\n",
       " Text(113.97446808510638, 15.531428571428563, 'entropy = 0.108\\nsamples = 70\\nvalue = [69, 1]'),\n",
       " Text(135.34468085106383, 46.59428571428572, 'X[20] <= 2071.5\\nentropy = 0.689\\nsamples = 261\\nvalue = [213, 48]'),\n",
       " Text(128.22127659574468, 15.531428571428563, 'entropy = 0.918\\nsamples = 6\\nvalue = [2, 4]'),\n",
       " Text(142.46808510638297, 15.531428571428563, 'entropy = 0.664\\nsamples = 255\\nvalue = [211, 44]'),\n",
       " Text(149.59148936170212, 108.72, 'X[28] <= 3.5\\nentropy = 0.179\\nsamples = 37\\nvalue = [36, 1]'),\n",
       " Text(142.46808510638297, 77.65714285714284, 'entropy = 0.0\\nsamples = 35\\nvalue = [35, 0]'),\n",
       " Text(156.71489361702126, 77.65714285714284, 'X[3] <= 4.0\\nentropy = 1.0\\nsamples = 2\\nvalue = [1, 1]'),\n",
       " Text(149.59148936170212, 46.59428571428572, 'entropy = 0.0\\nsamples = 1\\nvalue = [1, 0]'),\n",
       " Text(163.83829787234043, 46.59428571428572, 'entropy = 0.0\\nsamples = 1\\nvalue = [0, 1]'),\n",
       " Text(242.19574468085105, 139.78285714285715, 'X[9] <= 40.5\\nentropy = 0.52\\nsamples = 479\\nvalue = [423, 56]'),\n",
       " Text(203.01702127659573, 108.72, 'X[21] <= 23374.0\\nentropy = 0.421\\nsamples = 328\\nvalue = [300, 28]'),\n",
       " Text(185.20851063829787, 77.65714285714284, 'X[16] <= 73.5\\nentropy = 0.331\\nsamples = 246\\nvalue = [231, 15]'),\n",
       " Text(178.08510638297872, 46.59428571428572, 'X[21] <= 21519.5\\nentropy = 0.459\\nsamples = 155\\nvalue = [140, 15]'),\n",
       " Text(170.96170212765958, 15.531428571428563, 'entropy = 0.547\\nsamples = 119\\nvalue = [104, 15]'),\n",
       " Text(185.20851063829787, 15.531428571428563, 'entropy = 0.0\\nsamples = 36\\nvalue = [36, 0]'),\n",
       " Text(192.331914893617, 46.59428571428572, 'entropy = 0.0\\nsamples = 91\\nvalue = [91, 0]'),\n",
       " Text(220.82553191489362, 77.65714285714284, 'X[3] <= 2.5\\nentropy = 0.631\\nsamples = 82\\nvalue = [69, 13]'),\n",
       " Text(206.57872340425533, 46.59428571428572, 'X[21] <= 23811.5\\nentropy = 0.858\\nsamples = 39\\nvalue = [28, 11]'),\n",
       " Text(199.45531914893616, 15.531428571428563, 'entropy = 0.722\\nsamples = 5\\nvalue = [1, 4]'),\n",
       " Text(213.70212765957447, 15.531428571428563, 'entropy = 0.734\\nsamples = 34\\nvalue = [27, 7]'),\n",
       " Text(235.0723404255319, 46.59428571428572, 'X[21] <= 23398.5\\nentropy = 0.271\\nsamples = 43\\nvalue = [41, 2]'),\n",
       " Text(227.94893617021276, 15.531428571428563, 'entropy = 0.0\\nsamples = 1\\nvalue = [0, 1]'),\n",
       " Text(242.19574468085105, 15.531428571428563, 'entropy = 0.162\\nsamples = 42\\nvalue = [41, 1]'),\n",
       " Text(281.3744680851064, 108.72, 'X[21] <= 18662.5\\nentropy = 0.692\\nsamples = 151\\nvalue = [123, 28]'),\n",
       " Text(256.44255319148937, 77.65714285714284, 'X[19] <= 3.5\\nentropy = 0.327\\nsamples = 50\\nvalue = [47, 3]'),\n",
       " Text(249.3191489361702, 46.59428571428572, 'entropy = 0.0\\nsamples = 35\\nvalue = [35, 0]'),\n",
       " Text(263.5659574468085, 46.59428571428572, 'X[32] <= 2.5\\nentropy = 0.722\\nsamples = 15\\nvalue = [12, 3]'),\n",
       " Text(256.44255319148937, 15.531428571428563, 'entropy = 1.0\\nsamples = 6\\nvalue = [3, 3]'),\n",
       " Text(270.68936170212766, 15.531428571428563, 'entropy = 0.0\\nsamples = 9\\nvalue = [9, 0]'),\n",
       " Text(306.3063829787234, 77.65714285714284, 'X[21] <= 19270.0\\nentropy = 0.807\\nsamples = 101\\nvalue = [76, 25]'),\n",
       " Text(292.0595744680851, 46.59428571428572, 'X[19] <= 1.5\\nentropy = 0.863\\nsamples = 7\\nvalue = [2, 5]'),\n",
       " Text(284.93617021276594, 15.531428571428563, 'entropy = 0.0\\nsamples = 2\\nvalue = [2, 0]'),\n",
       " Text(299.18297872340423, 15.531428571428563, 'entropy = 0.0\\nsamples = 5\\nvalue = [0, 5]'),\n",
       " Text(320.5531914893617, 46.59428571428572, 'X[30] <= 11.5\\nentropy = 0.747\\nsamples = 94\\nvalue = [74, 20]'),\n",
       " Text(313.4297872340425, 15.531428571428563, 'entropy = 0.672\\nsamples = 85\\nvalue = [70, 15]'),\n",
       " Text(327.67659574468087, 15.531428571428563, 'entropy = 0.991\\nsamples = 9\\nvalue = [4, 5]')]"
      ]
     },
     "execution_count": 79,
     "metadata": {
      "tags": []
     },
     "output_type": "execute_result"
    },
    {
     "data": {
      "image/png": "[encoded data removed]",
      "text/plain": [
       "<Figure size 432x288 with 1 Axes>"
      ]
     },
     "metadata": {
      "needs_background": "light",
      "tags": []
     },
     "output_type": "display_data"
    }
   ],
   "source": [
    "tree.plot_tree(classifier) "
   ]
  },
  {
   "cell_type": "markdown",
   "metadata": {
    "id": "FFEVsxHda5vF"
   },
   "source": [
    "## **Boosting Decision trees (AdaBoost)**"
   ]
  },
  {
   "cell_type": "code",
   "execution_count": 80,
   "metadata": {
    "id": "CFGae9d7a5vG"
   },
   "outputs": [],
   "source": [
    "X_train, X_test, y_train, y_test = train_test_split(X, y, test_size = 0.3, random_state = 0) # Change train and test set\n",
    "# X_train = sc.fit_transform(X_train)\n",
    "# X_test = sc.fit_transform(X_test)\n",
    "# Tree ready X_train, X_test, y_train, y_test"
   ]
  },
  {
   "cell_type": "code",
   "execution_count": 81,
   "metadata": {
    "colab": {
     "base_uri": "https://localhost:8080/",
     "height": 34
    },
    "id": "L6hUu8yQa5vH",
    "outputId": "720eac04-10c0-48e3-fe40-2f218ef560d5"
   },
   "outputs": [
    {
     "name": "stdout",
     "output_type": "stream",
     "text": [
      "(1029, 33) (441, 33) (1029,) (441,)\n"
     ]
    }
   ],
   "source": [
    "print(X_train.shape, X_test.shape, y_train.shape, y_test.shape)"
   ]
  },
  {
   "cell_type": "markdown",
   "metadata": {
    "id": "hNXPw3Lra5vJ"
   },
   "source": [
    "Training AdaBoost on the Training set"
   ]
  },
  {
   "cell_type": "code",
   "execution_count": 82,
   "metadata": {
    "colab": {
     "base_uri": "https://localhost:8080/",
     "height": 51
    },
    "id": "8rnftmH5a5vJ",
    "outputId": "c321965f-330d-4e69-db62-0d858a154cc7"
   },
   "outputs": [
    {
     "data": {
      "text/plain": [
       "AdaBoostClassifier(algorithm='SAMME.R', base_estimator=None, learning_rate=1.0,\n",
       "                   n_estimators=50, random_state=None)"
      ]
     },
     "execution_count": 82,
     "metadata": {
      "tags": []
     },
     "output_type": "execute_result"
    }
   ],
   "source": [
    "from sklearn.ensemble import AdaBoostClassifier\n",
    "classifier = AdaBoostClassifier()\n",
    "classifier.fit(X_train, y_train)"
   ]
  },
  {
   "cell_type": "markdown",
   "metadata": {
    "id": "cTqPL8pJa5vK"
   },
   "source": [
    "Training set results and Confusion Matrix"
   ]
  },
  {
   "cell_type": "code",
   "execution_count": 83,
   "metadata": {
    "colab": {
     "base_uri": "https://localhost:8080/",
     "height": 68
    },
    "id": "BiJAOXAta5vK",
    "outputId": "bee50f37-4a14-4fa8-b9f2-9ea49c0d16bb"
   },
   "outputs": [
    {
     "name": "stdout",
     "output_type": "stream",
     "text": [
      "[[863   7]\n",
      " [154   5]]\n",
      "Accuracy: 84.35 %\n"
     ]
    }
   ],
   "source": [
    "y_pred_in = classifier.predict(X_train)\n",
    "cm = confusion_matrix(y_train, y_pred_in)\n",
    "print(cm)\n",
    "print(\"Accuracy: {:.2f} %\".format(accuracy_score(y_train, y_pred_in)*100))"
   ]
  },
  {
   "cell_type": "markdown",
   "metadata": {
    "id": "d-s4RlNWa5vO"
   },
   "source": [
    "Applying k-Fold Cross Validation"
   ]
  },
  {
   "cell_type": "code",
   "execution_count": 84,
   "metadata": {
    "colab": {
     "base_uri": "https://localhost:8080/",
     "height": 51
    },
    "id": "Mdwy7bjfa5vO",
    "outputId": "a0b4b693-0d7f-4787-e392-4ae02f0b9880"
   },
   "outputs": [
    {
     "name": "stdout",
     "output_type": "stream",
     "text": [
      "Accuracy: 82.80 %\n",
      "Standard Deviation: 1.22 %\n"
     ]
    }
   ],
   "source": [
    "accuracies = cross_val_score(estimator = classifier, X = X_train, y = y_train, cv = 10)\n",
    "print(\"Accuracy: {:.2f} %\".format(accuracies.mean()*100))\n",
    "print(\"Standard Deviation: {:.2f} %\".format(accuracies.std()*100))"
   ]
  },
  {
   "cell_type": "markdown",
   "metadata": {
    "id": "0PMEOTe6a5vQ"
   },
   "source": [
    "Making the Confusion Matrix"
   ]
  },
  {
   "cell_type": "code",
   "execution_count": 85,
   "metadata": {
    "colab": {
     "base_uri": "https://localhost:8080/",
     "height": 68
    },
    "id": "j6UtAH9ta5vR",
    "outputId": "2003166f-0eb0-4a59-f033-7a15f266157a"
   },
   "outputs": [
    {
     "name": "stdout",
     "output_type": "stream",
     "text": [
      "[[363  11]\n",
      " [ 67   0]]\n",
      "Accuracy: 82.31 %\n"
     ]
    }
   ],
   "source": [
    "y_pred = classifier.predict(X_test)\n",
    "cm = confusion_matrix(y_test, y_pred)\n",
    "print(cm)\n",
    "print(\"Accuracy: {:.2f} %\".format(accuracy_score(y_test, y_pred)*100))"
   ]
  },
  {
   "cell_type": "markdown",
   "metadata": {
    "id": "WqREnVP7f6-s"
   },
   "source": [
    "# IBM All Columes"
   ]
  },
  {
   "cell_type": "code",
   "execution_count": 86,
   "metadata": {
    "colab": {
     "base_uri": "https://localhost:8080/",
     "height": 213
    },
    "id": "mldFwNzfdacu",
    "outputId": "dea39435-8948-4b7b-f0c6-315b8fa3acef"
   },
   "outputs": [
    {
     "data": {
      "text/html": [
       "<div>\n",
       "<style scoped>\n",
       "    .dataframe tbody tr th:only-of-type {\n",
       "        vertical-align: middle;\n",
       "    }\n",
       "\n",
       "    .dataframe tbody tr th {\n",
       "        vertical-align: top;\n",
       "    }\n",
       "\n",
       "    .dataframe thead th {\n",
       "        text-align: right;\n",
       "    }\n",
       "</style>\n",
       "<table border=\"1\" class=\"dataframe\">\n",
       "  <thead>\n",
       "    <tr style=\"text-align: right;\">\n",
       "      <th></th>\n",
       "      <th>PerformanceRating</th>\n",
       "      <th>Age</th>\n",
       "      <th>Attrition</th>\n",
       "      <th>BusinessTravel</th>\n",
       "      <th>DailyRate</th>\n",
       "      <th>Department</th>\n",
       "      <th>DistanceFromHome</th>\n",
       "      <th>Education</th>\n",
       "      <th>EducationField</th>\n",
       "      <th>EmployeeCount</th>\n",
       "      <th>EmployeeNumber</th>\n",
       "      <th>EnvironmentSatisfaction</th>\n",
       "      <th>Gender</th>\n",
       "      <th>HourlyRate</th>\n",
       "      <th>JobInvolvement</th>\n",
       "      <th>JobLevel</th>\n",
       "      <th>JobRole</th>\n",
       "      <th>JobSatisfaction</th>\n",
       "      <th>MaritalStatus</th>\n",
       "      <th>MonthlyIncome</th>\n",
       "      <th>MonthlyRate</th>\n",
       "      <th>NumCompaniesWorked</th>\n",
       "      <th>Over18</th>\n",
       "      <th>OverTime</th>\n",
       "      <th>PercentSalaryHike</th>\n",
       "      <th>RelationshipSatisfaction</th>\n",
       "      <th>StandardHours</th>\n",
       "      <th>StockOptionLevel</th>\n",
       "      <th>TotalWorkingYears</th>\n",
       "      <th>TrainingTimesLastYear</th>\n",
       "      <th>WorkLifeBalance</th>\n",
       "      <th>YearsAtCompany</th>\n",
       "      <th>YearsInCurrentRole</th>\n",
       "      <th>YearsSinceLastPromotion</th>\n",
       "      <th>YearsWithCurrManager</th>\n",
       "    </tr>\n",
       "  </thead>\n",
       "  <tbody>\n",
       "    <tr>\n",
       "      <th>0</th>\n",
       "      <td>3</td>\n",
       "      <td>41</td>\n",
       "      <td>Yes</td>\n",
       "      <td>Travel_Rarely</td>\n",
       "      <td>1102</td>\n",
       "      <td>Sales</td>\n",
       "      <td>1</td>\n",
       "      <td>2</td>\n",
       "      <td>Life Sciences</td>\n",
       "      <td>1</td>\n",
       "      <td>1</td>\n",
       "      <td>2</td>\n",
       "      <td>Female</td>\n",
       "      <td>94</td>\n",
       "      <td>3</td>\n",
       "      <td>2</td>\n",
       "      <td>Sales Executive</td>\n",
       "      <td>4</td>\n",
       "      <td>Single</td>\n",
       "      <td>5993</td>\n",
       "      <td>19479</td>\n",
       "      <td>8</td>\n",
       "      <td>Y</td>\n",
       "      <td>Yes</td>\n",
       "      <td>11</td>\n",
       "      <td>1</td>\n",
       "      <td>80</td>\n",
       "      <td>0</td>\n",
       "      <td>8</td>\n",
       "      <td>0</td>\n",
       "      <td>1</td>\n",
       "      <td>6</td>\n",
       "      <td>4</td>\n",
       "      <td>0</td>\n",
       "      <td>5</td>\n",
       "    </tr>\n",
       "    <tr>\n",
       "      <th>1</th>\n",
       "      <td>4</td>\n",
       "      <td>49</td>\n",
       "      <td>No</td>\n",
       "      <td>Travel_Frequently</td>\n",
       "      <td>279</td>\n",
       "      <td>Research &amp; Development</td>\n",
       "      <td>8</td>\n",
       "      <td>1</td>\n",
       "      <td>Life Sciences</td>\n",
       "      <td>1</td>\n",
       "      <td>2</td>\n",
       "      <td>3</td>\n",
       "      <td>Male</td>\n",
       "      <td>61</td>\n",
       "      <td>2</td>\n",
       "      <td>2</td>\n",
       "      <td>Research Scientist</td>\n",
       "      <td>2</td>\n",
       "      <td>Married</td>\n",
       "      <td>5130</td>\n",
       "      <td>24907</td>\n",
       "      <td>1</td>\n",
       "      <td>Y</td>\n",
       "      <td>No</td>\n",
       "      <td>23</td>\n",
       "      <td>4</td>\n",
       "      <td>80</td>\n",
       "      <td>1</td>\n",
       "      <td>10</td>\n",
       "      <td>3</td>\n",
       "      <td>3</td>\n",
       "      <td>10</td>\n",
       "      <td>7</td>\n",
       "      <td>1</td>\n",
       "      <td>7</td>\n",
       "    </tr>\n",
       "    <tr>\n",
       "      <th>2</th>\n",
       "      <td>3</td>\n",
       "      <td>37</td>\n",
       "      <td>Yes</td>\n",
       "      <td>Travel_Rarely</td>\n",
       "      <td>1373</td>\n",
       "      <td>Research &amp; Development</td>\n",
       "      <td>2</td>\n",
       "      <td>2</td>\n",
       "      <td>Other</td>\n",
       "      <td>1</td>\n",
       "      <td>4</td>\n",
       "      <td>4</td>\n",
       "      <td>Male</td>\n",
       "      <td>92</td>\n",
       "      <td>2</td>\n",
       "      <td>1</td>\n",
       "      <td>Laboratory Technician</td>\n",
       "      <td>3</td>\n",
       "      <td>Single</td>\n",
       "      <td>2090</td>\n",
       "      <td>2396</td>\n",
       "      <td>6</td>\n",
       "      <td>Y</td>\n",
       "      <td>Yes</td>\n",
       "      <td>15</td>\n",
       "      <td>2</td>\n",
       "      <td>80</td>\n",
       "      <td>0</td>\n",
       "      <td>7</td>\n",
       "      <td>3</td>\n",
       "      <td>3</td>\n",
       "      <td>0</td>\n",
       "      <td>0</td>\n",
       "      <td>0</td>\n",
       "      <td>0</td>\n",
       "    </tr>\n",
       "  </tbody>\n",
       "</table>\n",
       "</div>"
      ],
      "text/plain": [
       "   PerformanceRating  Age  ... YearsSinceLastPromotion YearsWithCurrManager\n",
       "0                  3   41  ...                       0                    5\n",
       "1                  4   49  ...                       1                    7\n",
       "2                  3   37  ...                       0                    0\n",
       "\n",
       "[3 rows x 35 columns]"
      ]
     },
     "execution_count": 86,
     "metadata": {
      "tags": []
     },
     "output_type": "execute_result"
    }
   ],
   "source": [
    "dataset = pd.read_csv(\"/content/WA_Fn-UseC_-HR-Employee-Attrition.csv\")\n",
    "PerformanceRating = dataset['PerformanceRating']\n",
    "dataset.drop(labels=['PerformanceRating'], axis=1, inplace = True)\n",
    "dataset.insert(0, 'PerformanceRating', PerformanceRating)\n",
    "dataset.head(3)"
   ]
  },
  {
   "cell_type": "code",
   "execution_count": 87,
   "metadata": {
    "id": "A-x2N-q6kMrn"
   },
   "outputs": [],
   "source": [
    "X = dataset.iloc[:, 1:].values\n",
    "y = dataset.iloc[:, 0].values\n",
    "ct = ColumnTransformer(transformers=[('encoder', OrdinalEncoder(), [1,2,4,7,11,15,21,22,17])], remainder='passthrough')\n",
    "X = np.array(ct.fit_transform(X))\n",
    "le = LabelEncoder()\n",
    "y = le.fit_transform(y)"
   ]
  },
  {
   "cell_type": "code",
   "execution_count": 88,
   "metadata": {
    "colab": {
     "base_uri": "https://localhost:8080/",
     "height": 68
    },
    "id": "QW8HCqTr51XZ",
    "outputId": "a459a1f6-41f7-490a-c93a-f3c256d95c4d"
   },
   "outputs": [
    {
     "name": "stdout",
     "output_type": "stream",
     "text": [
      "[[374   0]\n",
      " [  0  67]]\n",
      "Accuracy: 100.00 %\n"
     ]
    }
   ],
   "source": [
    "X_train, X_test, y_train, y_test = train_test_split(X, y, test_size = 0.3, random_state = 0)\n",
    "classifier = DecisionTreeClassifier(criterion = 'entropy',splitter='best', random_state = 5)\n",
    "classifier.fit(X_train, y_train)\n",
    "y_pred = classifier.predict(X_test)\n",
    "cm = confusion_matrix(y_test, y_pred)\n",
    "print(cm)\n",
    "print(\"Accuracy: {:.2f} %\".format(accuracy_score(y_test, y_pred)*100))"
   ]
  },
  {
   "cell_type": "code",
   "execution_count": 89,
   "metadata": {
    "colab": {
     "base_uri": "https://localhost:8080/",
     "height": 51
    },
    "id": "y8thp1DV5o71",
    "outputId": "d948e389-d3d4-4488-81bd-75cc31ca5ad5"
   },
   "outputs": [
    {
     "name": "stdout",
     "output_type": "stream",
     "text": [
      "Accuracy: 100.00 %\n",
      "Standard Deviation: 0.00 %\n"
     ]
    }
   ],
   "source": [
    "accuracies = cross_val_score(estimator = classifier,X = X_train, y = y_train, cv = 10)\n",
    "print(\"Accuracy: {:.2f} %\".format(accuracies.mean()*100))\n",
    "print(\"Standard Deviation: {:.2f} %\".format(accuracies.std()*100))"
   ]
  },
  {
   "cell_type": "code",
   "execution_count": 90,
   "metadata": {
    "colab": {
     "base_uri": "https://localhost:8080/",
     "height": 68
    },
    "id": "OJY3v0uv545j",
    "outputId": "66b4496c-9490-4c80-f738-7419d71ef70e"
   },
   "outputs": [
    {
     "name": "stdout",
     "output_type": "stream",
     "text": [
      "[[870   0]\n",
      " [  0 159]]\n",
      "Accuracy: 100.00 %\n"
     ]
    }
   ],
   "source": [
    "y_pred_in = classifier.predict(X_train)\n",
    "cm = confusion_matrix(y_train, y_pred_in)\n",
    "print(cm)\n",
    "print(\"Accuracy: {:.2f} %\".format(accuracy_score(y_train, y_pred_in)*100))"
   ]
  },
  {
   "cell_type": "code",
   "execution_count": 91,
   "metadata": {
    "colab": {
     "base_uri": "https://localhost:8080/",
     "height": 299
    },
    "id": "acAdgNPA59sY",
    "outputId": "01308353-8690-42ae-f695-3ccde540a42a"
   },
   "outputs": [
    {
     "data": {
      "text/plain": [
       "[Text(167.4, 163.07999999999998, 'X[23] <= 19.5\\nentropy = 0.621\\nsamples = 1029\\nvalue = [870, 159]'),\n",
       " Text(83.7, 54.360000000000014, 'entropy = 0.0\\nsamples = 870\\nvalue = [870, 0]'),\n",
       " Text(251.10000000000002, 54.360000000000014, 'entropy = 0.0\\nsamples = 159\\nvalue = [0, 159]')]"
      ]
     },
     "execution_count": 91,
     "metadata": {
      "tags": []
     },
     "output_type": "execute_result"
    },
    {
     "data": {
      "image/png": "[encoded data removed]",
      "text/plain": [
       "<Figure size 432x288 with 1 Axes>"
      ]
     },
     "metadata": {
      "needs_background": "light",
      "tags": []
     },
     "output_type": "display_data"
    }
   ],
   "source": [
    "tree.plot_tree(classifier) "
   ]
  }
 ],
 "metadata": {
  "colab": {
   "collapsed_sections": [
    "-vOblfSuChcX",
    "UVcgLzZQTscT",
    "BkApugOPdXIC",
    "SjsErV5Ba6lK"
   ],
   "name": "ML Assignment 2.ipynb",
   "provenance": []
  },
  "kernelspec": {
   "display_name": "Python 3",
   "language": "python",
   "name": "python3"
  },
  "language_info": {
   "codemirror_mode": {
    "name": "ipython",
    "version": 3
   },
   "file_extension": ".py",
   "mimetype": "text/x-python",
   "name": "python",
   "nbconvert_exporter": "python",
   "pygments_lexer": "ipython3",
   "version": "3.8.3"
  }
 },
 "nbformat": 4,
 "nbformat_minor": 1
}
