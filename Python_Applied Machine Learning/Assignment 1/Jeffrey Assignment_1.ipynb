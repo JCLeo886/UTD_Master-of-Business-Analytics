{
 "cells": [
  {
   "cell_type": "markdown",
   "metadata": {
    "colab_type": "text",
    "id": "CCYetrqMtWF8"
   },
   "source": [
    "### Attribute Information:\n",
    "Date : year-month-day <br>\n",
    "Rented Bike count - Count of bikes rented at each hour<br>\n",
    "Hour - Hour of he day<br>\n",
    "Temperature-Temperature in Celsius<br>\n",
    "Humidity - %<br>\n",
    "Windspeed - m/s<br>\n",
    "Visibility - 10m<br>\n",
    "Dew point temperature - Celsius<br>\n",
    "Solar radiation - MJ/m2<br>\n",
    "Rainfall - mm<br>\n",
    "Snowfall - cm<br>\n",
    "Seasons - Winter, Spring, Summer, Autumn<br>\n",
    "Holiday - Holiday/No holiday<br>\n",
    "Functional Day - NoFunc(Non Functional Hours), Fun(Functional hours)<br>"
   ]
  },
  {
   "cell_type": "code",
   "execution_count": 3,
   "metadata": {
    "colab": {
     "base_uri": "https://localhost:8080/",
     "height": 203
    },
    "colab_type": "code",
    "id": "gfszWQUntWF9",
    "outputId": "0d4fb98b-2084-4190-e2da-ef59a247f045"
   },
   "outputs": [
    {
     "data": {
      "text/html": [
       "<div>\n",
       "<style scoped>\n",
       "    .dataframe tbody tr th:only-of-type {\n",
       "        vertical-align: middle;\n",
       "    }\n",
       "\n",
       "    .dataframe tbody tr th {\n",
       "        vertical-align: top;\n",
       "    }\n",
       "\n",
       "    .dataframe thead th {\n",
       "        text-align: right;\n",
       "    }\n",
       "</style>\n",
       "<table border=\"1\" class=\"dataframe\">\n",
       "  <thead>\n",
       "    <tr style=\"text-align: right;\">\n",
       "      <th></th>\n",
       "      <th>Date</th>\n",
       "      <th>Rented Bike Count</th>\n",
       "      <th>Hour</th>\n",
       "      <th>Temperature(°C)</th>\n",
       "      <th>Humidity(%)</th>\n",
       "      <th>Wind speed (m/s)</th>\n",
       "      <th>Visibility (10m)</th>\n",
       "      <th>Dew point temperature(°C)</th>\n",
       "      <th>Solar Radiation (MJ/m2)</th>\n",
       "      <th>Rainfall(mm)</th>\n",
       "      <th>Snowfall (cm)</th>\n",
       "      <th>Seasons</th>\n",
       "      <th>Holiday</th>\n",
       "      <th>Functioning Day</th>\n",
       "    </tr>\n",
       "  </thead>\n",
       "  <tbody>\n",
       "    <tr>\n",
       "      <th>0</th>\n",
       "      <td>01/12/2017</td>\n",
       "      <td>254</td>\n",
       "      <td>0</td>\n",
       "      <td>-5.2</td>\n",
       "      <td>37</td>\n",
       "      <td>2.2</td>\n",
       "      <td>2000</td>\n",
       "      <td>-17.6</td>\n",
       "      <td>0.0</td>\n",
       "      <td>0.0</td>\n",
       "      <td>0.0</td>\n",
       "      <td>Winter</td>\n",
       "      <td>No Holiday</td>\n",
       "      <td>Yes</td>\n",
       "    </tr>\n",
       "    <tr>\n",
       "      <th>1</th>\n",
       "      <td>01/12/2017</td>\n",
       "      <td>204</td>\n",
       "      <td>1</td>\n",
       "      <td>-5.5</td>\n",
       "      <td>38</td>\n",
       "      <td>0.8</td>\n",
       "      <td>2000</td>\n",
       "      <td>-17.6</td>\n",
       "      <td>0.0</td>\n",
       "      <td>0.0</td>\n",
       "      <td>0.0</td>\n",
       "      <td>Winter</td>\n",
       "      <td>No Holiday</td>\n",
       "      <td>Yes</td>\n",
       "    </tr>\n",
       "    <tr>\n",
       "      <th>2</th>\n",
       "      <td>01/12/2017</td>\n",
       "      <td>173</td>\n",
       "      <td>2</td>\n",
       "      <td>-6.0</td>\n",
       "      <td>39</td>\n",
       "      <td>1.0</td>\n",
       "      <td>2000</td>\n",
       "      <td>-17.7</td>\n",
       "      <td>0.0</td>\n",
       "      <td>0.0</td>\n",
       "      <td>0.0</td>\n",
       "      <td>Winter</td>\n",
       "      <td>No Holiday</td>\n",
       "      <td>Yes</td>\n",
       "    </tr>\n",
       "  </tbody>\n",
       "</table>\n",
       "</div>"
      ],
      "text/plain": [
       "         Date  Rented Bike Count  Hour  Temperature(°C)  Humidity(%)  \\\n",
       "0  01/12/2017                254     0             -5.2           37   \n",
       "1  01/12/2017                204     1             -5.5           38   \n",
       "2  01/12/2017                173     2             -6.0           39   \n",
       "\n",
       "   Wind speed (m/s)  Visibility (10m)  Dew point temperature(°C)  \\\n",
       "0               2.2              2000                      -17.6   \n",
       "1               0.8              2000                      -17.6   \n",
       "2               1.0              2000                      -17.7   \n",
       "\n",
       "   Solar Radiation (MJ/m2)  Rainfall(mm)  Snowfall (cm) Seasons     Holiday  \\\n",
       "0                      0.0           0.0            0.0  Winter  No Holiday   \n",
       "1                      0.0           0.0            0.0  Winter  No Holiday   \n",
       "2                      0.0           0.0            0.0  Winter  No Holiday   \n",
       "\n",
       "  Functioning Day  \n",
       "0             Yes  \n",
       "1             Yes  \n",
       "2             Yes  "
      ]
     },
     "execution_count": 3,
     "metadata": {},
     "output_type": "execute_result"
    }
   ],
   "source": [
    "import pandas as pd\n",
    "import numpy as np \n",
    "dataset = pd.read_csv(\"SeoulBikeData.csv\",encoding='latin1') \n",
    "dataset.head(3) # view the data"
   ]
  },
  {
   "cell_type": "code",
   "execution_count": 4,
   "metadata": {
    "colab": {
     "base_uri": "https://localhost:8080/",
     "height": 269
    },
    "colab_type": "code",
    "id": "-jEHl16itWGC",
    "outputId": "e4e8385b-b33b-4289-ff39-6278e514c1d3"
   },
   "outputs": [
    {
     "data": {
      "text/plain": [
       "Date                         0\n",
       "Rented Bike Count            0\n",
       "Hour                         0\n",
       "Temperature(°C)              0\n",
       "Humidity(%)                  0\n",
       "Wind speed (m/s)             0\n",
       "Visibility (10m)             0\n",
       "Dew point temperature(°C)    0\n",
       "Solar Radiation (MJ/m2)      0\n",
       "Rainfall(mm)                 0\n",
       "Snowfall (cm)                0\n",
       "Seasons                      0\n",
       "Holiday                      0\n",
       "Functioning Day              0\n",
       "dtype: int64"
      ]
     },
     "execution_count": 4,
     "metadata": {},
     "output_type": "execute_result"
    }
   ],
   "source": [
    "dataset.isnull().sum() # check the Missing Data"
   ]
  },
  {
   "cell_type": "code",
   "execution_count": 5,
   "metadata": {
    "colab": {
     "base_uri": "https://localhost:8080/",
     "height": 269
    },
    "colab_type": "code",
    "id": "OT_tlaAytWGF",
    "outputId": "52abc336-cdfb-44a0-e8f1-06de6f43365e"
   },
   "outputs": [
    {
     "data": {
      "text/plain": [
       "Date                          object\n",
       "Rented Bike Count              int64\n",
       "Hour                           int64\n",
       "Temperature(°C)              float64\n",
       "Humidity(%)                    int64\n",
       "Wind speed (m/s)             float64\n",
       "Visibility (10m)               int64\n",
       "Dew point temperature(°C)    float64\n",
       "Solar Radiation (MJ/m2)      float64\n",
       "Rainfall(mm)                 float64\n",
       "Snowfall (cm)                float64\n",
       "Seasons                       object\n",
       "Holiday                       object\n",
       "Functioning Day               object\n",
       "dtype: object"
      ]
     },
     "execution_count": 5,
     "metadata": {},
     "output_type": "execute_result"
    }
   ],
   "source": [
    "dataset.dtypes"
   ]
  },
  {
   "cell_type": "code",
   "execution_count": 6,
   "metadata": {
    "colab": {
     "base_uri": "https://localhost:8080/",
     "height": 134
    },
    "colab_type": "code",
    "id": "Ccz_VPMOtWGH",
    "outputId": "e1e32587-67e6-45ea-8fa7-d1ae601ec44f"
   },
   "outputs": [
    {
     "name": "stdout",
     "output_type": "stream",
     "text": [
      "[[0 -5.2 37 ... 'Winter' 'No Holiday' 'Yes']\n",
      " [1 -5.5 38 ... 'Winter' 'No Holiday' 'Yes']\n",
      " [2 -6.0 39 ... 'Winter' 'No Holiday' 'Yes']\n",
      " ...\n",
      " [21 2.6 39 ... 'Autumn' 'No Holiday' 'Yes']\n",
      " [22 2.1 41 ... 'Autumn' 'No Holiday' 'Yes']\n",
      " [23 1.9 43 ... 'Autumn' 'No Holiday' 'Yes']] [254 204 173 ... 694 712 584]\n"
     ]
    }
   ],
   "source": [
    "X = dataset.iloc[:, 2:].values # independent variable\n",
    "Y = dataset.iloc[:, 1].values  # dependent variable(Rented Bike Count)\n",
    "print(X,Y) # check the X,Y"
   ]
  },
  {
   "cell_type": "code",
   "execution_count": 7,
   "metadata": {
    "colab": {
     "base_uri": "https://localhost:8080/",
     "height": 134
    },
    "colab_type": "code",
    "id": "BnXCspnptWGK",
    "outputId": "a20f21e4-ae49-4af0-fc3d-3aabc50ac89a"
   },
   "outputs": [
    {
     "name": "stdout",
     "output_type": "stream",
     "text": [
      "[[0.0 1.0 0 ... 0.0 'Winter' 'Yes']\n",
      " [0.0 1.0 1 ... 0.0 'Winter' 'Yes']\n",
      " [0.0 1.0 2 ... 0.0 'Winter' 'Yes']\n",
      " ...\n",
      " [0.0 1.0 21 ... 0.0 'Autumn' 'Yes']\n",
      " [0.0 1.0 22 ... 0.0 'Autumn' 'Yes']\n",
      " [0.0 1.0 23 ... 0.0 'Autumn' 'Yes']]\n"
     ]
    }
   ],
   "source": [
    "# Encoding the Independent Variable\n",
    "from sklearn.compose import ColumnTransformer\n",
    "from sklearn.preprocessing import OneHotEncoder\n",
    "# Encoding holiday\n",
    "holiday = ColumnTransformer(transformers=[('encoder', OneHotEncoder(), [-2])], remainder='passthrough')\n",
    "X = np.array(holiday.fit_transform(X))\n",
    "print(X)"
   ]
  },
  {
   "cell_type": "code",
   "execution_count": 8,
   "metadata": {
    "colab": {
     "base_uri": "https://localhost:8080/",
     "height": 134
    },
    "colab_type": "code",
    "id": "CuAJatoutWGM",
    "outputId": "9dae7ab0-f3e8-4861-f488-3745947746dc"
   },
   "outputs": [
    {
     "name": "stdout",
     "output_type": "stream",
     "text": [
      "[[0.0 1.0 0.0 ... 0.0 0.0 'Winter']\n",
      " [0.0 1.0 0.0 ... 0.0 0.0 'Winter']\n",
      " [0.0 1.0 0.0 ... 0.0 0.0 'Winter']\n",
      " ...\n",
      " [0.0 1.0 0.0 ... 0.0 0.0 'Autumn']\n",
      " [0.0 1.0 0.0 ... 0.0 0.0 'Autumn']\n",
      " [0.0 1.0 0.0 ... 0.0 0.0 'Autumn']]\n"
     ]
    }
   ],
   "source": [
    "# Encoding Functioning Day\n",
    "Functioning = ColumnTransformer(transformers=[('encoder', OneHotEncoder(), [-1])], remainder='passthrough')\n",
    "X = np.array(Functioning.fit_transform(X))\n",
    "print(X)"
   ]
  },
  {
   "cell_type": "code",
   "execution_count": 9,
   "metadata": {
    "colab": {
     "base_uri": "https://localhost:8080/",
     "height": 134
    },
    "colab_type": "code",
    "id": "kDX3N5DItWGP",
    "outputId": "f59e51fa-aca9-44a2-b4a9-ba134b964561"
   },
   "outputs": [
    {
     "name": "stdout",
     "output_type": "stream",
     "text": [
      "[[0.0 0.0 0.0 ... 0.0 0.0 0.0]\n",
      " [0.0 0.0 0.0 ... 0.0 0.0 0.0]\n",
      " [0.0 0.0 0.0 ... 0.0 0.0 0.0]\n",
      " ...\n",
      " [1.0 0.0 0.0 ... 0.0 0.0 0.0]\n",
      " [1.0 0.0 0.0 ... 0.0 0.0 0.0]\n",
      " [1.0 0.0 0.0 ... 0.0 0.0 0.0]]\n"
     ]
    }
   ],
   "source": [
    "# Encoding seasons\n",
    "seasons = ColumnTransformer(transformers=[('encoder', OneHotEncoder(), [-1])], remainder='passthrough')\n",
    "X = np.array(seasons.fit_transform(X))\n",
    "print(X)"
   ]
  },
  {
   "cell_type": "code",
   "execution_count": 10,
   "metadata": {
    "colab": {
     "base_uri": "https://localhost:8080/",
     "height": 34
    },
    "colab_type": "code",
    "id": "OSh-XZzltWGT",
    "outputId": "4061b7f1-78b3-4da8-8fad-9a7c852ea4a0"
   },
   "outputs": [
    {
     "name": "stdout",
     "output_type": "stream",
     "text": [
      "[0.0 0.0 0.0 1.0 0.0 1.0 0.0 1.0 1 -5.5 38 0.8 2000 -17.6 0.0 0.0 0.0]\n"
     ]
    }
   ],
   "source": [
    "print(X[1,:]) #Check the array"
   ]
  },
  {
   "cell_type": "code",
   "execution_count": 11,
   "metadata": {
    "colab": {},
    "colab_type": "code",
    "id": "Ec90pMUptWGW"
   },
   "outputs": [],
   "source": [
    "# Scale of all features should be similar\n",
    "# Min-Max Scaler\n",
    "from sklearn import preprocessing\n",
    "scaler = preprocessing.MinMaxScaler()\n",
    "X = scaler.fit_transform(X)"
   ]
  },
  {
   "cell_type": "code",
   "execution_count": 12,
   "metadata": {
    "colab": {
     "base_uri": "https://localhost:8080/",
     "height": 67
    },
    "colab_type": "code",
    "id": "M5sTtEw2tWGY",
    "outputId": "de634d7a-2e0e-47bf-cfd5-af03db1402ac"
   },
   "outputs": [
    {
     "name": "stdout",
     "output_type": "stream",
     "text": [
      "[0.         0.         0.         1.         0.         1.\n",
      " 0.         1.         0.04347826 0.21503497 0.3877551  0.10810811\n",
      " 1.         0.22491349 0.         0.         0.        ]\n"
     ]
    }
   ],
   "source": [
    "print(X[1,:]) #Check the array"
   ]
  },
  {
   "cell_type": "code",
   "execution_count": 13,
   "metadata": {
    "colab": {
     "base_uri": "https://localhost:8080/",
     "height": 156
    },
    "colab_type": "code",
    "id": "OToASnjvtWGb",
    "outputId": "d35268ce-6d0a-4f81-c9bc-4334c96aa79f"
   },
   "outputs": [
    {
     "data": {
      "text/html": [
       "<div>\n",
       "<style scoped>\n",
       "    .dataframe tbody tr th:only-of-type {\n",
       "        vertical-align: middle;\n",
       "    }\n",
       "\n",
       "    .dataframe tbody tr th {\n",
       "        vertical-align: top;\n",
       "    }\n",
       "\n",
       "    .dataframe thead th {\n",
       "        text-align: right;\n",
       "    }\n",
       "</style>\n",
       "<table border=\"1\" class=\"dataframe\">\n",
       "  <thead>\n",
       "    <tr style=\"text-align: right;\">\n",
       "      <th></th>\n",
       "      <th>Autumn</th>\n",
       "      <th>Summer</th>\n",
       "      <th>Spring</th>\n",
       "      <th>Winter</th>\n",
       "      <th>NoFunc</th>\n",
       "      <th>YesFunc</th>\n",
       "      <th>Holiday</th>\n",
       "      <th>No_Holiday</th>\n",
       "      <th>Hour</th>\n",
       "      <th>Temperature</th>\n",
       "      <th>Humidity</th>\n",
       "      <th>Wind_speed</th>\n",
       "      <th>Visibility</th>\n",
       "      <th>Dew_point_temperature</th>\n",
       "      <th>Solar_Radiation</th>\n",
       "      <th>Rainfall</th>\n",
       "      <th>Snowfall</th>\n",
       "    </tr>\n",
       "  </thead>\n",
       "  <tbody>\n",
       "    <tr>\n",
       "      <th>0</th>\n",
       "      <td>0.0</td>\n",
       "      <td>0.0</td>\n",
       "      <td>0.0</td>\n",
       "      <td>1.0</td>\n",
       "      <td>0.0</td>\n",
       "      <td>1.0</td>\n",
       "      <td>0.0</td>\n",
       "      <td>1.0</td>\n",
       "      <td>0.000000</td>\n",
       "      <td>0.220280</td>\n",
       "      <td>0.377551</td>\n",
       "      <td>0.297297</td>\n",
       "      <td>1.0</td>\n",
       "      <td>0.224913</td>\n",
       "      <td>0.0</td>\n",
       "      <td>0.0</td>\n",
       "      <td>0.0</td>\n",
       "    </tr>\n",
       "    <tr>\n",
       "      <th>1</th>\n",
       "      <td>0.0</td>\n",
       "      <td>0.0</td>\n",
       "      <td>0.0</td>\n",
       "      <td>1.0</td>\n",
       "      <td>0.0</td>\n",
       "      <td>1.0</td>\n",
       "      <td>0.0</td>\n",
       "      <td>1.0</td>\n",
       "      <td>0.043478</td>\n",
       "      <td>0.215035</td>\n",
       "      <td>0.387755</td>\n",
       "      <td>0.108108</td>\n",
       "      <td>1.0</td>\n",
       "      <td>0.224913</td>\n",
       "      <td>0.0</td>\n",
       "      <td>0.0</td>\n",
       "      <td>0.0</td>\n",
       "    </tr>\n",
       "    <tr>\n",
       "      <th>2</th>\n",
       "      <td>0.0</td>\n",
       "      <td>0.0</td>\n",
       "      <td>0.0</td>\n",
       "      <td>1.0</td>\n",
       "      <td>0.0</td>\n",
       "      <td>1.0</td>\n",
       "      <td>0.0</td>\n",
       "      <td>1.0</td>\n",
       "      <td>0.086957</td>\n",
       "      <td>0.206294</td>\n",
       "      <td>0.397959</td>\n",
       "      <td>0.135135</td>\n",
       "      <td>1.0</td>\n",
       "      <td>0.223183</td>\n",
       "      <td>0.0</td>\n",
       "      <td>0.0</td>\n",
       "      <td>0.0</td>\n",
       "    </tr>\n",
       "  </tbody>\n",
       "</table>\n",
       "</div>"
      ],
      "text/plain": [
       "   Autumn  Summer  Spring  Winter  NoFunc  YesFunc  Holiday  No_Holiday  \\\n",
       "0     0.0     0.0     0.0     1.0     0.0      1.0      0.0         1.0   \n",
       "1     0.0     0.0     0.0     1.0     0.0      1.0      0.0         1.0   \n",
       "2     0.0     0.0     0.0     1.0     0.0      1.0      0.0         1.0   \n",
       "\n",
       "       Hour  Temperature  Humidity  Wind_speed  Visibility  \\\n",
       "0  0.000000     0.220280  0.377551    0.297297         1.0   \n",
       "1  0.043478     0.215035  0.387755    0.108108         1.0   \n",
       "2  0.086957     0.206294  0.397959    0.135135         1.0   \n",
       "\n",
       "   Dew_point_temperature  Solar_Radiation  Rainfall  Snowfall  \n",
       "0               0.224913              0.0       0.0       0.0  \n",
       "1               0.224913              0.0       0.0       0.0  \n",
       "2               0.223183              0.0       0.0       0.0  "
      ]
     },
     "execution_count": 13,
     "metadata": {},
     "output_type": "execute_result"
    }
   ],
   "source": [
    "show_data = pd.DataFrame(data=X, columns=[\"Autumn\",\"Summer\",\"Spring\",\"Winter\",\"NoFunc\",\"YesFunc\",\n",
    "                                          \"Holiday\",\"No_Holiday\",\"Hour\",\"Temperature\",\"Humidity\",\"Wind_speed\",\n",
    "                                          \"Visibility\",\"Dew_point_temperature\",\"Solar_Radiation\",\"Rainfall\",\"Snowfall\"])\n",
    "show_data.head(3) # view the data"
   ]
  },
  {
   "cell_type": "code",
   "execution_count": 14,
   "metadata": {
    "colab": {},
    "colab_type": "code",
    "id": "JBBF5TwHtWGd"
   },
   "outputs": [],
   "source": [
    "# Encoding the Dependent Variable\n",
    "from sklearn.preprocessing import LabelEncoder\n",
    "le = LabelEncoder()\n",
    "Y = le.fit_transform(Y)"
   ]
  },
  {
   "cell_type": "code",
   "execution_count": 15,
   "metadata": {
    "colab": {
     "base_uri": "https://localhost:8080/",
     "height": 34
    },
    "colab_type": "code",
    "id": "ML5AbCowahfg",
    "outputId": "12a83f2b-7815-4cd1-dd1f-b0d58ab060e7"
   },
   "outputs": [
    {
     "name": "stdout",
     "output_type": "stream",
     "text": [
      "[253 203 172 ... 686 704 580]\n"
     ]
    }
   ],
   "source": [
    "print(Y)"
   ]
  },
  {
   "cell_type": "code",
   "execution_count": 16,
   "metadata": {
    "colab": {
     "base_uri": "https://localhost:8080/",
     "height": 34
    },
    "colab_type": "code",
    "id": "x4vHzpfKtWGi",
    "outputId": "c41f2aac-8003-49db-aa97-2dc56a177403"
   },
   "outputs": [
    {
     "name": "stdout",
     "output_type": "stream",
     "text": [
      "(8760,) (8760, 17)\n"
     ]
    }
   ],
   "source": [
    "# check the Dependent Variable\n",
    "import numpy as np\n",
    "print(Y.shape,X.shape)"
   ]
  },
  {
   "cell_type": "code",
   "execution_count": 17,
   "metadata": {
    "colab": {
     "base_uri": "https://localhost:8080/",
     "height": 34
    },
    "colab_type": "code",
    "id": "ZzSyv6aBtWGk",
    "outputId": "ce637e74-a14f-4bc7-c92f-1dc9af19184b"
   },
   "outputs": [
    {
     "name": "stdout",
     "output_type": "stream",
     "text": [
      "(6132,) (6132, 17) (2628,) (2628, 17)\n"
     ]
    }
   ],
   "source": [
    "#Splitting the dataset into the Training set and Test set\n",
    "from sklearn.model_selection import train_test_split\n",
    "X_train, X_test, Y_train, Y_test = train_test_split(X, Y, test_size = 0.3, random_state = 1)\n",
    "print(Y_train.shape, X_train.shape, Y_test.shape, X_test.shape)"
   ]
  },
  {
   "cell_type": "code",
   "execution_count": 18,
   "metadata": {
    "colab": {
     "base_uri": "https://localhost:8080/",
     "height": 34
    },
    "colab_type": "code",
    "id": "B0mboB7tGtQN",
    "outputId": "b03f0b35-fa41-4245-9dbb-b370f0c1fcb9"
   },
   "outputs": [
    {
     "name": "stdout",
     "output_type": "stream",
     "text": [
      "(2628, 18) (6132, 18)\n"
     ]
    }
   ],
   "source": [
    "# ADD 1 TO FIRST COLUMN for B_0\n",
    "rows_train = len(X_train)\n",
    "rows_test = len(X_test)\n",
    "X_train = np.concatenate((np.ones((rows_train, 1)), X_train), axis=1)\n",
    "X_test = np.concatenate((np.ones((rows_test, 1)), X_test), axis=1)\n",
    "print(X_test.shape, X_train.shape)"
   ]
  },
  {
   "cell_type": "markdown",
   "metadata": {
    "colab_type": "text",
    "id": "ztBG6dj-IQsK"
   },
   "source": [
    "### Linear Regration"
   ]
  },
  {
   "cell_type": "code",
   "execution_count": 19,
   "metadata": {
    "colab": {},
    "colab_type": "code",
    "id": "ou0M0VFDFRjP"
   },
   "outputs": [],
   "source": [
    "def cost_function(X, Y, B):\n",
    " m = len(Y)\n",
    " J = np.sum((X.dot(B) - Y) ** 2)/(2 * m)\n",
    " return J"
   ]
  },
  {
   "cell_type": "code",
   "execution_count": 20,
   "metadata": {
    "colab": {},
    "colab_type": "code",
    "id": "gUk52pp2FnbV"
   },
   "outputs": [],
   "source": [
    "def batch_gradient_descent(X, Y, B, alpha, iterations):\n",
    "  cost_history = [0] * iterations\n",
    "  m = len(Y)\n",
    "  \n",
    "  for iteration in range(iterations):\n",
    "      #print(iteration)\n",
    "      #Hypothesis Values = y_hat\n",
    "      h = X.dot(B) \n",
    "      # Difference b/w Hypothesis and Actual Y\n",
    "      loss = h - Y\n",
    "      # Gradient Calculation\n",
    "      gradient = X.T.dot(loss) / m\n",
    "      # Changing Values of B using Gradient\n",
    "      B = B - alpha * gradient\n",
    "      # New Cost Value\n",
    "      cost = cost_function(X, Y, B)\n",
    "      cost_history[iteration] = cost \n",
    " \n",
    "  return B, cost_history"
   ]
  },
  {
   "cell_type": "markdown",
   "metadata": {
    "colab_type": "text",
    "id": "PmJJV1dXIQsO"
   },
   "source": [
    "### First Try All variables."
   ]
  },
  {
   "cell_type": "code",
   "execution_count": 21,
   "metadata": {
    "colab": {},
    "colab_type": "code",
    "id": "EZHwG-CXGMcL"
   },
   "outputs": [],
   "source": [
    "# Initial Coefficients\n",
    "B = np.zeros(X_train.shape[1])\n",
    "alpha = 0.4\n",
    "iter_ = 5000\n",
    "newB, cost_history = batch_gradient_descent(X_train, Y_train, B, alpha, iter_)"
   ]
  },
  {
   "cell_type": "code",
   "execution_count": 22,
   "metadata": {
    "colab": {
     "base_uri": "https://localhost:8080/",
     "height": 67
    },
    "colab_type": "code",
    "id": "jrsLX8OYtWG-",
    "outputId": "2832ef03-944c-49d1-c7f8-6d80607aae69"
   },
   "outputs": [
    {
     "data": {
      "text/plain": [
       "array([  -97.18,   133.03,    10.11,   -11.22,  -229.1 ,  -484.94,\n",
       "         387.76,  -104.88,     7.7 ,   566.02,   670.74, -1037.91,\n",
       "          48.54,    11.77,   699.6 ,  -190.1 , -1601.69,   276.35])"
      ]
     },
     "execution_count": 22,
     "metadata": {},
     "output_type": "execute_result"
    }
   ],
   "source": [
    "#newB\n",
    "np.around(newB, decimals=2)"
   ]
  },
  {
   "cell_type": "code",
   "execution_count": 23,
   "metadata": {
    "colab": {
     "base_uri": "https://localhost:8080/",
     "height": 34
    },
    "colab_type": "code",
    "id": "bfVfGbe-mVvM",
    "outputId": "e561de55-54e3-41a1-a060-dfb21c3630c3"
   },
   "outputs": [
    {
     "data": {
      "text/plain": [
       "68479.52413174338"
      ]
     },
     "execution_count": 23,
     "metadata": {},
     "output_type": "execute_result"
    }
   ],
   "source": [
    "cost_history[-1]"
   ]
  },
  {
   "cell_type": "code",
   "execution_count": 24,
   "metadata": {
    "colab": {
     "base_uri": "https://localhost:8080/",
     "height": 497
    },
    "colab_type": "code",
    "id": "08P4lvlpIGSX",
    "outputId": "bd0c65a0-d636-43f7-e6e2-523f56ce27fb"
   },
   "outputs": [
    {
     "data": {
      "image/png": "[encoded data removed]",
      "text/plain": [
       "<Figure size 864x576 with 1 Axes>"
      ]
     },
     "metadata": {
      "needs_background": "light"
     },
     "output_type": "display_data"
    }
   ],
   "source": [
    "import matplotlib.pyplot as plt\n",
    "%matplotlib inline\n",
    "fig,ax = plt.subplots(figsize=(12,8))\n",
    "\n",
    "ax.set_ylabel('J(Theta)')\n",
    "ax.set_xlabel('Iterations')\n",
    "_=ax.plot(range(iter_),cost_history,'b.')"
   ]
  },
  {
   "cell_type": "code",
   "execution_count": 25,
   "metadata": {
    "colab": {
     "base_uri": "https://localhost:8080/",
     "height": 34
    },
    "colab_type": "code",
    "id": "KESVXPQ9KOZz",
    "outputId": "02c231d7-326e-4cbb-c901-406b2e0ef34f"
   },
   "outputs": [
    {
     "data": {
      "text/plain": [
       "0.5851642772328947"
      ]
     },
     "execution_count": 25,
     "metadata": {},
     "output_type": "execute_result"
    }
   ],
   "source": [
    "# Evaluating / Testing the model :\n",
    "y_pred = np.dot(X_test, newB)\n",
    "# In the best case, the modeled values exactly match the observed values, which results in SSR=0, R^2=1.\n",
    "# A baseline model, which always predicts y, will have R^2=0.\n",
    "# Models that have worse predictions than this baseline will have a negative R^2.\n",
    "def r2(y_pred,y): # R_squared\n",
    "  sst = np.sum((y-y.mean())**2)\n",
    "  ssr = np.sum((y_pred-y)**2)\n",
    "  r2 = 1-(ssr/sst)\n",
    "  return(r2)\n",
    "#----------------\n",
    "r2(y_pred,Y_test)"
   ]
  },
  {
   "cell_type": "markdown",
   "metadata": {
    "colab_type": "text",
    "id": "RZo-7Xn-IQsc"
   },
   "source": [
    "#### FIRST TRY ERROR PLOT"
   ]
  },
  {
   "cell_type": "code",
   "execution_count": 26,
   "metadata": {
    "colab": {
     "base_uri": "https://localhost:8080/",
     "height": 295
    },
    "colab_type": "code",
    "id": "NQacATJjIQsc",
    "outputId": "75a15867-de81-4ee9-8aba-b6dca624bfa9"
   },
   "outputs": [
    {
     "data": {
      "image/png": "[encoded data removed]",
      "text/plain": [
       "<Figure size 432x288 with 1 Axes>"
      ]
     },
     "metadata": {
      "needs_background": "light"
     },
     "output_type": "display_data"
    }
   ],
   "source": [
    "# importing the required module \n",
    "import matplotlib.pyplot as plt \n",
    "\n",
    "def createList(r1, r2): \n",
    "    return [item for item in range(r1, r2+1)] \n",
    "\n",
    "# x axis values \n",
    "rowlist = createList(1, 2628)\n",
    "\n",
    "newB2 = np.around(newB, decimals=2)\n",
    "Y_hat = X_test.dot(newB2)\n",
    "Y_test\n",
    "  \n",
    "# plotting the points  \n",
    "plt.plot(rowlist,Y_hat, \"r.\", label =\"Y_hat\") # predict\n",
    "plt.plot(rowlist, Y_test,\"b.\",label = \"Y_Real\") # real\n",
    "  \n",
    "# naming the x axis \n",
    "plt.xlabel('Number of data') \n",
    "# naming the y axis \n",
    "plt.ylabel('Rented_Bike_Count') \n",
    "  \n",
    "# giving a title to my graph \n",
    "plt.title('Test set of error plot') \n",
    "plt.legend()\n",
    "# function to show the plot \n",
    "plt.show() "
   ]
  },
  {
   "cell_type": "code",
   "execution_count": 27,
   "metadata": {
    "colab": {
     "base_uri": "https://localhost:8080/",
     "height": 295
    },
    "colab_type": "code",
    "id": "WGi5i_HLIQsf",
    "outputId": "09118e60-09f2-4438-d4d3-c2de8251d0ac"
   },
   "outputs": [
    {
     "data": {
      "image/png": "[encoded data removed]",
      "text/plain": [
       "<Figure size 432x288 with 1 Axes>"
      ]
     },
     "metadata": {
      "needs_background": "light"
     },
     "output_type": "display_data"
    }
   ],
   "source": [
    "# x axis values \n",
    "rowlist = createList(1, 6132)\n",
    "\n",
    "newB2 = np.around(newB, decimals=2)\n",
    "Y_hat = X_train.dot(newB2)\n",
    "Y_train\n",
    "  \n",
    "# plotting the points  \n",
    "plt.plot(rowlist, Y_hat,\"r.\",label =\"Y_hat\") # predict\n",
    "plt.plot(rowlist, Y_train,\"b.\",label =\"Y_Real\") # real\n",
    "  \n",
    "# naming the x axis \n",
    "plt.xlabel('Number of data') \n",
    "# naming the y axis \n",
    "plt.ylabel('Rented_Bike_Count') \n",
    "  \n",
    "# giving a title to my graph \n",
    "plt.title('Train set of error plot') \n",
    "plt.legend()\n",
    "# function to show the plot \n",
    "plt.show() "
   ]
  },
  {
   "cell_type": "markdown",
   "metadata": {
    "colab_type": "text",
    "id": "l9nVBkGiIQsh"
   },
   "source": [
    "### Second Try"
   ]
  },
  {
   "cell_type": "code",
   "execution_count": 28,
   "metadata": {
    "colab": {},
    "colab_type": "code",
    "id": "UBwr253qIQsh"
   },
   "outputs": [],
   "source": [
    "B = np.zeros(X_train.shape[1])\n",
    "alpha = 0.001\n",
    "iter_ = 1000\n",
    "newB, cost_history = batch_gradient_descent(X_train, Y_train, B, alpha, iter_)"
   ]
  },
  {
   "cell_type": "code",
   "execution_count": 29,
   "metadata": {
    "colab": {
     "base_uri": "https://localhost:8080/",
     "height": 67
    },
    "colab_type": "code",
    "id": "JqwTbKfmIQsj",
    "outputId": "0734da61-8ceb-4595-ea46-f169e4526b83"
   },
   "outputs": [
    {
     "data": {
      "text/plain": [
       "(array([114.83,  52.95,  37.35,  82.98, -58.45, -15.65, 130.49,   2.02,\n",
       "        112.82, 120.98, 114.77,  42.65,  34.75, 110.58, 107.13,  52.08,\n",
       "         -2.12,  -2.48]),\n",
       " 126538.38558549249)"
      ]
     },
     "execution_count": 29,
     "metadata": {},
     "output_type": "execute_result"
    }
   ],
   "source": [
    "#newB, cost_history\n",
    "np.around(newB, decimals=2),cost_history[-1]"
   ]
  },
  {
   "cell_type": "code",
   "execution_count": 30,
   "metadata": {
    "colab": {
     "base_uri": "https://localhost:8080/",
     "height": 497
    },
    "colab_type": "code",
    "id": "UDG_hQE2IQsl",
    "outputId": "c01a4eb5-446b-4705-b83e-f2281770ef35"
   },
   "outputs": [
    {
     "data": {
      "image/png": "[encoded data removed]",
      "text/plain": [
       "<Figure size 864x576 with 1 Axes>"
      ]
     },
     "metadata": {
      "needs_background": "light"
     },
     "output_type": "display_data"
    }
   ],
   "source": [
    "import matplotlib.pyplot as plt\n",
    "%matplotlib inline\n",
    "fig,ax = plt.subplots(figsize=(12,8))\n",
    "\n",
    "ax.set_ylabel('J(Theta)')\n",
    "ax.set_xlabel('Iterations')\n",
    "_=ax.plot(range(iter_),cost_history,'b.')"
   ]
  },
  {
   "cell_type": "code",
   "execution_count": 31,
   "metadata": {
    "colab": {
     "base_uri": "https://localhost:8080/",
     "height": 34
    },
    "colab_type": "code",
    "id": "28hk7fnpIQso",
    "outputId": "fe87105a-7aec-49ff-fb50-b4129276571c"
   },
   "outputs": [
    {
     "data": {
      "text/plain": [
       "0.23436095153509917"
      ]
     },
     "execution_count": 31,
     "metadata": {},
     "output_type": "execute_result"
    }
   ],
   "source": [
    "# Evaluating / Testing the model :\n",
    "y_pred = np.dot(X_test, newB)\n",
    "def r2(y_pred,y): # R_squared\n",
    "  sst = np.sum((y-y.mean())**2)\n",
    "  ssr = np.sum((y_pred-y)**2)\n",
    "  r2 = 1-(ssr/sst)\n",
    "  return(r2)\n",
    "#----------------\n",
    "r2(y_pred,Y_test)"
   ]
  },
  {
   "cell_type": "code",
   "execution_count": 32,
   "metadata": {
    "colab": {
     "base_uri": "https://localhost:8080/",
     "height": 295
    },
    "colab_type": "code",
    "id": "6NULBicuIQsq",
    "outputId": "9ffa8fb1-62fa-4ea4-eb79-74ad95ae78ac"
   },
   "outputs": [
    {
     "data": {
      "image/png": "[encoded data removed]",
      "text/plain": [
       "<Figure size 432x288 with 1 Axes>"
      ]
     },
     "metadata": {
      "needs_background": "light"
     },
     "output_type": "display_data"
    }
   ],
   "source": [
    "# x axis values \n",
    "rowlist = createList(1, 2628)\n",
    "\n",
    "newB2 = np.around(newB, decimals=2)\n",
    "Y_hat = X_test.dot(newB2)\n",
    "Y_test\n",
    "  \n",
    "# plotting the points  \n",
    "plt.plot(rowlist,Y_hat, \"r.\",label =\"Y_hat\") # predict\n",
    "plt.plot(rowlist, Y_test,\"b.\",label =\"Y_Real\") # real\n",
    "# naming the x axis \n",
    "plt.xlabel('Number of data') \n",
    "# naming the y axis \n",
    "plt.ylabel('Rented_Bike_Count') \n",
    "  \n",
    "# giving a title to my graph \n",
    "plt.title('Test set of error plot') \n",
    "plt.legend()  \n",
    "# function to show the plot \n",
    "plt.show() "
   ]
  },
  {
   "cell_type": "code",
   "execution_count": 33,
   "metadata": {
    "colab": {
     "base_uri": "https://localhost:8080/",
     "height": 295
    },
    "colab_type": "code",
    "id": "374v0LtRIQss",
    "outputId": "27313182-6f15-4f05-fb18-7a200e882668"
   },
   "outputs": [
    {
     "data": {
      "image/png": "[encoded data removed]",
      "text/plain": [
       "<Figure size 432x288 with 1 Axes>"
      ]
     },
     "metadata": {
      "needs_background": "light"
     },
     "output_type": "display_data"
    }
   ],
   "source": [
    "# x axis values \n",
    "rowlist = createList(1, 6132)\n",
    "\n",
    "newB2 = np.around(newB, decimals=2)\n",
    "Y_hat = X_train.dot(newB2)\n",
    "Y_train\n",
    "  \n",
    "# plotting the points  \n",
    "plt.plot(rowlist, Y_hat,\"r.\",label =\"Y_hat\") # predict\n",
    "plt.plot(rowlist, Y_train,\"b.\",label =\"Y_Real\") # real\n",
    "  \n",
    "# naming the x axis \n",
    "plt.xlabel('Number of data') \n",
    "# naming the y axis \n",
    "plt.ylabel('Rented_Bike_Count') \n",
    "  \n",
    "# giving a title to my graph \n",
    "plt.title('Train set of error plot') \n",
    "plt.legend()  \n",
    "# function to show the plot \n",
    "plt.show() "
   ]
  },
  {
   "cell_type": "markdown",
   "metadata": {
    "colab_type": "text",
    "id": "mh0Mgy7ea3py"
   },
   "source": [
    "### Third Try"
   ]
  },
  {
   "cell_type": "code",
   "execution_count": 34,
   "metadata": {
    "colab": {},
    "colab_type": "code",
    "id": "EzWdDX46a1c3"
   },
   "outputs": [],
   "source": [
    "B = np.zeros(X_train.shape[1])\n",
    "alpha = 0.001\n",
    "iter_ = 10000\n",
    "newB, cost_history = batch_gradient_descent(X_train, Y_train, B, alpha, iter_)"
   ]
  },
  {
   "cell_type": "code",
   "execution_count": 35,
   "metadata": {
    "colab": {
     "base_uri": "https://localhost:8080/",
     "height": 67
    },
    "colab_type": "code",
    "id": "1eHAvlJCa1c5",
    "outputId": "01e9a04f-5a0b-4083-a3a7-7d1fbcbce0bd"
   },
   "outputs": [
    {
     "data": {
      "text/plain": [
       "(array([   8.26,  112.32,   38.6 ,  180.87, -323.53, -175.19,  183.45,\n",
       "         -20.64,   28.9 ,  420.29,  254.93, -208.62,   54.16,  163.8 ,\n",
       "         147.38,  160.37,  -26.13,  -15.  ]),\n",
       " 84245.37398796868)"
      ]
     },
     "execution_count": 35,
     "metadata": {},
     "output_type": "execute_result"
    }
   ],
   "source": [
    "#newB, cost_history\n",
    "np.around(newB, decimals=2),cost_history[-1]"
   ]
  },
  {
   "cell_type": "code",
   "execution_count": 36,
   "metadata": {
    "colab": {
     "base_uri": "https://localhost:8080/",
     "height": 501
    },
    "colab_type": "code",
    "id": "rhs8larCa1c7",
    "outputId": "33afe52f-7b1d-4d75-d1b2-cf5a352384d7"
   },
   "outputs": [
    {
     "data": {
      "image/png": "[encoded data removed]",
      "text/plain": [
       "<Figure size 864x576 with 1 Axes>"
      ]
     },
     "metadata": {
      "needs_background": "light"
     },
     "output_type": "display_data"
    }
   ],
   "source": [
    "import matplotlib.pyplot as plt\n",
    "%matplotlib inline\n",
    "fig,ax = plt.subplots(figsize=(12,8))\n",
    "\n",
    "ax.set_ylabel('J(Theta)')\n",
    "ax.set_xlabel('Iterations')\n",
    "_=ax.plot(range(iter_),cost_history,'b.')"
   ]
  },
  {
   "cell_type": "code",
   "execution_count": 37,
   "metadata": {
    "colab": {
     "base_uri": "https://localhost:8080/",
     "height": 34
    },
    "colab_type": "code",
    "id": "Sm1nUSeSa1c9",
    "outputId": "15ea839f-dc0a-418f-97f4-49819fcd1dc2"
   },
   "outputs": [
    {
     "data": {
      "text/plain": [
       "0.4901464876987679"
      ]
     },
     "execution_count": 37,
     "metadata": {},
     "output_type": "execute_result"
    }
   ],
   "source": [
    "# Evaluating / Testing the model :\n",
    "y_pred = np.dot(X_test, newB)\n",
    "def r2(y_pred,y): # R_squared\n",
    "  sst = np.sum((y-y.mean())**2)\n",
    "  ssr = np.sum((y_pred-y)**2)\n",
    "  r2 = 1-(ssr/sst)\n",
    "  return(r2)\n",
    "#----------------\n",
    "r2(y_pred,Y_test)"
   ]
  },
  {
   "cell_type": "code",
   "execution_count": 38,
   "metadata": {
    "colab": {
     "base_uri": "https://localhost:8080/",
     "height": 295
    },
    "colab_type": "code",
    "id": "HG4bRfpVa1c-",
    "outputId": "7f4455f9-9eab-4e37-b1b9-bb4fc925dcdf"
   },
   "outputs": [
    {
     "data": {
      "image/png": "[encoded data removed]",
      "text/plain": [
       "<Figure size 432x288 with 1 Axes>"
      ]
     },
     "metadata": {
      "needs_background": "light"
     },
     "output_type": "display_data"
    }
   ],
   "source": [
    "# x axis values \n",
    "rowlist = createList(1, 2628)\n",
    "\n",
    "newB2 = np.around(newB, decimals=2)\n",
    "Y_hat = X_test.dot(newB2)\n",
    "Y_test\n",
    "  \n",
    "# plotting the points  \n",
    "plt.plot(rowlist,Y_hat, \"r.\",label =\"Y_hat\") # predict\n",
    "plt.plot(rowlist, Y_test,\"b.\",label =\"Y_Real\") # real\n",
    "# naming the x axis \n",
    "plt.xlabel('Number of data') \n",
    "# naming the y axis \n",
    "plt.ylabel('Rented_Bike_Count') \n",
    "  \n",
    "# giving a title to my graph \n",
    "plt.title('Test set of error plot') \n",
    "plt.legend()  \n",
    "# function to show the plot \n",
    "plt.show() "
   ]
  },
  {
   "cell_type": "code",
   "execution_count": 39,
   "metadata": {
    "colab": {
     "base_uri": "https://localhost:8080/",
     "height": 295
    },
    "colab_type": "code",
    "id": "dykZ3SzKa1dA",
    "outputId": "581c9092-5c13-4f06-e6d3-0776258c3ee5"
   },
   "outputs": [
    {
     "data": {
      "image/png": "[encoded data removed]",
      "text/plain": [
       "<Figure size 432x288 with 1 Axes>"
      ]
     },
     "metadata": {
      "needs_background": "light"
     },
     "output_type": "display_data"
    }
   ],
   "source": [
    "# x axis values \n",
    "rowlist = createList(1, 6132)\n",
    "\n",
    "newB2 = np.around(newB, decimals=2)\n",
    "Y_hat = X_train.dot(newB2)\n",
    "Y_train\n",
    "  \n",
    "# plotting the points  \n",
    "plt.plot(rowlist, Y_hat,\"r.\",label =\"Y_hat\") # predict\n",
    "plt.plot(rowlist, Y_train,\"b.\",label =\"Y_Real\") # real\n",
    "  \n",
    "# naming the x axis \n",
    "plt.xlabel('Number of data') \n",
    "# naming the y axis \n",
    "plt.ylabel('Rented_Bike_Count') \n",
    "  \n",
    "# giving a title to my graph \n",
    "plt.title('Train set of error plot') \n",
    "plt.legend()  \n",
    "# function to show the plot \n",
    "plt.show() "
   ]
  },
  {
   "cell_type": "markdown",
   "metadata": {
    "colab_type": "text",
    "id": "x36qvEm1cWO2"
   },
   "source": [
    "Four Try"
   ]
  },
  {
   "cell_type": "code",
   "execution_count": 40,
   "metadata": {
    "colab": {
     "base_uri": "https://localhost:8080/",
     "height": 84
    },
    "colab_type": "code",
    "id": "uFFJ4EYfch-Y",
    "outputId": "9d205fc1-d22e-4052-cd88-8a9eb2ed19f3"
   },
   "outputs": [
    {
     "name": "stderr",
     "output_type": "stream",
     "text": [
      "C:\\Users\\jeffr\\anaconda3\\lib\\site-packages\\numpy\\core\\fromnumeric.py:90: RuntimeWarning: overflow encountered in reduce\n",
      "  return ufunc.reduce(obj, axis, dtype, out, **passkwargs)\n",
      "<ipython-input-19-9233d390187f>:3: RuntimeWarning: overflow encountered in square\n",
      "  J = np.sum((X.dot(B) - Y) ** 2)/(2 * m)\n"
     ]
    }
   ],
   "source": [
    "B = np.zeros(X_train.shape[1])\n",
    "alpha = 0.5\n",
    "iter_ = 10000\n",
    "newB, cost_history = batch_gradient_descent(X_train, Y_train, B, alpha, iter_)"
   ]
  },
  {
   "cell_type": "code",
   "execution_count": 41,
   "metadata": {
    "colab": {
     "base_uri": "https://localhost:8080/",
     "height": 50
    },
    "colab_type": "code",
    "id": "BgyxB5V7ch-c",
    "outputId": "6d6d30ee-e641-44ae-a519-8bb526ff0a5b"
   },
   "outputs": [
    {
     "data": {
      "text/plain": [
       "(array([nan, nan, nan, nan, nan, nan, nan, nan, nan, nan, nan, nan, nan,\n",
       "        nan, nan, nan, nan, nan]),\n",
       " nan)"
      ]
     },
     "execution_count": 41,
     "metadata": {},
     "output_type": "execute_result"
    }
   ],
   "source": [
    "#newB, cost_history\n",
    "np.around(newB, decimals=2),cost_history[-1]"
   ]
  },
  {
   "cell_type": "code",
   "execution_count": 42,
   "metadata": {
    "colab": {
     "base_uri": "https://localhost:8080/",
     "height": 508
    },
    "colab_type": "code",
    "id": "YoJeQJN6ch-e",
    "outputId": "920baddc-526c-436b-c172-50e6d5680079"
   },
   "outputs": [
    {
     "data": {
      "image/png": "[encoded data removed]",
      "text/plain": [
       "<Figure size 864x576 with 1 Axes>"
      ]
     },
     "metadata": {
      "needs_background": "light"
     },
     "output_type": "display_data"
    }
   ],
   "source": [
    "import matplotlib.pyplot as plt\n",
    "%matplotlib inline\n",
    "fig,ax = plt.subplots(figsize=(12,8))\n",
    "\n",
    "ax.set_ylabel('J(Theta)')\n",
    "ax.set_xlabel('Iterations')\n",
    "_=ax.plot(range(iter_),cost_history,'b.')"
   ]
  },
  {
   "cell_type": "code",
   "execution_count": 43,
   "metadata": {
    "colab": {
     "base_uri": "https://localhost:8080/",
     "height": 295
    },
    "colab_type": "code",
    "id": "YvztTjJdjrB_",
    "outputId": "2d3f3b03-ab7a-4afd-d83a-a06acc81ac8f"
   },
   "outputs": [
    {
     "data": {
      "image/png": "[encoded data removed]",
      "text/plain": [
       "<Figure size 432x288 with 1 Axes>"
      ]
     },
     "metadata": {
      "needs_background": "light"
     },
     "output_type": "display_data"
    }
   ],
   "source": [
    "# x axis values \n",
    "rowlist = createList(1, 2628)\n",
    "\n",
    "newB2 = np.around(newB, decimals=2)\n",
    "Y_hat = X_test.dot(newB2)\n",
    "Y_test\n",
    "  \n",
    "# plotting the points  \n",
    "plt.plot(rowlist,Y_hat, \"r.\",label =\"Y_hat\") # predict\n",
    "plt.plot(rowlist, Y_test,\"b.\",label =\"Y_Real\") # real\n",
    "# naming the x axis \n",
    "plt.xlabel('Number of data') \n",
    "# naming the y axis \n",
    "plt.ylabel('Rented_Bike_Count') \n",
    "  \n",
    "# giving a title to my graph \n",
    "plt.title('Test set of error plot') \n",
    "plt.legend()  \n",
    "# function to show the plot \n",
    "plt.show() "
   ]
  },
  {
   "cell_type": "code",
   "execution_count": 44,
   "metadata": {
    "colab": {
     "base_uri": "https://localhost:8080/",
     "height": 295
    },
    "colab_type": "code",
    "id": "Z5zvPQq_jrCC",
    "outputId": "03cc65c4-55f8-4cc4-db6d-093c4ec6625e"
   },
   "outputs": [
    {
     "data": {
      "image/png": "[encoded data removed]",
      "text/plain": [
       "<Figure size 432x288 with 1 Axes>"
      ]
     },
     "metadata": {
      "needs_background": "light"
     },
     "output_type": "display_data"
    }
   ],
   "source": [
    "# x axis values \n",
    "rowlist = createList(1, 6132)\n",
    "\n",
    "newB2 = np.around(newB, decimals=2)\n",
    "Y_hat = X_train.dot(newB2)\n",
    "Y_train\n",
    "  \n",
    "# plotting the points  \n",
    "plt.plot(rowlist, Y_hat,\"r.\",label =\"Y_hat\") # predict\n",
    "plt.plot(rowlist, Y_train,\"b.\",label =\"Y_Real\") # real\n",
    "  \n",
    "# naming the x axis \n",
    "plt.xlabel('Number of data') \n",
    "# naming the y axis \n",
    "plt.ylabel('Rented_Bike_Count') \n",
    "  \n",
    "# giving a title to my graph \n",
    "plt.title('Train set of error plot') \n",
    "plt.legend()  \n",
    "# function to show the plot \n",
    "plt.show() "
   ]
  },
  {
   "cell_type": "markdown",
   "metadata": {
    "colab_type": "text",
    "id": "7l9MFCkSIQsu"
   },
   "source": [
    "## Eight Random Features into models"
   ]
  },
  {
   "cell_type": "code",
   "execution_count": 45,
   "metadata": {
    "colab": {
     "base_uri": "https://localhost:8080/",
     "height": 34
    },
    "colab_type": "code",
    "id": "qxlINhOLIQsv",
    "outputId": "c7422191-342f-4523-cc53-86f27a78ed5e"
   },
   "outputs": [
    {
     "data": {
      "text/plain": [
       "[1, 3, 4, 5, 8, 9, 10, 11]"
      ]
     },
     "execution_count": 45,
     "metadata": {},
     "output_type": "execute_result"
    }
   ],
   "source": [
    "import random\n",
    "random.seed(30)\n",
    "#Generate 8 random numbers between 1 and 12\n",
    "randomlist = random.sample(range(1, 12), 8)\n",
    "randomlist.sort()\n",
    "randomlist"
   ]
  },
  {
   "cell_type": "code",
   "execution_count": 46,
   "metadata": {
    "colab": {
     "base_uri": "https://localhost:8080/",
     "height": 110
    },
    "colab_type": "code",
    "id": "2RDSv8fIIQsx",
    "outputId": "26c90ef2-db80-4b7d-9317-e5b663a9c943"
   },
   "outputs": [
    {
     "data": {
      "text/html": [
       "<div>\n",
       "<style scoped>\n",
       "    .dataframe tbody tr th:only-of-type {\n",
       "        vertical-align: middle;\n",
       "    }\n",
       "\n",
       "    .dataframe tbody tr th {\n",
       "        vertical-align: top;\n",
       "    }\n",
       "\n",
       "    .dataframe thead th {\n",
       "        text-align: right;\n",
       "    }\n",
       "</style>\n",
       "<table border=\"1\" class=\"dataframe\">\n",
       "  <thead>\n",
       "    <tr style=\"text-align: right;\">\n",
       "      <th></th>\n",
       "      <th>Date</th>\n",
       "      <th>Rented Bike Count</th>\n",
       "      <th>Hour</th>\n",
       "      <th>Temperature(°C)</th>\n",
       "      <th>Humidity(%)</th>\n",
       "      <th>Wind speed (m/s)</th>\n",
       "      <th>Visibility (10m)</th>\n",
       "      <th>Dew point temperature(°C)</th>\n",
       "      <th>Solar Radiation (MJ/m2)</th>\n",
       "      <th>Rainfall(mm)</th>\n",
       "      <th>Snowfall (cm)</th>\n",
       "      <th>Seasons</th>\n",
       "      <th>Holiday</th>\n",
       "      <th>Functioning Day</th>\n",
       "    </tr>\n",
       "  </thead>\n",
       "  <tbody>\n",
       "    <tr>\n",
       "      <th>0</th>\n",
       "      <td>01/12/2017</td>\n",
       "      <td>254</td>\n",
       "      <td>0</td>\n",
       "      <td>-5.2</td>\n",
       "      <td>37</td>\n",
       "      <td>2.2</td>\n",
       "      <td>2000</td>\n",
       "      <td>-17.6</td>\n",
       "      <td>0.0</td>\n",
       "      <td>0.0</td>\n",
       "      <td>0.0</td>\n",
       "      <td>Winter</td>\n",
       "      <td>No Holiday</td>\n",
       "      <td>Yes</td>\n",
       "    </tr>\n",
       "  </tbody>\n",
       "</table>\n",
       "</div>"
      ],
      "text/plain": [
       "         Date  Rented Bike Count  Hour  Temperature(°C)  Humidity(%)  \\\n",
       "0  01/12/2017                254     0             -5.2           37   \n",
       "\n",
       "   Wind speed (m/s)  Visibility (10m)  Dew point temperature(°C)  \\\n",
       "0               2.2              2000                      -17.6   \n",
       "\n",
       "   Solar Radiation (MJ/m2)  Rainfall(mm)  Snowfall (cm) Seasons     Holiday  \\\n",
       "0                      0.0           0.0            0.0  Winter  No Holiday   \n",
       "\n",
       "  Functioning Day  \n",
       "0             Yes  "
      ]
     },
     "execution_count": 46,
     "metadata": {},
     "output_type": "execute_result"
    }
   ],
   "source": [
    "dataset8 = dataset \n",
    "dataset8.head(1) # view the data"
   ]
  },
  {
   "cell_type": "code",
   "execution_count": 47,
   "metadata": {
    "colab": {
     "base_uri": "https://localhost:8080/",
     "height": 34
    },
    "colab_type": "code",
    "id": "-v5P3H71IQsz",
    "outputId": "9c474802-7a3f-4003-946c-8e758a08bf7d"
   },
   "outputs": [
    {
     "name": "stdout",
     "output_type": "stream",
     "text": [
      "[0 37 2.2 2000 0.0 0.0 'Winter' 'No Holiday'] [254 204 173 ... 694 712 584]\n"
     ]
    }
   ],
   "source": [
    "# first Features start from Hours\n",
    "r8 = [2, 4, 5, 6, 9, 10, 11, 12]\n",
    "X_8r = dataset8.iloc[:, r8].values # independent variable\n",
    "Y_8r = dataset8.iloc[:, 1].values  # dependent variable(Rented Bike Count)\n",
    "print(X_8r[0],Y_8r) # check the X,Y"
   ]
  },
  {
   "cell_type": "code",
   "execution_count": 48,
   "metadata": {
    "colab": {
     "base_uri": "https://localhost:8080/",
     "height": 34
    },
    "colab_type": "code",
    "id": "LLOVgyFIIQs1",
    "outputId": "408fb97f-4095-4250-dcb3-c012c5e9f9f1"
   },
   "outputs": [
    {
     "name": "stdout",
     "output_type": "stream",
     "text": [
      "[0.0 1.0 0 37 2.2 2000 0.0 0.0 'Winter']\n"
     ]
    }
   ],
   "source": [
    "holiday = ColumnTransformer(transformers=[('encoder', OneHotEncoder(), [-1])], remainder='passthrough')\n",
    "X_8r = np.array(holiday.fit_transform(X_8r))\n",
    "print(X_8r[0])"
   ]
  },
  {
   "cell_type": "code",
   "execution_count": 49,
   "metadata": {
    "colab": {
     "base_uri": "https://localhost:8080/",
     "height": 34
    },
    "colab_type": "code",
    "id": "jyUwVFMMIQs5",
    "outputId": "6af2e463-e5e0-40f1-a34e-60327db07312"
   },
   "outputs": [
    {
     "name": "stdout",
     "output_type": "stream",
     "text": [
      "[0.0 0.0 0.0 1.0 0.0 1.0 0 37 2.2 2000 0.0 0.0]\n"
     ]
    }
   ],
   "source": [
    "seasons = ColumnTransformer(transformers=[('encoder', OneHotEncoder(), [-1])], remainder='passthrough')\n",
    "X_8r = np.array(seasons.fit_transform(X_8r))\n",
    "print(X_8r[0])"
   ]
  },
  {
   "cell_type": "code",
   "execution_count": 50,
   "metadata": {
    "colab": {
     "base_uri": "https://localhost:8080/",
     "height": 50
    },
    "colab_type": "code",
    "id": "Cvtkqtb3IQs7",
    "outputId": "e8e37e66-f6c9-4061-efa0-876d44c3e8f7"
   },
   "outputs": [
    {
     "name": "stdout",
     "output_type": "stream",
     "text": [
      "[0.         0.         0.         1.         0.         1.\n",
      " 0.         0.37755102 0.2972973  1.         0.         0.        ]\n"
     ]
    }
   ],
   "source": [
    "scaler = preprocessing.MinMaxScaler()\n",
    "X_8r= scaler.fit_transform(X_8r)\n",
    "print(X_8r[0])"
   ]
  },
  {
   "cell_type": "code",
   "execution_count": 51,
   "metadata": {
    "colab": {
     "base_uri": "https://localhost:8080/",
     "height": 50
    },
    "colab_type": "code",
    "id": "_TN1LVOvIQs-",
    "outputId": "66eecd76-d74d-4c02-c3f2-c203fe07340d"
   },
   "outputs": [
    {
     "name": "stdout",
     "output_type": "stream",
     "text": [
      "[253 203 172 ... 686 704 580]\n",
      "(8760,) (8760, 12)\n"
     ]
    }
   ],
   "source": [
    "le = LabelEncoder()\n",
    "Y_8r = le.fit_transform(Y_8r)\n",
    "print(Y_8r)\n",
    "print(Y_8r.shape,X_8r.shape)"
   ]
  },
  {
   "cell_type": "code",
   "execution_count": 52,
   "metadata": {
    "colab": {
     "base_uri": "https://localhost:8080/",
     "height": 34
    },
    "colab_type": "code",
    "id": "JP3Pnf5ZIQtA",
    "outputId": "8baf1a27-7f91-48ab-aaa4-2241fe059ede"
   },
   "outputs": [
    {
     "name": "stdout",
     "output_type": "stream",
     "text": [
      "(6132,) (6132, 12) (2628,) (2628, 12)\n"
     ]
    }
   ],
   "source": [
    "X_train8, X_test8, Y_train8, Y_test8 = train_test_split(X_8r, Y_8r, test_size = 0.3, random_state = 1)\n",
    "print(Y_train8.shape, X_train8.shape, Y_test8.shape, X_test8.shape)"
   ]
  },
  {
   "cell_type": "code",
   "execution_count": 53,
   "metadata": {
    "colab": {
     "base_uri": "https://localhost:8080/",
     "height": 34
    },
    "colab_type": "code",
    "id": "ARbABPToIQtD",
    "outputId": "50279ee5-4c8b-4c1e-a004-4cb8c1ac9509"
   },
   "outputs": [
    {
     "name": "stdout",
     "output_type": "stream",
     "text": [
      "(2628, 13) (6132, 13)\n"
     ]
    }
   ],
   "source": [
    "# ADD 1 TO FIRST COLUMN for B_0\n",
    "rows_train = len(X_train8)\n",
    "rows_test = len(X_test8)\n",
    "X_train8 = np.concatenate((np.ones((rows_train, 1)), X_train8), axis=1)\n",
    "X_test8 = np.concatenate((np.ones((rows_test, 1)), X_test8), axis=1)\n",
    "print(X_test8.shape, X_train8.shape)"
   ]
  },
  {
   "cell_type": "markdown",
   "metadata": {
    "colab_type": "text",
    "id": "CQr8XVY5IQtG"
   },
   "source": [
    "### Radom 8 Try"
   ]
  },
  {
   "cell_type": "code",
   "execution_count": 54,
   "metadata": {
    "colab": {},
    "colab_type": "code",
    "id": "5zTz_QvdIQtH"
   },
   "outputs": [],
   "source": [
    "B = np.zeros(X_train8.shape[1])\n",
    "alpha = 0.4\n",
    "iter_ = 5000\n",
    "newB, cost_history = batch_gradient_descent(X_train8, Y_train8, B, alpha, iter_)"
   ]
  },
  {
   "cell_type": "code",
   "execution_count": 55,
   "metadata": {
    "colab": {
     "base_uri": "https://localhost:8080/",
     "height": 67
    },
    "colab_type": "code",
    "id": "IWGZXvX2IQtJ",
    "outputId": "32113b37-2212-4da0-aef9-06fa07b76d18"
   },
   "outputs": [
    {
     "data": {
      "text/plain": [
       "(array([  408.83,   221.25,   141.36,   451.41,  -405.18,   161.8 ,\n",
       "          247.03,   682.28,  -692.24,   -20.15,    -5.93, -1704.82,\n",
       "           98.46]),\n",
       " 86326.05478294459)"
      ]
     },
     "execution_count": 55,
     "metadata": {},
     "output_type": "execute_result"
    }
   ],
   "source": [
    "#newB, cost_history\n",
    "np.around(newB, decimals=2),cost_history[-1]"
   ]
  },
  {
   "cell_type": "code",
   "execution_count": 56,
   "metadata": {
    "colab": {
     "base_uri": "https://localhost:8080/",
     "height": 497
    },
    "colab_type": "code",
    "id": "xtO3iFWqIQtL",
    "outputId": "a0c816a0-7123-40a9-f8fc-c45556396dc3"
   },
   "outputs": [
    {
     "data": {
      "image/png": "[encoded data removed]",
      "text/plain": [
       "<Figure size 864x576 with 1 Axes>"
      ]
     },
     "metadata": {
      "needs_background": "light"
     },
     "output_type": "display_data"
    }
   ],
   "source": [
    "import matplotlib.pyplot as plt\n",
    "%matplotlib inline\n",
    "fig,ax = plt.subplots(figsize=(12,8))\n",
    "\n",
    "ax.set_ylabel('J(Theta)')\n",
    "ax.set_xlabel('Iterations')\n",
    "_=ax.plot(range(iter_),cost_history,'b.')"
   ]
  },
  {
   "cell_type": "code",
   "execution_count": 57,
   "metadata": {
    "colab": {
     "base_uri": "https://localhost:8080/",
     "height": 34
    },
    "colab_type": "code",
    "id": "oaLRPPPQIQtO",
    "outputId": "85718423-71fa-4560-cd57-9788eda64c65"
   },
   "outputs": [
    {
     "data": {
      "text/plain": [
       "0.4645121153562012"
      ]
     },
     "execution_count": 57,
     "metadata": {},
     "output_type": "execute_result"
    }
   ],
   "source": [
    "# Evaluating / Testing the model :\n",
    "y_pred = np.dot(X_test8, newB)\n",
    "def r2(y_pred,y): # R_squared\n",
    "  sst = np.sum((y-y.mean())**2)\n",
    "  ssr = np.sum((y_pred-y)**2)\n",
    "  r2 = 1-(ssr/sst)\n",
    "  return(r2)\n",
    "#----------------\n",
    "r2(y_pred,Y_test8)"
   ]
  },
  {
   "cell_type": "code",
   "execution_count": 58,
   "metadata": {
    "colab": {
     "base_uri": "https://localhost:8080/",
     "height": 295
    },
    "colab_type": "code",
    "id": "0L1lhQJwIQtQ",
    "outputId": "99ab9050-003d-4326-f9d2-b9768f356ff6"
   },
   "outputs": [
    {
     "data": {
      "image/png": "[encoded data removed]",
      "text/plain": [
       "<Figure size 432x288 with 1 Axes>"
      ]
     },
     "metadata": {
      "needs_background": "light"
     },
     "output_type": "display_data"
    }
   ],
   "source": [
    "# x axis values \n",
    "rowlist = createList(1, 2628)\n",
    "\n",
    "newB2 = np.around(newB, decimals=2)\n",
    "Y_hat = X_test8.dot(newB2)\n",
    "Y_test8\n",
    "  \n",
    "# plotting the points  \n",
    "plt.plot(rowlist,Y_hat, \"r.\") # predict\n",
    "plt.plot(rowlist, Y_test8,\"b.\") # real\n",
    "# naming the x axis \n",
    "plt.xlabel('Number of data') \n",
    "# naming the y axis \n",
    "plt.ylabel('Rented_Bike_Count') \n",
    "  \n",
    "# giving a title to my graph \n",
    "plt.title('Test set of error plot') \n",
    "  \n",
    "# function to show the plot \n",
    "plt.show() "
   ]
  },
  {
   "cell_type": "code",
   "execution_count": 59,
   "metadata": {
    "colab": {
     "base_uri": "https://localhost:8080/",
     "height": 295
    },
    "colab_type": "code",
    "id": "INK9xaArIQtS",
    "outputId": "47e91ed3-ca17-4305-d588-fcc25b2e8a28"
   },
   "outputs": [
    {
     "data": {
      "image/png": "[encoded data removed]",
      "text/plain": [
       "<Figure size 432x288 with 1 Axes>"
      ]
     },
     "metadata": {
      "needs_background": "light"
     },
     "output_type": "display_data"
    }
   ],
   "source": [
    "# x axis values \n",
    "rowlist = createList(1, 6132)\n",
    "\n",
    "newB2 = np.around(newB, decimals=2)\n",
    "Y_hat = X_train8.dot(newB2)\n",
    "Y_train8\n",
    "  \n",
    "# plotting the points  \n",
    "plt.plot(rowlist, Y_hat,\"r.\") # predict\n",
    "plt.plot(rowlist, Y_train8,\"b.\") # real\n",
    "  \n",
    "# naming the x axis \n",
    "plt.xlabel('Number of data') \n",
    "# naming the y axis \n",
    "plt.ylabel('Rented_Bike_Count') \n",
    "  \n",
    "# giving a title to my graph \n",
    "plt.title('Train set of error plot') \n",
    "  \n",
    "# function to show the plot \n",
    "plt.show() "
   ]
  },
  {
   "cell_type": "markdown",
   "metadata": {
    "colab_type": "text",
    "id": "sCmdtI1MIQtU"
   },
   "source": [
    "### Eight Select Features into models"
   ]
  },
  {
   "cell_type": "code",
   "execution_count": 60,
   "metadata": {
    "colab": {
     "base_uri": "https://localhost:8080/",
     "height": 110
    },
    "colab_type": "code",
    "id": "mbW7h0TaIQtU",
    "outputId": "c1b3e3f3-6d51-41f7-8880-f1bb8881cc1f"
   },
   "outputs": [
    {
     "data": {
      "text/html": [
       "<div>\n",
       "<style scoped>\n",
       "    .dataframe tbody tr th:only-of-type {\n",
       "        vertical-align: middle;\n",
       "    }\n",
       "\n",
       "    .dataframe tbody tr th {\n",
       "        vertical-align: top;\n",
       "    }\n",
       "\n",
       "    .dataframe thead th {\n",
       "        text-align: right;\n",
       "    }\n",
       "</style>\n",
       "<table border=\"1\" class=\"dataframe\">\n",
       "  <thead>\n",
       "    <tr style=\"text-align: right;\">\n",
       "      <th></th>\n",
       "      <th>Date</th>\n",
       "      <th>Rented Bike Count</th>\n",
       "      <th>Hour</th>\n",
       "      <th>Temperature(°C)</th>\n",
       "      <th>Humidity(%)</th>\n",
       "      <th>Wind speed (m/s)</th>\n",
       "      <th>Visibility (10m)</th>\n",
       "      <th>Dew point temperature(°C)</th>\n",
       "      <th>Solar Radiation (MJ/m2)</th>\n",
       "      <th>Rainfall(mm)</th>\n",
       "      <th>Snowfall (cm)</th>\n",
       "      <th>Seasons</th>\n",
       "      <th>Holiday</th>\n",
       "      <th>Functioning Day</th>\n",
       "    </tr>\n",
       "  </thead>\n",
       "  <tbody>\n",
       "    <tr>\n",
       "      <th>0</th>\n",
       "      <td>01/12/2017</td>\n",
       "      <td>254</td>\n",
       "      <td>0</td>\n",
       "      <td>-5.2</td>\n",
       "      <td>37</td>\n",
       "      <td>2.2</td>\n",
       "      <td>2000</td>\n",
       "      <td>-17.6</td>\n",
       "      <td>0.0</td>\n",
       "      <td>0.0</td>\n",
       "      <td>0.0</td>\n",
       "      <td>Winter</td>\n",
       "      <td>No Holiday</td>\n",
       "      <td>Yes</td>\n",
       "    </tr>\n",
       "  </tbody>\n",
       "</table>\n",
       "</div>"
      ],
      "text/plain": [
       "         Date  Rented Bike Count  Hour  Temperature(°C)  Humidity(%)  \\\n",
       "0  01/12/2017                254     0             -5.2           37   \n",
       "\n",
       "   Wind speed (m/s)  Visibility (10m)  Dew point temperature(°C)  \\\n",
       "0               2.2              2000                      -17.6   \n",
       "\n",
       "   Solar Radiation (MJ/m2)  Rainfall(mm)  Snowfall (cm) Seasons     Holiday  \\\n",
       "0                      0.0           0.0            0.0  Winter  No Holiday   \n",
       "\n",
       "  Functioning Day  \n",
       "0             Yes  "
      ]
     },
     "execution_count": 60,
     "metadata": {},
     "output_type": "execute_result"
    }
   ],
   "source": [
    "dataset8s = dataset\n",
    "dataset8s.head(1) # view the data"
   ]
  },
  {
   "cell_type": "code",
   "execution_count": 61,
   "metadata": {
    "colab": {
     "base_uri": "https://localhost:8080/",
     "height": 34
    },
    "colab_type": "code",
    "id": "ZQQjZ__QIQtW",
    "outputId": "8502caf3-3ea6-4638-8bd4-721eb95c039d"
   },
   "outputs": [
    {
     "name": "stdout",
     "output_type": "stream",
     "text": [
      "[  -5.2   37.     2.2 2000.   -17.6    0.     0.     0. ] [254 204 173 ... 694 712 584]\n"
     ]
    }
   ],
   "source": [
    "# first Features start from Hours\n",
    "r8s = [3,4,5,6,7,8,9,10]\n",
    "X_8s = dataset8.iloc[:, r8s].values # independent variable\n",
    "Y_8s = dataset8.iloc[:, 1].values  # dependent variable(Rented Bike Count)\n",
    "print(X_8s[0],Y_8s) # check the X,Y"
   ]
  },
  {
   "cell_type": "code",
   "execution_count": 62,
   "metadata": {
    "colab": {
     "base_uri": "https://localhost:8080/",
     "height": 50
    },
    "colab_type": "code",
    "id": "sA36J8zuIQtY",
    "outputId": "5ef5e227-2f91-40d4-f88d-7f0685c979aa"
   },
   "outputs": [
    {
     "name": "stdout",
     "output_type": "stream",
     "text": [
      "[0.22027972 0.37755102 0.2972973  1.         0.22491349 0.\n",
      " 0.         0.        ]\n"
     ]
    }
   ],
   "source": [
    "scaler = preprocessing.MinMaxScaler()\n",
    "X_8s= scaler.fit_transform(X_8s)\n",
    "print(X_8s[0])"
   ]
  },
  {
   "cell_type": "code",
   "execution_count": 63,
   "metadata": {
    "colab": {
     "base_uri": "https://localhost:8080/",
     "height": 50
    },
    "colab_type": "code",
    "id": "Rstip1kUIQta",
    "outputId": "8e04b0ce-e030-4fc0-b7f8-3b829a60e54f"
   },
   "outputs": [
    {
     "name": "stdout",
     "output_type": "stream",
     "text": [
      "[253 203 172 ... 686 704 580]\n",
      "(8760,) (8760, 8)\n"
     ]
    }
   ],
   "source": [
    "le = LabelEncoder()\n",
    "Y_8s = le.fit_transform(Y_8r)\n",
    "print(Y_8s)\n",
    "print(Y_8s.shape,X_8s.shape)"
   ]
  },
  {
   "cell_type": "code",
   "execution_count": 64,
   "metadata": {
    "colab": {
     "base_uri": "https://localhost:8080/",
     "height": 34
    },
    "colab_type": "code",
    "id": "uo0DXJbqIQtc",
    "outputId": "4cb8eec5-ee8f-49e5-de1e-140992b4ef5f"
   },
   "outputs": [
    {
     "name": "stdout",
     "output_type": "stream",
     "text": [
      "(6132,) (6132, 8) (2628,) (2628, 8)\n"
     ]
    }
   ],
   "source": [
    "X_train8s, X_test8s, Y_train8s, Y_test8s = train_test_split(X_8s, Y_8s, test_size = 0.3, random_state = 1)\n",
    "print(Y_train8s.shape, X_train8s.shape, Y_test8s.shape, X_test8s.shape)"
   ]
  },
  {
   "cell_type": "code",
   "execution_count": 65,
   "metadata": {
    "colab": {
     "base_uri": "https://localhost:8080/",
     "height": 34
    },
    "colab_type": "code",
    "id": "qjwo5D18IQtg",
    "outputId": "4cc5773f-b412-474e-ad86-d6b702bb52a1"
   },
   "outputs": [
    {
     "name": "stdout",
     "output_type": "stream",
     "text": [
      "(2628, 9) (6132, 9)\n"
     ]
    }
   ],
   "source": [
    "# ADD 1 TO FIRST COLUMN for B_0\n",
    "rows_train = len(X_train8s)\n",
    "rows_test = len(X_test8s)\n",
    "X_train8s = np.concatenate((np.ones((rows_train, 1)), X_train8s), axis=1)\n",
    "X_test8s = np.concatenate((np.ones((rows_test, 1)), X_test8s), axis=1)\n",
    "print(X_test8s.shape, X_train8s.shape)"
   ]
  },
  {
   "cell_type": "markdown",
   "metadata": {
    "colab_type": "text",
    "id": "nEG6-Fv6IQth"
   },
   "source": [
    "### Select 8 Try"
   ]
  },
  {
   "cell_type": "code",
   "execution_count": 66,
   "metadata": {
    "colab": {},
    "colab_type": "code",
    "id": "ja-v88dLIQth"
   },
   "outputs": [],
   "source": [
    "B = np.zeros(X_train8s.shape[1])\n",
    "alpha = 0.4\n",
    "iter_ = 5000\n",
    "newB, cost_history = batch_gradient_descent(X_train8s, Y_train8s, B, alpha, iter_)"
   ]
  },
  {
   "cell_type": "code",
   "execution_count": 67,
   "metadata": {
    "colab": {
     "base_uri": "https://localhost:8080/",
     "height": 50
    },
    "colab_type": "code",
    "id": "rlilOsxPIQtk",
    "outputId": "485539b8-452d-4067-fcb6-78badca753ca"
   },
   "outputs": [
    {
     "data": {
      "text/plain": [
       "(array([  356.71,  1298.84, -1217.33,   283.74,   -29.57,   580.15,\n",
       "         -312.65, -1382.84,   297.4 ]),\n",
       " 95887.12319454347)"
      ]
     },
     "execution_count": 67,
     "metadata": {},
     "output_type": "execute_result"
    }
   ],
   "source": [
    "#newB, cost_history\n",
    "np.around(newB, decimals=2),cost_history[-1]"
   ]
  },
  {
   "cell_type": "code",
   "execution_count": 68,
   "metadata": {
    "colab": {
     "base_uri": "https://localhost:8080/",
     "height": 497
    },
    "colab_type": "code",
    "id": "1itmkwCiIQtl",
    "outputId": "072add9d-f07b-44cf-eb2d-9bd1e6353fe4"
   },
   "outputs": [
    {
     "data": {
      "image/png": "[encoded data removed]",
      "text/plain": [
       "<Figure size 864x576 with 1 Axes>"
      ]
     },
     "metadata": {
      "needs_background": "light"
     },
     "output_type": "display_data"
    }
   ],
   "source": [
    "import matplotlib.pyplot as plt\n",
    "%matplotlib inline\n",
    "fig,ax = plt.subplots(figsize=(12,8))\n",
    "\n",
    "ax.set_ylabel('J(Theta)')\n",
    "ax.set_xlabel('Iterations')\n",
    "_=ax.plot(range(iter_),cost_history,'b.')"
   ]
  },
  {
   "cell_type": "code",
   "execution_count": 69,
   "metadata": {
    "colab": {
     "base_uri": "https://localhost:8080/",
     "height": 34
    },
    "colab_type": "code",
    "id": "F_A8SI9hIQtn",
    "outputId": "3c44709a-b0c8-420f-881f-fdc62fbc337e"
   },
   "outputs": [
    {
     "data": {
      "text/plain": [
       "0.41477794448309013"
      ]
     },
     "execution_count": 69,
     "metadata": {},
     "output_type": "execute_result"
    }
   ],
   "source": [
    "# Evaluating / Testing the model :\n",
    "y_pred = np.dot(X_test8s, newB)\n",
    "def r2(y_pred,y): # R_squared\n",
    "  sst = np.sum((y-y.mean())**2)\n",
    "  ssr = np.sum((y_pred-y)**2)\n",
    "  r2 = 1-(ssr/sst)\n",
    "  return(r2)\n",
    "#----------------\n",
    "r2(y_pred,Y_test8s)"
   ]
  },
  {
   "cell_type": "code",
   "execution_count": 70,
   "metadata": {
    "colab": {
     "base_uri": "https://localhost:8080/",
     "height": 295
    },
    "colab_type": "code",
    "id": "NMPtaYdPIQtp",
    "outputId": "34cd14e6-6897-497f-a0fb-473fbaebacf9"
   },
   "outputs": [
    {
     "data": {
      "image/png": "[encoded data removed]",
      "text/plain": [
       "<Figure size 432x288 with 1 Axes>"
      ]
     },
     "metadata": {
      "needs_background": "light"
     },
     "output_type": "display_data"
    }
   ],
   "source": [
    "# x axis values \n",
    "rowlist = createList(1, 2628)\n",
    "\n",
    "newB2 = np.around(newB, decimals=2)\n",
    "Y_hat = X_test8s.dot(newB2)\n",
    "Y_test8s\n",
    "  \n",
    "# plotting the points  \n",
    "plt.plot(rowlist,Y_hat, \"r.\") # predict\n",
    "plt.plot(rowlist, Y_test8s,\"b.\") # real\n",
    "# naming the x axis \n",
    "plt.xlabel('Number of data') \n",
    "# naming the y axis \n",
    "plt.ylabel('Rented_Bike_Count') \n",
    "  \n",
    "# giving a title to my graph \n",
    "plt.title('Test set of error plot') \n",
    "  \n",
    "# function to show the plot \n",
    "plt.show() "
   ]
  },
  {
   "cell_type": "code",
   "execution_count": 71,
   "metadata": {
    "colab": {
     "base_uri": "https://localhost:8080/",
     "height": 295
    },
    "colab_type": "code",
    "id": "Zn2ZhlXTIQtq",
    "outputId": "fd2a59b6-a0ef-4f60-a562-8d99c83a6180"
   },
   "outputs": [
    {
     "data": {
      "image/png": "[encoded data removed]",
      "text/plain": [
       "<Figure size 432x288 with 1 Axes>"
      ]
     },
     "metadata": {
      "needs_background": "light"
     },
     "output_type": "display_data"
    }
   ],
   "source": [
    "# x axis values \n",
    "rowlist = createList(1, 6132)\n",
    "\n",
    "newB2 = np.around(newB, decimals=2)\n",
    "Y_hat = X_train8s.dot(newB2)\n",
    "Y_train8s\n",
    "  \n",
    "# plotting the points  \n",
    "plt.plot(rowlist, Y_hat,\"r.\") # predict\n",
    "plt.plot(rowlist, Y_train8,\"b.\") # real\n",
    "  \n",
    "# naming the x axis \n",
    "plt.xlabel('Number of data') \n",
    "# naming the y axis \n",
    "plt.ylabel('Rented_Bike_Count') \n",
    "  \n",
    "# giving a title to my graph \n",
    "plt.title('Train set of error plot') \n",
    "  \n",
    "# function to show the plot \n",
    "plt.show() "
   ]
  },
  {
   "cell_type": "markdown",
   "metadata": {
    "colab_type": "text",
    "id": "JvCd-C8YEpen"
   },
   "source": [
    "## Logistic Part"
   ]
  },
  {
   "cell_type": "code",
   "execution_count": 72,
   "metadata": {
    "colab": {},
    "colab_type": "code",
    "id": "NPxvP8snOh6k"
   },
   "outputs": [],
   "source": [
    "import matplotlib.pyplot as plt\n",
    "import pandas as pd\n",
    "import numpy as np \n",
    "from sklearn.preprocessing import LabelEncoder\n",
    "from sklearn import preprocessing"
   ]
  },
  {
   "cell_type": "code",
   "execution_count": 75,
   "metadata": {
    "colab": {
     "base_uri": "https://localhost:8080/",
     "height": 157
    },
    "colab_type": "code",
    "id": "p6T6lshgOh6n",
    "outputId": "66a3153b-b147-4319-8f99-903b250ef834"
   },
   "outputs": [
    {
     "data": {
      "text/html": [
       "<div>\n",
       "<style scoped>\n",
       "    .dataframe tbody tr th:only-of-type {\n",
       "        vertical-align: middle;\n",
       "    }\n",
       "\n",
       "    .dataframe tbody tr th {\n",
       "        vertical-align: top;\n",
       "    }\n",
       "\n",
       "    .dataframe thead th {\n",
       "        text-align: right;\n",
       "    }\n",
       "</style>\n",
       "<table border=\"1\" class=\"dataframe\">\n",
       "  <thead>\n",
       "    <tr style=\"text-align: right;\">\n",
       "      <th></th>\n",
       "      <th>Date</th>\n",
       "      <th>Rented Bike Count</th>\n",
       "      <th>Hour</th>\n",
       "      <th>Temperature(°C)</th>\n",
       "      <th>Humidity(%)</th>\n",
       "      <th>Wind speed (m/s)</th>\n",
       "      <th>Visibility (10m)</th>\n",
       "      <th>Dew point temperature(°C)</th>\n",
       "      <th>Solar Radiation (MJ/m2)</th>\n",
       "      <th>Rainfall(mm)</th>\n",
       "      <th>Snowfall (cm)</th>\n",
       "      <th>Seasons</th>\n",
       "      <th>Holiday</th>\n",
       "      <th>Functioning Day</th>\n",
       "    </tr>\n",
       "  </thead>\n",
       "  <tbody>\n",
       "    <tr>\n",
       "      <th>0</th>\n",
       "      <td>01/12/2017</td>\n",
       "      <td>254</td>\n",
       "      <td>0</td>\n",
       "      <td>-5.2</td>\n",
       "      <td>37</td>\n",
       "      <td>2.2</td>\n",
       "      <td>2000</td>\n",
       "      <td>-17.6</td>\n",
       "      <td>0.0</td>\n",
       "      <td>0.0</td>\n",
       "      <td>0.0</td>\n",
       "      <td>Winter</td>\n",
       "      <td>No Holiday</td>\n",
       "      <td>Yes</td>\n",
       "    </tr>\n",
       "    <tr>\n",
       "      <th>1</th>\n",
       "      <td>01/12/2017</td>\n",
       "      <td>204</td>\n",
       "      <td>1</td>\n",
       "      <td>-5.5</td>\n",
       "      <td>38</td>\n",
       "      <td>0.8</td>\n",
       "      <td>2000</td>\n",
       "      <td>-17.6</td>\n",
       "      <td>0.0</td>\n",
       "      <td>0.0</td>\n",
       "      <td>0.0</td>\n",
       "      <td>Winter</td>\n",
       "      <td>No Holiday</td>\n",
       "      <td>Yes</td>\n",
       "    </tr>\n",
       "  </tbody>\n",
       "</table>\n",
       "</div>"
      ],
      "text/plain": [
       "         Date  Rented Bike Count  Hour  Temperature(°C)  Humidity(%)  \\\n",
       "0  01/12/2017                254     0             -5.2           37   \n",
       "1  01/12/2017                204     1             -5.5           38   \n",
       "\n",
       "   Wind speed (m/s)  Visibility (10m)  Dew point temperature(°C)  \\\n",
       "0               2.2              2000                      -17.6   \n",
       "1               0.8              2000                      -17.6   \n",
       "\n",
       "   Solar Radiation (MJ/m2)  Rainfall(mm)  Snowfall (cm) Seasons     Holiday  \\\n",
       "0                      0.0           0.0            0.0  Winter  No Holiday   \n",
       "1                      0.0           0.0            0.0  Winter  No Holiday   \n",
       "\n",
       "  Functioning Day  \n",
       "0             Yes  \n",
       "1             Yes  "
      ]
     },
     "execution_count": 75,
     "metadata": {},
     "output_type": "execute_result"
    }
   ],
   "source": [
    "dataset2 = pd.read_csv(\"SeoulBikeData.csv\",encoding='latin1') \n",
    "dataset2.head(2) # view the data"
   ]
  },
  {
   "cell_type": "code",
   "execution_count": 76,
   "metadata": {
    "colab": {},
    "colab_type": "code",
    "id": "F6B-5hk8Oh6q"
   },
   "outputs": [],
   "source": [
    "dataset2['Rented Bike Count'] = dataset2['Rented Bike Count'].astype(float)\n",
    "dataset2['Hour'] = dataset2['Hour'].astype(float)\n",
    "dataset2['Humidity(%)'] = dataset2['Humidity(%)'].astype(float)\n",
    "dataset2['Visibility (10m)'] = dataset2['Visibility (10m)'].astype(float)"
   ]
  },
  {
   "cell_type": "code",
   "execution_count": 77,
   "metadata": {
    "colab": {
     "base_uri": "https://localhost:8080/",
     "height": 269
    },
    "colab_type": "code",
    "id": "Dno-23YPOh6t",
    "outputId": "993a4303-996f-4bd2-b77f-5dcc4dd04d22"
   },
   "outputs": [
    {
     "data": {
      "text/plain": [
       "Date                          object\n",
       "Rented Bike Count            float64\n",
       "Hour                         float64\n",
       "Temperature(°C)              float64\n",
       "Humidity(%)                  float64\n",
       "Wind speed (m/s)             float64\n",
       "Visibility (10m)             float64\n",
       "Dew point temperature(°C)    float64\n",
       "Solar Radiation (MJ/m2)      float64\n",
       "Rainfall(mm)                 float64\n",
       "Snowfall (cm)                float64\n",
       "Seasons                       object\n",
       "Holiday                       object\n",
       "Functioning Day               object\n",
       "dtype: object"
      ]
     },
     "execution_count": 77,
     "metadata": {},
     "output_type": "execute_result"
    }
   ],
   "source": [
    "dataset2.dtypes"
   ]
  },
  {
   "cell_type": "code",
   "execution_count": 78,
   "metadata": {
    "colab": {
     "base_uri": "https://localhost:8080/",
     "height": 134
    },
    "colab_type": "code",
    "id": "FBEkSJZFOh6v",
    "outputId": "d073cdfa-309e-4975-ffd1-17c98af5f9d1"
   },
   "outputs": [
    {
     "name": "stdout",
     "output_type": "stream",
     "text": [
      "[[254.0 0.0 -5.2 ... 'Winter' 'No Holiday' 'Yes']\n",
      " [204.0 1.0 -5.5 ... 'Winter' 'No Holiday' 'Yes']\n",
      " [173.0 2.0 -6.0 ... 'Winter' 'No Holiday' 'Yes']\n",
      " ...\n",
      " [694.0 21.0 2.6 ... 'Autumn' 'No Holiday' 'Yes']\n",
      " [712.0 22.0 2.1 ... 'Autumn' 'No Holiday' 'Yes']\n",
      " [584.0 23.0 1.9 ... 'Autumn' 'No Holiday' 'Yes']]\n"
     ]
    }
   ],
   "source": [
    "# remove the date\n",
    "X_L= dataset2.iloc[:, 1:].values\n",
    "print(X_L)"
   ]
  },
  {
   "cell_type": "code",
   "execution_count": 79,
   "metadata": {
    "colab": {
     "base_uri": "https://localhost:8080/",
     "height": 134
    },
    "colab_type": "code",
    "id": "k3gRN-S-Oh6x",
    "outputId": "e358ff8d-e669-42b4-e5ba-c62e9d52127e"
   },
   "outputs": [
    {
     "name": "stdout",
     "output_type": "stream",
     "text": [
      "[[0.0 1.0 254.0 ... 0.0 'Winter' 'No Holiday']\n",
      " [0.0 1.0 204.0 ... 0.0 'Winter' 'No Holiday']\n",
      " [0.0 1.0 173.0 ... 0.0 'Winter' 'No Holiday']\n",
      " ...\n",
      " [0.0 1.0 694.0 ... 0.0 'Autumn' 'No Holiday']\n",
      " [0.0 1.0 712.0 ... 0.0 'Autumn' 'No Holiday']\n",
      " [0.0 1.0 584.0 ... 0.0 'Autumn' 'No Holiday']]\n"
     ]
    }
   ],
   "source": [
    "# Encoding the Independent Variable\n",
    "from sklearn.compose import ColumnTransformer\n",
    "from sklearn.preprocessing import OneHotEncoder\n",
    "# Encoding Functioning Day\n",
    "Functioning = ColumnTransformer(transformers=[('encoder', OneHotEncoder(), [-1])], remainder='passthrough')\n",
    "X_L = np.array(Functioning.fit_transform(X_L))\n",
    "print(X_L)"
   ]
  },
  {
   "cell_type": "code",
   "execution_count": 80,
   "metadata": {
    "colab": {
     "base_uri": "https://localhost:8080/",
     "height": 134
    },
    "colab_type": "code",
    "id": "tWu5A_qCOh60",
    "outputId": "2eee700c-ca89-48d1-d6c5-b2716f17efe0"
   },
   "outputs": [
    {
     "name": "stdout",
     "output_type": "stream",
     "text": [
      "[[0.0 0.0 0.0 ... 0.0 0.0 'No Holiday']\n",
      " [0.0 0.0 0.0 ... 0.0 0.0 'No Holiday']\n",
      " [0.0 0.0 0.0 ... 0.0 0.0 'No Holiday']\n",
      " ...\n",
      " [1.0 0.0 0.0 ... 0.0 0.0 'No Holiday']\n",
      " [1.0 0.0 0.0 ... 0.0 0.0 'No Holiday']\n",
      " [1.0 0.0 0.0 ... 0.0 0.0 'No Holiday']]\n"
     ]
    }
   ],
   "source": [
    "# Encoding seasons \n",
    "seasons = ColumnTransformer(transformers=[('encoder', OneHotEncoder(), [-2])], remainder='passthrough')\n",
    "X_L = np.array(seasons.fit_transform(X_L))\n",
    "print(X_L)"
   ]
  },
  {
   "cell_type": "code",
   "execution_count": 81,
   "metadata": {
    "colab": {
     "base_uri": "https://localhost:8080/",
     "height": 69
    },
    "colab_type": "code",
    "id": "ruZDu7MsOh64",
    "outputId": "ad48e385-6280-4244-c3be-5dda1a635335"
   },
   "outputs": [
    {
     "name": "stdout",
     "output_type": "stream",
     "text": [
      "[0.0 0.0 0.0 1.0 0.0 1.0 204.0 1.0 -5.5 38.0 0.8 2000.0 -17.6 0.0 0.0 0.0\n",
      " 0.0]\n"
     ]
    },
    {
     "data": {
      "text/plain": [
       "'\\nimport collections, numpy\\nchek_H= X_L[:,-1]\\ncollections.Counter(chek_H)\\n'"
      ]
     },
     "execution_count": 81,
     "metadata": {},
     "output_type": "execute_result"
    }
   ],
   "source": [
    "# Encoding Holiday (No Holiday=0, Holiday = 1)\n",
    "for i in range(len(X_L)):\n",
    "  if X_L[i,-1] ==\"No Holiday\":\n",
    "     X_L[i,-1] = 0.0\n",
    "  else:\n",
    "    X_L[i,-1] = 1.0\n",
    "\n",
    "print(X_L[1])\n",
    "\"\"\"\n",
    "import collections, numpy\n",
    "chek_H= X_L[:,-1]\n",
    "collections.Counter(chek_H)\n",
    "\"\"\""
   ]
  },
  {
   "cell_type": "code",
   "execution_count": 82,
   "metadata": {
    "colab": {},
    "colab_type": "code",
    "id": "txBxspJTOh67"
   },
   "outputs": [],
   "source": [
    "# All number into float for further 'exp' caculation \n",
    "X_L = X_L[:, :-1]\n",
    "Y_L = X_L[:, -1]"
   ]
  },
  {
   "cell_type": "code",
   "execution_count": 83,
   "metadata": {
    "colab": {
     "base_uri": "https://localhost:8080/",
     "height": 34
    },
    "colab_type": "code",
    "id": "lnrjW-nIOh6_",
    "outputId": "859b016e-feb5-4f95-c14a-956d7bc26361"
   },
   "outputs": [
    {
     "name": "stdout",
     "output_type": "stream",
     "text": [
      "(6132,) (6132, 16) (2628,) (2628, 16)\n"
     ]
    }
   ],
   "source": [
    "#Splitting the dataset into the Training set and Test set\n",
    "from sklearn.model_selection import train_test_split\n",
    "X_train_L, X_test_L, Y_train_L, Y_test_L = train_test_split(X_L, Y_L, test_size = 0.3, random_state = 1)\n",
    "print(Y_train_L.shape, X_train_L.shape, Y_test_L.shape, X_test_L.shape)"
   ]
  },
  {
   "cell_type": "code",
   "execution_count": 84,
   "metadata": {
    "colab": {},
    "colab_type": "code",
    "id": "Qjyxy5mYOh7C"
   },
   "outputs": [],
   "source": [
    "# just make the regression result more correctly, no need. \n",
    "from sklearn.preprocessing import StandardScaler\n",
    "sc = StandardScaler()\n",
    "X_train_L = sc.fit_transform(X_train_L)\n",
    "X_test_L = sc.transform(X_test_L)"
   ]
  },
  {
   "cell_type": "code",
   "execution_count": 85,
   "metadata": {
    "colab": {},
    "colab_type": "code",
    "id": "jfAQlypPOh7G"
   },
   "outputs": [],
   "source": [
    "# Add one\n",
    "X_train_L = np.concatenate((np.ones((len(X_train_L), 1)), X_train_L), axis=1)\n",
    "X_test_L = np.concatenate((np.ones((len(X_test_L), 1)), X_test_L), axis=1)"
   ]
  },
  {
   "cell_type": "code",
   "execution_count": 86,
   "metadata": {
    "colab": {
     "base_uri": "https://localhost:8080/",
     "height": 269
    },
    "colab_type": "code",
    "id": "15aIz3C8Oh7K",
    "outputId": "c0a17cec-7381-4156-c47d-b02f31c91bb2"
   },
   "outputs": [
    {
     "name": "stdout",
     "output_type": "stream",
     "text": [
      "[[ 1.         -0.57483949 -0.57458841  1.72156931 -0.57910781 -0.18691364\n",
      "   0.18691364  0.2443009   0.79116445  1.03414826  1.40666502 -1.07006969\n",
      "  -1.13166338  1.43013904 -0.08175224 -0.13048284 -0.17682281]\n",
      " [ 1.         -0.57483949 -0.57458841  1.72156931 -0.57910781 -0.18691364\n",
      "   0.18691364 -0.05024993 -0.21523499  1.0424484   0.81681177 -0.97453415\n",
      "   0.92046118  1.25532504  0.46161113 -0.13048284 -0.17682281]]\n",
      "[[ 1.         -0.57483949  1.7403762  -0.58086537 -0.57910781 -0.18691364\n",
      "   0.18691364 -0.0132383  -0.50277769  0.44483842  0.22695851 -0.87899861\n",
      "   0.48496208  0.52566662  0.50785482 -0.13048284 -0.17682281]\n",
      " [ 1.          1.73961604 -0.57458841 -0.58086537 -0.57910781 -0.18691364\n",
      "   0.18691364  0.74549994 -0.35900634  0.88474577  0.66934845 -1.16560523\n",
      "   0.0791561   1.06530983  0.45005021 -0.13048284 -0.17682281]]\n",
      "[0.0 0.0]\n",
      "[0.0 0.0]\n",
      "(6132,) (6132, 17) (2628,) (2628, 17)\n"
     ]
    }
   ],
   "source": [
    "# CHECKING\n",
    "print(X_train_L[:2,:])\n",
    "print(X_test_L[:2,:])\n",
    "print(Y_train_L[0:2])\n",
    "print(Y_test_L[0:2])\n",
    "print(Y_train_L.shape, X_train_L.shape, Y_test_L.shape, X_test_L.shape)"
   ]
  },
  {
   "cell_type": "code",
   "execution_count": 87,
   "metadata": {
    "colab": {},
    "colab_type": "code",
    "id": "SqBFnHBoOh7N"
   },
   "outputs": [],
   "source": [
    "# change to float for exp caculation\n",
    "X_train_L = X_train_L.astype(float)\n",
    "X_test_L = X_test_L.astype(float)\n",
    "Y_train_L = Y_train_L.astype(float)\n",
    "Y_test_L = Y_test_L.astype(float)"
   ]
  },
  {
   "cell_type": "markdown",
   "metadata": {
    "colab_type": "text",
    "id": "OzsGP4cuOh7U"
   },
   "source": [
    "## Y_train_L , X_train_L, Y_test_L, X_test_L"
   ]
  },
  {
   "cell_type": "code",
   "execution_count": 88,
   "metadata": {
    "colab": {},
    "colab_type": "code",
    "id": "CmL8RA-YOh7U"
   },
   "outputs": [],
   "source": [
    "def sigmoid(x): #Hypothesis Values = y_hat\n",
    "    return 1.0 / (1 + np.exp(-x))\n",
    "\n",
    "def cost_funtion_L(X,Y,B):\n",
    "    ln = X.dot(B)\n",
    "    m = len(X)\n",
    "    h = sigmoid(ln)\n",
    "    cost = (np.log(h)@Y+np.log(1-h)@(1-Y))/(-m)\n",
    "    return cost"
   ]
  },
  {
   "cell_type": "code",
   "execution_count": 89,
   "metadata": {
    "colab": {},
    "colab_type": "code",
    "id": "NwNnHMNiOh7W"
   },
   "outputs": [],
   "source": [
    "def L_gradient_descent(X, Y, B, alpha, iterations):\n",
    "    cost_history = [0] * iterations\n",
    "    ln_history = [0] * iterations\n",
    "    h_history = [0] * iterations\n",
    "    error_history = [0]*iterations\n",
    "    m = len(Y)\n",
    "\n",
    "    for iteration in range(iterations):\n",
    "        #print(iteration)\n",
    "        #Hypothesis Values = y_hat\n",
    "        ln = X.dot(B)\n",
    "        ln_history[iteration] = ln\n",
    "        h = sigmoid(ln)\n",
    "        h_history[iteration] = h\n",
    "        # Difference b/w Hypothesis and Actual Y\n",
    "        error = h-Y\n",
    "        error_history[iteration] = error\n",
    "        # Gradient Calculation\n",
    "        # gradient = X.T.dot(error) / m\n",
    "        # Changing Values of B using Gradient\n",
    "        B = B-alpha*X.T.dot(error)/m\n",
    "        # New Cost Value\n",
    "        cost = cost_funtion_L(X, Y, B)\n",
    "        cost_history[iteration] = cost\n",
    "\n",
    "    return B, cost_history, h_history, ln_history, error_history"
   ]
  },
  {
   "cell_type": "markdown",
   "metadata": {
    "colab_type": "text",
    "id": "JoOPt4cxRY6R"
   },
   "source": [
    "## 1st try\n"
   ]
  },
  {
   "cell_type": "code",
   "execution_count": 90,
   "metadata": {
    "colab": {},
    "colab_type": "code",
    "id": "5ppjjqp0Oh7Z"
   },
   "outputs": [],
   "source": [
    "B = np.zeros(X_train_L.shape[1])\n",
    "iterations = 1000\n",
    "newB_L, cost_history_L,h_history, ln_history,error_history = L_gradient_descent(X_train_L,Y_train_L,B,0.001,iterations)"
   ]
  },
  {
   "cell_type": "code",
   "execution_count": 91,
   "metadata": {
    "colab": {
     "base_uri": "https://localhost:8080/",
     "height": 50
    },
    "colab_type": "code",
    "id": "FN7rMDLiOh7c",
    "outputId": "9f03b566-fce0-438e-8f20-4364bc80aed0"
   },
   "outputs": [
    {
     "name": "stdout",
     "output_type": "stream",
     "text": [
      "1 is 90 and 0 is 2538\n",
      "[0 0 0 ... 1 0 0] (2628,) (2628,)\n"
     ]
    }
   ],
   "source": [
    "X_test_pred = X_test_L.dot(newB_L)\n",
    "X_test_pred = X_test_pred.tolist()\n",
    "qwe = len(X_test_pred)\n",
    "probability = []\n",
    "for i in range(qwe):\n",
    "    if X_test_pred[i] > 0.5:\n",
    "        probability.append(1)\n",
    "    else:\n",
    "        probability.append(0)\n",
    "\n",
    "print(\"1 is {} and 0 is {}\".format(probability.count(1),probability.count(0)))\n",
    "\n",
    "probability = np.asarray(probability)\n",
    "\n",
    "print( probability, probability.shape,Y_test_L.shape)\n"
   ]
  },
  {
   "cell_type": "code",
   "execution_count": 92,
   "metadata": {
    "colab": {
     "base_uri": "https://localhost:8080/",
     "height": 185
    },
    "colab_type": "code",
    "id": "0I5ZHr9TOh7f",
    "outputId": "97696024-5e59-457e-ad78-749d15ee92a4"
   },
   "outputs": [
    {
     "name": "stdout",
     "output_type": "stream",
     "text": [
      "[[2538   30    0    0    0    0    0    0    0]\n",
      " [   0   17    0    0    0    0    0    0    0]\n",
      " [   0   24    0    0    0    0    0    0    0]\n",
      " [   0   11    0    0    0    0    0    0    0]\n",
      " [   0    4    0    0    0    0    0    0    0]\n",
      " [   0    1    0    0    0    0    0    0    0]\n",
      " [   0    1    0    0    0    0    0    0    0]\n",
      " [   0    1    0    0    0    0    0    0    0]\n",
      " [   0    1    0    0    0    0    0    0    0]]\n"
     ]
    },
    {
     "data": {
      "text/plain": [
       "0.9722222222222222"
      ]
     },
     "execution_count": 92,
     "metadata": {},
     "output_type": "execute_result"
    }
   ],
   "source": [
    "from sklearn.metrics import confusion_matrix, accuracy_score\n",
    "probability = probability.astype(int)\n",
    "Y_test_L = Y_test_L.astype(int)\n",
    "cm = confusion_matrix(Y_test_L, probability)\n",
    "print(cm)\n",
    "accuracy_score(Y_test_L, probability)"
   ]
  },
  {
   "cell_type": "markdown",
   "metadata": {
    "colab_type": "text",
    "id": "EQgNt6ZPOh7i"
   },
   "source": [
    "## 2nd try"
   ]
  },
  {
   "cell_type": "code",
   "execution_count": 93,
   "metadata": {
    "colab": {
     "base_uri": "https://localhost:8080/",
     "height": 50
    },
    "colab_type": "code",
    "id": "C8-Ebck2SKXl",
    "outputId": "17a1764b-3da5-49bb-ed8f-327545a6e77b"
   },
   "outputs": [
    {
     "name": "stderr",
     "output_type": "stream",
     "text": [
      "<ipython-input-88-d122341d077a>:8: RuntimeWarning: divide by zero encountered in log\n",
      "  cost = (np.log(h)@Y+np.log(1-h)@(1-Y))/(-m)\n"
     ]
    }
   ],
   "source": [
    "B = np.zeros(X_train_L.shape[1])\n",
    "iterations = 10000\n",
    "newB_L, cost_history_L,h_history, ln_history,error_history = L_gradient_descent(X_train_L,Y_train_L,B,0.001,iterations)"
   ]
  },
  {
   "cell_type": "code",
   "execution_count": 94,
   "metadata": {
    "colab": {
     "base_uri": "https://localhost:8080/",
     "height": 50
    },
    "colab_type": "code",
    "id": "ItnqPBPoSKX8",
    "outputId": "a2cd0d65-e7db-4546-e7c0-b660c3f8198d"
   },
   "outputs": [
    {
     "name": "stdout",
     "output_type": "stream",
     "text": [
      "1 is 114 and 0 is 2514\n",
      "[0 0 0 ... 1 0 0] (2628,) (2628,)\n"
     ]
    }
   ],
   "source": [
    "X_test_pred = X_test_L.dot(newB_L)\n",
    "X_test_pred = X_test_pred.tolist()\n",
    "qwe = len(X_test_pred)\n",
    "probability = []\n",
    "for i in range(qwe):\n",
    "    if X_test_pred[i] > 0.5:\n",
    "        probability.append(1)\n",
    "    else:\n",
    "        probability.append(0)\n",
    "\n",
    "print(\"1 is {} and 0 is {}\".format(probability.count(1),probability.count(0)))\n",
    "\n",
    "probability = np.asarray(probability)\n",
    "\n",
    "print( probability, probability.shape,Y_test_L.shape)\n"
   ]
  },
  {
   "cell_type": "code",
   "execution_count": 95,
   "metadata": {
    "colab": {
     "base_uri": "https://localhost:8080/",
     "height": 185
    },
    "colab_type": "code",
    "id": "riwa4i7BSKYL",
    "outputId": "27400ed2-42ec-445d-9171-27da833a6d30"
   },
   "outputs": [
    {
     "name": "stdout",
     "output_type": "stream",
     "text": [
      "[[2514   54    0    0    0    0    0    0    0]\n",
      " [   0   17    0    0    0    0    0    0    0]\n",
      " [   0   24    0    0    0    0    0    0    0]\n",
      " [   0   11    0    0    0    0    0    0    0]\n",
      " [   0    4    0    0    0    0    0    0    0]\n",
      " [   0    1    0    0    0    0    0    0    0]\n",
      " [   0    1    0    0    0    0    0    0    0]\n",
      " [   0    1    0    0    0    0    0    0    0]\n",
      " [   0    1    0    0    0    0    0    0    0]]\n"
     ]
    },
    {
     "data": {
      "text/plain": [
       "0.963089802130898"
      ]
     },
     "execution_count": 95,
     "metadata": {},
     "output_type": "execute_result"
    }
   ],
   "source": [
    "probability = probability.astype(int)\n",
    "Y_test_L = Y_test_L.astype(int)\n",
    "cm = confusion_matrix(Y_test_L, probability)\n",
    "print(cm)\n",
    "accuracy_score(Y_test_L, probability)"
   ]
  },
  {
   "cell_type": "markdown",
   "metadata": {
    "colab_type": "text",
    "id": "a_oT0revSarD"
   },
   "source": [
    "## 3rd try"
   ]
  },
  {
   "cell_type": "code",
   "execution_count": 96,
   "metadata": {
    "colab": {
     "base_uri": "https://localhost:8080/",
     "height": 50
    },
    "colab_type": "code",
    "id": "WSWORnX9SfoR",
    "outputId": "e766f783-81e1-4af0-e063-bbf2e31933f7"
   },
   "outputs": [
    {
     "name": "stderr",
     "output_type": "stream",
     "text": [
      "<ipython-input-88-d122341d077a>:8: RuntimeWarning: divide by zero encountered in log\n",
      "  cost = (np.log(h)@Y+np.log(1-h)@(1-Y))/(-m)\n"
     ]
    }
   ],
   "source": [
    "B = np.zeros(X_train_L.shape[1])\n",
    "iterations = 10000\n",
    "newB_L, cost_history_L,h_history, ln_history,error_history = L_gradient_descent(X_train_L,Y_train_L,B,0.005,iterations)"
   ]
  },
  {
   "cell_type": "code",
   "execution_count": 97,
   "metadata": {
    "colab": {
     "base_uri": "https://localhost:8080/",
     "height": 50
    },
    "colab_type": "code",
    "id": "zoibWYCISfoc",
    "outputId": "05252de2-46b4-4da7-affb-7b64bbbf5fb5"
   },
   "outputs": [
    {
     "name": "stdout",
     "output_type": "stream",
     "text": [
      "1 is 123 and 0 is 2505\n",
      "[0 0 0 ... 1 0 0] (2628,) (2628,)\n"
     ]
    }
   ],
   "source": [
    "X_test_pred = X_test_L.dot(newB_L)\n",
    "X_test_pred = X_test_pred.tolist()\n",
    "qwe = len(X_test_pred)\n",
    "probability = []\n",
    "for i in range(qwe):\n",
    "    if X_test_pred[i] > 0.5:\n",
    "        probability.append(1)\n",
    "    else:\n",
    "        probability.append(0)\n",
    "\n",
    "print(\"1 is {} and 0 is {}\".format(probability.count(1),probability.count(0)))\n",
    "\n",
    "probability = np.asarray(probability)\n",
    "\n",
    "print( probability, probability.shape,Y_test_L.shape)\n"
   ]
  },
  {
   "cell_type": "code",
   "execution_count": 98,
   "metadata": {
    "colab": {
     "base_uri": "https://localhost:8080/",
     "height": 185
    },
    "colab_type": "code",
    "id": "WGpzn4ILSfop",
    "outputId": "a67490cd-dc73-4fc0-e41a-932f0cab3a61"
   },
   "outputs": [
    {
     "name": "stdout",
     "output_type": "stream",
     "text": [
      "[[2505   63    0    0    0    0    0    0    0]\n",
      " [   0   17    0    0    0    0    0    0    0]\n",
      " [   0   24    0    0    0    0    0    0    0]\n",
      " [   0   11    0    0    0    0    0    0    0]\n",
      " [   0    4    0    0    0    0    0    0    0]\n",
      " [   0    1    0    0    0    0    0    0    0]\n",
      " [   0    1    0    0    0    0    0    0    0]\n",
      " [   0    1    0    0    0    0    0    0    0]\n",
      " [   0    1    0    0    0    0    0    0    0]]\n"
     ]
    },
    {
     "data": {
      "text/plain": [
       "0.9596651445966514"
      ]
     },
     "execution_count": 98,
     "metadata": {},
     "output_type": "execute_result"
    }
   ],
   "source": [
    "probability = probability.astype(int)\n",
    "Y_test_L = Y_test_L.astype(int)\n",
    "cm = confusion_matrix(Y_test_L, probability)\n",
    "print(cm)\n",
    "accuracy_score(Y_test_L, probability)"
   ]
  },
  {
   "cell_type": "markdown",
   "metadata": {
    "colab_type": "text",
    "id": "r4KNqH3aSzcg"
   },
   "source": [
    "## 4th TRY"
   ]
  },
  {
   "cell_type": "code",
   "execution_count": 99,
   "metadata": {
    "colab": {},
    "colab_type": "code",
    "id": "-jCdEVkhS4vQ"
   },
   "outputs": [],
   "source": [
    "B = np.zeros(X_train_L.shape[1])\n",
    "iterations = 1000\n",
    "newB_L, cost_history_L,h_history, ln_history,error_history = L_gradient_descent(X_train_L,Y_train_L,B,0.001,iterations)"
   ]
  },
  {
   "cell_type": "code",
   "execution_count": 100,
   "metadata": {
    "colab": {
     "base_uri": "https://localhost:8080/",
     "height": 50
    },
    "colab_type": "code",
    "id": "Xd1HzeXeS4ve",
    "outputId": "0a729c4c-439a-4ae9-c83e-d4d879369aa3"
   },
   "outputs": [
    {
     "name": "stdout",
     "output_type": "stream",
     "text": [
      "1 is 102 and 0 is 2526\n",
      "[0 0 0 ... 1 0 0] (2628,) (2628,)\n"
     ]
    }
   ],
   "source": [
    "X_test_pred = X_test_L.dot(newB_L)\n",
    "X_test_pred = X_test_pred.tolist()\n",
    "qwe = len(X_test_pred)\n",
    "probability = []\n",
    "for i in range(qwe):\n",
    "    if X_test_pred[i] > 0.3:\n",
    "        probability.append(1)\n",
    "    else:\n",
    "        probability.append(0)\n",
    "\n",
    "print(\"1 is {} and 0 is {}\".format(probability.count(1),probability.count(0)))\n",
    "\n",
    "probability = np.asarray(probability)\n",
    "\n",
    "print( probability, probability.shape,Y_test_L.shape)\n"
   ]
  },
  {
   "cell_type": "code",
   "execution_count": 101,
   "metadata": {
    "colab": {
     "base_uri": "https://localhost:8080/",
     "height": 185
    },
    "colab_type": "code",
    "id": "lEyj94tbS4vn",
    "outputId": "f65045c3-e23c-43cc-8253-5ae4715075a0"
   },
   "outputs": [
    {
     "name": "stdout",
     "output_type": "stream",
     "text": [
      "[[2526   42    0    0    0    0    0    0    0]\n",
      " [   0   17    0    0    0    0    0    0    0]\n",
      " [   0   24    0    0    0    0    0    0    0]\n",
      " [   0   11    0    0    0    0    0    0    0]\n",
      " [   0    4    0    0    0    0    0    0    0]\n",
      " [   0    1    0    0    0    0    0    0    0]\n",
      " [   0    1    0    0    0    0    0    0    0]\n",
      " [   0    1    0    0    0    0    0    0    0]\n",
      " [   0    1    0    0    0    0    0    0    0]]\n"
     ]
    },
    {
     "data": {
      "text/plain": [
       "0.9676560121765602"
      ]
     },
     "execution_count": 101,
     "metadata": {},
     "output_type": "execute_result"
    }
   ],
   "source": [
    "probability = probability.astype(int)\n",
    "Y_test_L = Y_test_L.astype(int)\n",
    "cm = confusion_matrix(Y_test_L, probability)\n",
    "print(cm)\n",
    "accuracy_score(Y_test_L, probability)"
   ]
  },
  {
   "cell_type": "markdown",
   "metadata": {
    "colab_type": "text",
    "id": "6m9s83tGT9QA"
   },
   "source": [
    "## 5th TRY"
   ]
  },
  {
   "cell_type": "code",
   "execution_count": 102,
   "metadata": {
    "colab": {
     "base_uri": "https://localhost:8080/",
     "height": 50
    },
    "colab_type": "code",
    "id": "8IpxhCzWT9QB",
    "outputId": "4eae8bf6-1e23-441f-ae29-1229704cb67a"
   },
   "outputs": [
    {
     "name": "stderr",
     "output_type": "stream",
     "text": [
      "<ipython-input-88-d122341d077a>:8: RuntimeWarning: divide by zero encountered in log\n",
      "  cost = (np.log(h)@Y+np.log(1-h)@(1-Y))/(-m)\n"
     ]
    }
   ],
   "source": [
    "B = np.zeros(X_train_L.shape[1])\n",
    "iterations = 10000\n",
    "newB_L, cost_history_L,h_history, ln_history,error_history = L_gradient_descent(X_train_L,Y_train_L,B,0.001,iterations)"
   ]
  },
  {
   "cell_type": "code",
   "execution_count": 103,
   "metadata": {
    "colab": {
     "base_uri": "https://localhost:8080/",
     "height": 50
    },
    "colab_type": "code",
    "id": "12zl1FN2T9QD",
    "outputId": "b0baef02-a23b-43d1-b652-4d6338cdbd5b"
   },
   "outputs": [
    {
     "name": "stdout",
     "output_type": "stream",
     "text": [
      "1 is 118 and 0 is 2510\n",
      "[0 0 0 ... 1 0 0] (2628,) (2628,)\n"
     ]
    }
   ],
   "source": [
    "X_test_pred = X_test_L.dot(newB_L)\n",
    "X_test_pred = X_test_pred.tolist()\n",
    "qwe = len(X_test_pred)\n",
    "probability = []\n",
    "for i in range(qwe):\n",
    "    if X_test_pred[i] > 0.3:\n",
    "        probability.append(1)\n",
    "    else:\n",
    "        probability.append(0)\n",
    "\n",
    "print(\"1 is {} and 0 is {}\".format(probability.count(1),probability.count(0)))\n",
    "\n",
    "probability = np.asarray(probability)\n",
    "\n",
    "print( probability, probability.shape,Y_test_L.shape)\n"
   ]
  },
  {
   "cell_type": "code",
   "execution_count": 104,
   "metadata": {
    "colab": {
     "base_uri": "https://localhost:8080/",
     "height": 185
    },
    "colab_type": "code",
    "id": "xhGzz5azT9QH",
    "outputId": "c09eb034-1f03-4542-9ba0-fca7c0dd637a"
   },
   "outputs": [
    {
     "name": "stdout",
     "output_type": "stream",
     "text": [
      "[[2510   58    0    0    0    0    0    0    0]\n",
      " [   0   17    0    0    0    0    0    0    0]\n",
      " [   0   24    0    0    0    0    0    0    0]\n",
      " [   0   11    0    0    0    0    0    0    0]\n",
      " [   0    4    0    0    0    0    0    0    0]\n",
      " [   0    1    0    0    0    0    0    0    0]\n",
      " [   0    1    0    0    0    0    0    0    0]\n",
      " [   0    1    0    0    0    0    0    0    0]\n",
      " [   0    1    0    0    0    0    0    0    0]]\n"
     ]
    },
    {
     "data": {
      "text/plain": [
       "0.9615677321156774"
      ]
     },
     "execution_count": 104,
     "metadata": {},
     "output_type": "execute_result"
    }
   ],
   "source": [
    "probability = probability.astype(int)\n",
    "Y_test_L = Y_test_L.astype(int)\n",
    "cm = confusion_matrix(Y_test_L, probability)\n",
    "print(cm)\n",
    "accuracy_score(Y_test_L, probability)"
   ]
  },
  {
   "cell_type": "markdown",
   "metadata": {
    "colab_type": "text",
    "id": "BHdhpcpkUZOM"
   },
   "source": [
    "## 6th TRY"
   ]
  },
  {
   "cell_type": "code",
   "execution_count": 105,
   "metadata": {
    "colab": {
     "base_uri": "https://localhost:8080/",
     "height": 50
    },
    "colab_type": "code",
    "id": "PozPSNliUZON",
    "outputId": "a285ab58-4ac5-4f32-c0c2-86113c6d2f14"
   },
   "outputs": [
    {
     "name": "stderr",
     "output_type": "stream",
     "text": [
      "<ipython-input-88-d122341d077a>:8: RuntimeWarning: divide by zero encountered in log\n",
      "  cost = (np.log(h)@Y+np.log(1-h)@(1-Y))/(-m)\n"
     ]
    }
   ],
   "source": [
    "B = np.zeros(X_train_L.shape[1])\n",
    "iterations = 10000\n",
    "newB_L, cost_history_L,h_history, ln_history,error_history = L_gradient_descent(X_train_L,Y_train_L,B,0.005,iterations)"
   ]
  },
  {
   "cell_type": "code",
   "execution_count": 106,
   "metadata": {
    "colab": {
     "base_uri": "https://localhost:8080/",
     "height": 50
    },
    "colab_type": "code",
    "id": "GWFY1rRCUZOQ",
    "outputId": "1bc0bcb7-74ab-4a14-a3c5-60aa50156685"
   },
   "outputs": [
    {
     "name": "stdout",
     "output_type": "stream",
     "text": [
      "1 is 124 and 0 is 2504\n",
      "[0 0 0 ... 1 0 0] (2628,) (2628,)\n"
     ]
    }
   ],
   "source": [
    "X_test_pred = X_test_L.dot(newB_L)\n",
    "X_test_pred = X_test_pred.tolist()\n",
    "qwe = len(X_test_pred)\n",
    "probability = []\n",
    "for i in range(qwe):\n",
    "    if X_test_pred[i] > 0.3:\n",
    "        probability.append(1)\n",
    "    else:\n",
    "        probability.append(0)\n",
    "\n",
    "print(\"1 is {} and 0 is {}\".format(probability.count(1),probability.count(0)))\n",
    "\n",
    "probability = np.asarray(probability)\n",
    "\n",
    "print( probability, probability.shape,Y_test_L.shape)\n"
   ]
  },
  {
   "cell_type": "code",
   "execution_count": 107,
   "metadata": {
    "colab": {
     "base_uri": "https://localhost:8080/",
     "height": 185
    },
    "colab_type": "code",
    "id": "AJyfrGebUZOT",
    "outputId": "a8dabfff-7cd9-4fd0-c2d0-1aad0e326d1e"
   },
   "outputs": [
    {
     "name": "stdout",
     "output_type": "stream",
     "text": [
      "[[2504   64    0    0    0    0    0    0    0]\n",
      " [   0   17    0    0    0    0    0    0    0]\n",
      " [   0   24    0    0    0    0    0    0    0]\n",
      " [   0   11    0    0    0    0    0    0    0]\n",
      " [   0    4    0    0    0    0    0    0    0]\n",
      " [   0    1    0    0    0    0    0    0    0]\n",
      " [   0    1    0    0    0    0    0    0    0]\n",
      " [   0    1    0    0    0    0    0    0    0]\n",
      " [   0    1    0    0    0    0    0    0    0]]\n"
     ]
    },
    {
     "data": {
      "text/plain": [
       "0.9592846270928462"
      ]
     },
     "execution_count": 107,
     "metadata": {},
     "output_type": "execute_result"
    }
   ],
   "source": [
    "probability = probability.astype(int)\n",
    "Y_test_L = Y_test_L.astype(int)\n",
    "cm = confusion_matrix(Y_test_L, probability)\n",
    "print(cm)\n",
    "accuracy_score(Y_test_L, probability)"
   ]
  },
  {
   "cell_type": "markdown",
   "metadata": {
    "colab_type": "text",
    "id": "OkpYsx0fUyHt"
   },
   "source": [
    "## 7th TRY"
   ]
  },
  {
   "cell_type": "code",
   "execution_count": 108,
   "metadata": {
    "colab": {},
    "colab_type": "code",
    "id": "Zsfrap4YUyHt"
   },
   "outputs": [],
   "source": [
    "B = np.zeros(X_train_L.shape[1])\n",
    "iterations = 1000\n",
    "newB_L, cost_history_L,h_history, ln_history,error_history = L_gradient_descent(X_train_L,Y_train_L,B,0.001,iterations)"
   ]
  },
  {
   "cell_type": "code",
   "execution_count": 109,
   "metadata": {
    "colab": {
     "base_uri": "https://localhost:8080/",
     "height": 67
    },
    "colab_type": "code",
    "id": "SfwKzHauYEZ8",
    "outputId": "bb985794-7da9-4e57-ed7e-b197a7fc1fee"
   },
   "outputs": [
    {
     "data": {
      "text/plain": [
       "array([-0.375, -0.01 , -0.034, -0.025,  0.068, -0.01 ,  0.01 , -0.036,\n",
       "       -0.003, -0.06 ,  0.039, -0.001, -0.04 , -0.038, -0.016, -0.004,\n",
       "        0.382])"
      ]
     },
     "execution_count": 109,
     "metadata": {},
     "output_type": "execute_result"
    }
   ],
   "source": [
    "#newB_L\n",
    "newB_Lr = np.around(newB_L, decimals=3)\n",
    "newB_Lr"
   ]
  },
  {
   "cell_type": "code",
   "execution_count": 110,
   "metadata": {
    "colab": {
     "base_uri": "https://localhost:8080/",
     "height": 50
    },
    "colab_type": "code",
    "id": "amTi_8VaUyHw",
    "outputId": "7fc974d5-ae25-41ce-f37e-13b862543ba5"
   },
   "outputs": [
    {
     "name": "stdout",
     "output_type": "stream",
     "text": [
      "1 is 56 and 0 is 2572\n",
      "[0 0 0 ... 1 0 0] (2628,) (2628,)\n"
     ]
    }
   ],
   "source": [
    "  X_test_pred = X_test_L.dot(newB_L)\n",
    "X_test_pred = X_test_pred.tolist()\n",
    "qwe = len(X_test_pred)\n",
    "probability = []\n",
    "for i in range(qwe):\n",
    "    if X_test_pred[i] > 0.8:\n",
    "        probability.append(1)\n",
    "    else:\n",
    "        probability.append(0)\n",
    "\n",
    "print(\"1 is {} and 0 is {}\".format(probability.count(1),probability.count(0)))\n",
    "\n",
    "probability = np.asarray(probability)\n",
    "\n",
    "print( probability, probability.shape,Y_test_L.shape)\n"
   ]
  },
  {
   "cell_type": "code",
   "execution_count": 111,
   "metadata": {
    "colab": {
     "base_uri": "https://localhost:8080/",
     "height": 185
    },
    "colab_type": "code",
    "id": "SfDoQwPNUyHy",
    "outputId": "2bdf94ac-2078-42af-e9df-d23aa7107ee2"
   },
   "outputs": [
    {
     "name": "stdout",
     "output_type": "stream",
     "text": [
      "[[2568    0    0    0    0    0    0    0    0]\n",
      " [   4   13    0    0    0    0    0    0    0]\n",
      " [   0   24    0    0    0    0    0    0    0]\n",
      " [   0   11    0    0    0    0    0    0    0]\n",
      " [   0    4    0    0    0    0    0    0    0]\n",
      " [   0    1    0    0    0    0    0    0    0]\n",
      " [   0    1    0    0    0    0    0    0    0]\n",
      " [   0    1    0    0    0    0    0    0    0]\n",
      " [   0    1    0    0    0    0    0    0    0]]\n"
     ]
    },
    {
     "data": {
      "text/plain": [
       "0.9821156773211568"
      ]
     },
     "execution_count": 111,
     "metadata": {},
     "output_type": "execute_result"
    }
   ],
   "source": [
    "probability = probability.astype(int)\n",
    "Y_test_L = Y_test_L.astype(int)\n",
    "cm = confusion_matrix(Y_test_L, probability)\n",
    "print(cm)\n",
    "accuracy_score(Y_test_L, probability)"
   ]
  },
  {
   "cell_type": "markdown",
   "metadata": {
    "colab_type": "text",
    "id": "uiJp4r-hcaYE"
   },
   "source": [
    "## LR 8 Random Features models\n"
   ]
  },
  {
   "cell_type": "code",
   "execution_count": 112,
   "metadata": {
    "colab": {
     "base_uri": "https://localhost:8080/",
     "height": 34
    },
    "colab_type": "code",
    "id": "0tblzX6nc_V1",
    "outputId": "9f2b0a86-ef40-4ba7-c441-b0b72d2ffa16"
   },
   "outputs": [
    {
     "data": {
      "text/plain": [
       "[1, 3, 4, 5, 6, 8, 9, 11]"
      ]
     },
     "execution_count": 112,
     "metadata": {},
     "output_type": "execute_result"
    }
   ],
   "source": [
    "import random\n",
    "random.seed(50)\n",
    "#Generate 8 random numbers between 1 and 12\n",
    "randomlist = random.sample(range(1, 12), 8)\n",
    "randomlist.sort()\n",
    "randomlist"
   ]
  },
  {
   "cell_type": "code",
   "execution_count": 113,
   "metadata": {
    "colab": {
     "base_uri": "https://localhost:8080/",
     "height": 157
    },
    "colab_type": "code",
    "id": "xKQCsCP1dNVn",
    "outputId": "42178387-59a3-4365-f536-c12e5c72dd6a"
   },
   "outputs": [
    {
     "data": {
      "text/html": [
       "<div>\n",
       "<style scoped>\n",
       "    .dataframe tbody tr th:only-of-type {\n",
       "        vertical-align: middle;\n",
       "    }\n",
       "\n",
       "    .dataframe tbody tr th {\n",
       "        vertical-align: top;\n",
       "    }\n",
       "\n",
       "    .dataframe thead th {\n",
       "        text-align: right;\n",
       "    }\n",
       "</style>\n",
       "<table border=\"1\" class=\"dataframe\">\n",
       "  <thead>\n",
       "    <tr style=\"text-align: right;\">\n",
       "      <th></th>\n",
       "      <th>Date</th>\n",
       "      <th>Rented Bike Count</th>\n",
       "      <th>Hour</th>\n",
       "      <th>Temperature(°C)</th>\n",
       "      <th>Humidity(%)</th>\n",
       "      <th>Wind speed (m/s)</th>\n",
       "      <th>Visibility (10m)</th>\n",
       "      <th>Dew point temperature(°C)</th>\n",
       "      <th>Solar Radiation (MJ/m2)</th>\n",
       "      <th>Rainfall(mm)</th>\n",
       "      <th>Snowfall (cm)</th>\n",
       "      <th>Seasons</th>\n",
       "      <th>Holiday</th>\n",
       "      <th>Functioning Day</th>\n",
       "    </tr>\n",
       "  </thead>\n",
       "  <tbody>\n",
       "    <tr>\n",
       "      <th>0</th>\n",
       "      <td>01/12/2017</td>\n",
       "      <td>254.0</td>\n",
       "      <td>0.0</td>\n",
       "      <td>-5.2</td>\n",
       "      <td>37.0</td>\n",
       "      <td>2.2</td>\n",
       "      <td>2000.0</td>\n",
       "      <td>-17.6</td>\n",
       "      <td>0.0</td>\n",
       "      <td>0.0</td>\n",
       "      <td>0.0</td>\n",
       "      <td>Winter</td>\n",
       "      <td>No Holiday</td>\n",
       "      <td>Yes</td>\n",
       "    </tr>\n",
       "    <tr>\n",
       "      <th>1</th>\n",
       "      <td>01/12/2017</td>\n",
       "      <td>204.0</td>\n",
       "      <td>1.0</td>\n",
       "      <td>-5.5</td>\n",
       "      <td>38.0</td>\n",
       "      <td>0.8</td>\n",
       "      <td>2000.0</td>\n",
       "      <td>-17.6</td>\n",
       "      <td>0.0</td>\n",
       "      <td>0.0</td>\n",
       "      <td>0.0</td>\n",
       "      <td>Winter</td>\n",
       "      <td>No Holiday</td>\n",
       "      <td>Yes</td>\n",
       "    </tr>\n",
       "  </tbody>\n",
       "</table>\n",
       "</div>"
      ],
      "text/plain": [
       "         Date  Rented Bike Count  Hour  Temperature(°C)  Humidity(%)  \\\n",
       "0  01/12/2017              254.0   0.0             -5.2         37.0   \n",
       "1  01/12/2017              204.0   1.0             -5.5         38.0   \n",
       "\n",
       "   Wind speed (m/s)  Visibility (10m)  Dew point temperature(°C)  \\\n",
       "0               2.2            2000.0                      -17.6   \n",
       "1               0.8            2000.0                      -17.6   \n",
       "\n",
       "   Solar Radiation (MJ/m2)  Rainfall(mm)  Snowfall (cm) Seasons     Holiday  \\\n",
       "0                      0.0           0.0            0.0  Winter  No Holiday   \n",
       "1                      0.0           0.0            0.0  Winter  No Holiday   \n",
       "\n",
       "  Functioning Day  \n",
       "0             Yes  \n",
       "1             Yes  "
      ]
     },
     "execution_count": 113,
     "metadata": {},
     "output_type": "execute_result"
    }
   ],
   "source": [
    "dataset2_L = dataset2\n",
    "dataset2_L.head(2) # view the data"
   ]
  },
  {
   "cell_type": "code",
   "execution_count": 114,
   "metadata": {
    "colab": {
     "base_uri": "https://localhost:8080/",
     "height": 134
    },
    "colab_type": "code",
    "id": "kF1RA-AHdpuD",
    "outputId": "9d7a12a0-738e-442a-cf0c-4926f472ebf0"
   },
   "outputs": [
    {
     "name": "stdout",
     "output_type": "stream",
     "text": [
      "[[254.0 -5.2 37.0 ... 0.0 0.0 'Winter']\n",
      " [204.0 -5.5 38.0 ... 0.0 0.0 'Winter']\n",
      " [173.0 -6.0 39.0 ... 0.0 0.0 'Winter']\n",
      " ...\n",
      " [694.0 2.6 39.0 ... 0.0 0.0 'Autumn']\n",
      " [712.0 2.1 41.0 ... 0.0 0.0 'Autumn']\n",
      " [584.0 1.9 43.0 ... 0.0 0.0 'Autumn']]\n"
     ]
    }
   ],
   "source": [
    "X_L2= dataset2.iloc[:, [1, 3, 4, 5, 6, 8, 9, 11]].values\n",
    "print(X_L2)"
   ]
  },
  {
   "cell_type": "code",
   "execution_count": 115,
   "metadata": {
    "colab": {
     "base_uri": "https://localhost:8080/",
     "height": 134
    },
    "colab_type": "code",
    "id": "SlWcFIHyeBZx",
    "outputId": "8e792fad-c759-44d8-c8fe-aa86e6fb39d6"
   },
   "outputs": [
    {
     "name": "stdout",
     "output_type": "stream",
     "text": [
      "[[0.0 0.0 0.0 ... 2000.0 0.0 0.0]\n",
      " [0.0 0.0 0.0 ... 2000.0 0.0 0.0]\n",
      " [0.0 0.0 0.0 ... 2000.0 0.0 0.0]\n",
      " ...\n",
      " [1.0 0.0 0.0 ... 1968.0 0.0 0.0]\n",
      " [1.0 0.0 0.0 ... 1859.0 0.0 0.0]\n",
      " [1.0 0.0 0.0 ... 1909.0 0.0 0.0]]\n"
     ]
    }
   ],
   "source": [
    "# Encoding the Independent Variable\n",
    "# Encoding Seasons Day\n",
    "seasons = ColumnTransformer(transformers=[('encoder', OneHotEncoder(), [-1])], remainder='passthrough')\n",
    "X_L2 = np.array(seasons.fit_transform(X_L2))\n",
    "Y_L2 = Y_L\n",
    "print(X_L2)"
   ]
  },
  {
   "cell_type": "code",
   "execution_count": 116,
   "metadata": {
    "colab": {
     "base_uri": "https://localhost:8080/",
     "height": 34
    },
    "colab_type": "code",
    "id": "SJChsBtWe-du",
    "outputId": "53cd572d-6148-4dfd-b156-edee64c28b01"
   },
   "outputs": [
    {
     "name": "stdout",
     "output_type": "stream",
     "text": [
      "(6132,) (6132, 11) (2628,) (2628, 11)\n"
     ]
    }
   ],
   "source": [
    "#Splitting the dataset into the Training set and Test set\n",
    "from sklearn.model_selection import train_test_split\n",
    "X_train_L, X_test_L, Y_train_L, Y_test_L = train_test_split(X_L2, Y_L2, test_size = 0.3, random_state = 1)\n",
    "print(Y_train_L.shape, X_train_L.shape, Y_test_L.shape, X_test_L.shape)"
   ]
  },
  {
   "cell_type": "code",
   "execution_count": 117,
   "metadata": {
    "colab": {},
    "colab_type": "code",
    "id": "vihnbVdFe-dx"
   },
   "outputs": [],
   "source": [
    "# just make the regression result more correctly, no need. \n",
    "from sklearn.preprocessing import StandardScaler\n",
    "sc = StandardScaler()\n",
    "X_train_L = sc.fit_transform(X_train_L)\n",
    "X_test_L = sc.transform(X_test_L)"
   ]
  },
  {
   "cell_type": "code",
   "execution_count": 118,
   "metadata": {
    "colab": {},
    "colab_type": "code",
    "id": "xVmLi0aefTD-"
   },
   "outputs": [],
   "source": [
    "# Add one\n",
    "X_train_L = np.concatenate((np.ones((len(X_train_L), 1)), X_train_L), axis=1)\n",
    "X_test_L = np.concatenate((np.ones((len(X_test_L), 1)), X_test_L), axis=1)\n",
    "X_train_L = X_train_L.astype(float)\n",
    "X_test_L = X_test_L.astype(float)\n",
    "Y_test_L= Y_test_L.astype(float)\n",
    "Y_train_L= Y_train_L.astype(float)"
   ]
  },
  {
   "cell_type": "code",
   "execution_count": 119,
   "metadata": {
    "colab": {
     "base_uri": "https://localhost:8080/",
     "height": 202
    },
    "colab_type": "code",
    "id": "KQU6WDkwfTEA",
    "outputId": "923e12f1-5468-4c60-932b-8602d1249f09"
   },
   "outputs": [
    {
     "name": "stdout",
     "output_type": "stream",
     "text": [
      "[[ 1.         -0.57483949 -0.57458841  1.72156931 -0.57910781  0.2443009\n",
      "   1.03414826  1.40666502 -1.07006969 -1.13166338 -0.08175224 -0.13048284]\n",
      " [ 1.         -0.57483949 -0.57458841  1.72156931 -0.57910781 -0.05024993\n",
      "   1.0424484   0.81681177 -0.97453415  0.92046118  0.46161113 -0.13048284]]\n",
      "[[ 1.         -0.57483949  1.7403762  -0.58086537 -0.57910781 -0.0132383\n",
      "   0.44483842  0.22695851 -0.87899861  0.48496208  0.50785482 -0.13048284]\n",
      " [ 1.          1.73961604 -0.57458841 -0.58086537 -0.57910781  0.74549994\n",
      "   0.88474577  0.66934845 -1.16560523  0.0791561   0.45005021 -0.13048284]]\n",
      "[0. 0.]\n",
      "[0. 0.]\n",
      "(6132,) (6132, 12) (2628,) (2628, 12)\n"
     ]
    }
   ],
   "source": [
    "# CHECKING\n",
    "print(X_train_L[:2,:])\n",
    "print(X_test_L[:2,:])\n",
    "print(Y_train_L[0:2])\n",
    "print(Y_test_L[0:2])\n",
    "print(Y_train_L.shape, X_train_L.shape, Y_test_L.shape, X_test_L.shape)"
   ]
  },
  {
   "cell_type": "markdown",
   "metadata": {
    "colab_type": "text",
    "id": "_Yc3bRCFfu1P"
   },
   "source": [
    "## LR 8 Random Features models try"
   ]
  },
  {
   "cell_type": "code",
   "execution_count": 120,
   "metadata": {
    "colab": {},
    "colab_type": "code",
    "id": "s6KZC6YofpUm"
   },
   "outputs": [],
   "source": [
    "B = np.zeros(X_train_L.shape[1])\n",
    "iterations = 1000\n",
    "newB_L, cost_history_L,h_history, ln_history,error_history = L_gradient_descent(X_train_L,Y_train_L,B,0.001,iterations)"
   ]
  },
  {
   "cell_type": "code",
   "execution_count": 121,
   "metadata": {
    "colab": {
     "base_uri": "https://localhost:8080/",
     "height": 50
    },
    "colab_type": "code",
    "id": "WzQyy9PtfpUv",
    "outputId": "0cb0789c-f8e2-48f6-8660-0a2165717dd5"
   },
   "outputs": [
    {
     "name": "stdout",
     "output_type": "stream",
     "text": [
      "1 is 0 and 0 is 2628\n",
      "[0 0 0 ... 0 0 0] (2628,) (2628,)\n"
     ]
    }
   ],
   "source": [
    "X_test_pred = X_test_L.dot(newB_L)\n",
    "X_test_pred = X_test_pred.tolist()\n",
    "qwe = len(X_test_pred)\n",
    "probability = []\n",
    "for i in range(qwe):\n",
    "    if X_test_pred[i] > 0.8:\n",
    "        probability.append(1)\n",
    "    else:\n",
    "        probability.append(0)\n",
    "\n",
    "print(\"1 is {} and 0 is {}\".format(probability.count(1),probability.count(0)))\n",
    "\n",
    "probability = np.asarray(probability)\n",
    "\n",
    "print( probability, probability.shape,Y_test_L.shape)\n"
   ]
  },
  {
   "cell_type": "code",
   "execution_count": 122,
   "metadata": {
    "colab": {
     "base_uri": "https://localhost:8080/",
     "height": 185
    },
    "colab_type": "code",
    "id": "seJY6uDCfpUx",
    "outputId": "5d630111-847a-4d98-f568-646f2ae38a24"
   },
   "outputs": [
    {
     "name": "stdout",
     "output_type": "stream",
     "text": [
      "[[2568    0    0    0    0    0    0    0    0]\n",
      " [  17    0    0    0    0    0    0    0    0]\n",
      " [  24    0    0    0    0    0    0    0    0]\n",
      " [  11    0    0    0    0    0    0    0    0]\n",
      " [   4    0    0    0    0    0    0    0    0]\n",
      " [   1    0    0    0    0    0    0    0    0]\n",
      " [   1    0    0    0    0    0    0    0    0]\n",
      " [   1    0    0    0    0    0    0    0    0]\n",
      " [   1    0    0    0    0    0    0    0    0]]\n"
     ]
    },
    {
     "data": {
      "text/plain": [
       "0.9771689497716894"
      ]
     },
     "execution_count": 122,
     "metadata": {},
     "output_type": "execute_result"
    }
   ],
   "source": [
    "probability = probability.astype(int)\n",
    "Y_test_L = Y_test_L.astype(int)\n",
    "cm = confusion_matrix(Y_test_L, probability)\n",
    "print(cm)\n",
    "accuracy_score(Y_test_L, probability)"
   ]
  },
  {
   "cell_type": "markdown",
   "metadata": {
    "colab_type": "text",
    "id": "ur_r9E1wjliS"
   },
   "source": [
    "## LR 8 Select Features models\n"
   ]
  },
  {
   "cell_type": "code",
   "execution_count": 123,
   "metadata": {
    "colab": {
     "base_uri": "https://localhost:8080/",
     "height": 157
    },
    "colab_type": "code",
    "id": "amZ_sTsBjliV",
    "outputId": "494997a1-8867-4094-e1c5-84ead1cb5dc4"
   },
   "outputs": [
    {
     "data": {
      "text/html": [
       "<div>\n",
       "<style scoped>\n",
       "    .dataframe tbody tr th:only-of-type {\n",
       "        vertical-align: middle;\n",
       "    }\n",
       "\n",
       "    .dataframe tbody tr th {\n",
       "        vertical-align: top;\n",
       "    }\n",
       "\n",
       "    .dataframe thead th {\n",
       "        text-align: right;\n",
       "    }\n",
       "</style>\n",
       "<table border=\"1\" class=\"dataframe\">\n",
       "  <thead>\n",
       "    <tr style=\"text-align: right;\">\n",
       "      <th></th>\n",
       "      <th>Date</th>\n",
       "      <th>Rented Bike Count</th>\n",
       "      <th>Hour</th>\n",
       "      <th>Temperature(°C)</th>\n",
       "      <th>Humidity(%)</th>\n",
       "      <th>Wind speed (m/s)</th>\n",
       "      <th>Visibility (10m)</th>\n",
       "      <th>Dew point temperature(°C)</th>\n",
       "      <th>Solar Radiation (MJ/m2)</th>\n",
       "      <th>Rainfall(mm)</th>\n",
       "      <th>Snowfall (cm)</th>\n",
       "      <th>Seasons</th>\n",
       "      <th>Holiday</th>\n",
       "      <th>Functioning Day</th>\n",
       "    </tr>\n",
       "  </thead>\n",
       "  <tbody>\n",
       "    <tr>\n",
       "      <th>0</th>\n",
       "      <td>01/12/2017</td>\n",
       "      <td>254.0</td>\n",
       "      <td>0.0</td>\n",
       "      <td>-5.2</td>\n",
       "      <td>37.0</td>\n",
       "      <td>2.2</td>\n",
       "      <td>2000.0</td>\n",
       "      <td>-17.6</td>\n",
       "      <td>0.0</td>\n",
       "      <td>0.0</td>\n",
       "      <td>0.0</td>\n",
       "      <td>Winter</td>\n",
       "      <td>No Holiday</td>\n",
       "      <td>Yes</td>\n",
       "    </tr>\n",
       "    <tr>\n",
       "      <th>1</th>\n",
       "      <td>01/12/2017</td>\n",
       "      <td>204.0</td>\n",
       "      <td>1.0</td>\n",
       "      <td>-5.5</td>\n",
       "      <td>38.0</td>\n",
       "      <td>0.8</td>\n",
       "      <td>2000.0</td>\n",
       "      <td>-17.6</td>\n",
       "      <td>0.0</td>\n",
       "      <td>0.0</td>\n",
       "      <td>0.0</td>\n",
       "      <td>Winter</td>\n",
       "      <td>No Holiday</td>\n",
       "      <td>Yes</td>\n",
       "    </tr>\n",
       "  </tbody>\n",
       "</table>\n",
       "</div>"
      ],
      "text/plain": [
       "         Date  Rented Bike Count  Hour  Temperature(°C)  Humidity(%)  \\\n",
       "0  01/12/2017              254.0   0.0             -5.2         37.0   \n",
       "1  01/12/2017              204.0   1.0             -5.5         38.0   \n",
       "\n",
       "   Wind speed (m/s)  Visibility (10m)  Dew point temperature(°C)  \\\n",
       "0               2.2            2000.0                      -17.6   \n",
       "1               0.8            2000.0                      -17.6   \n",
       "\n",
       "   Solar Radiation (MJ/m2)  Rainfall(mm)  Snowfall (cm) Seasons     Holiday  \\\n",
       "0                      0.0           0.0            0.0  Winter  No Holiday   \n",
       "1                      0.0           0.0            0.0  Winter  No Holiday   \n",
       "\n",
       "  Functioning Day  \n",
       "0             Yes  \n",
       "1             Yes  "
      ]
     },
     "execution_count": 123,
     "metadata": {},
     "output_type": "execute_result"
    }
   ],
   "source": [
    "dataset2_L = dataset2\n",
    "dataset2_L.head(2) # view the data"
   ]
  },
  {
   "cell_type": "code",
   "execution_count": 124,
   "metadata": {
    "colab": {
     "base_uri": "https://localhost:8080/",
     "height": 134
    },
    "colab_type": "code",
    "id": "VpfcPA2cjliX",
    "outputId": "f7d22ad3-655e-421f-ff86-1f9eaf5b5b2a"
   },
   "outputs": [
    {
     "name": "stdout",
     "output_type": "stream",
     "text": [
      "[[254.   -5.2  37.  ...   0.    0.    0. ]\n",
      " [204.   -5.5  38.  ...   0.    0.    0. ]\n",
      " [173.   -6.   39.  ...   0.    0.    0. ]\n",
      " ...\n",
      " [694.    2.6  39.  ...   0.    0.    0. ]\n",
      " [712.    2.1  41.  ...   0.    0.    0. ]\n",
      " [584.    1.9  43.  ...   0.    0.    0. ]]\n"
     ]
    }
   ],
   "source": [
    "X_L2= dataset2.iloc[:, [1, 3, 4, 6, 7, 8, 9, 10]].values\n",
    "print(X_L2)"
   ]
  },
  {
   "cell_type": "code",
   "execution_count": 125,
   "metadata": {
    "colab": {
     "base_uri": "https://localhost:8080/",
     "height": 34
    },
    "colab_type": "code",
    "id": "hm_RV88xjlig",
    "outputId": "4620d5da-ca69-4b86-eb79-1ee468e8f75a"
   },
   "outputs": [
    {
     "name": "stdout",
     "output_type": "stream",
     "text": [
      "(6132,) (6132, 8) (2628,) (2628, 8)\n"
     ]
    }
   ],
   "source": [
    "#Splitting the dataset into the Training set and Test set\n",
    "from sklearn.model_selection import train_test_split\n",
    "X_train_L, X_test_L, Y_train_L, Y_test_L = train_test_split(X_L2, Y_L2, test_size = 0.3, random_state = 1)\n",
    "print(Y_train_L.shape, X_train_L.shape, Y_test_L.shape, X_test_L.shape)"
   ]
  },
  {
   "cell_type": "code",
   "execution_count": 126,
   "metadata": {
    "colab": {},
    "colab_type": "code",
    "id": "OYW3_MMgjlij"
   },
   "outputs": [],
   "source": [
    "# just make the regression result more correctly, no need. \n",
    "from sklearn.preprocessing import StandardScaler\n",
    "sc = StandardScaler()\n",
    "X_train_L = sc.fit_transform(X_train_L)\n",
    "X_test_L = sc.transform(X_test_L)"
   ]
  },
  {
   "cell_type": "code",
   "execution_count": 127,
   "metadata": {
    "colab": {},
    "colab_type": "code",
    "id": "KSnc0shljlin"
   },
   "outputs": [],
   "source": [
    "# Add one\n",
    "X_train_L = np.concatenate((np.ones((len(X_train_L), 1)), X_train_L), axis=1)\n",
    "X_test_L = np.concatenate((np.ones((len(X_test_L), 1)), X_test_L), axis=1)\n",
    "X_train_L = X_train_L.astype(float)\n",
    "X_test_L = X_test_L.astype(float)\n",
    "Y_test_L= Y_test_L.astype(float)\n",
    "Y_train_L= Y_train_L.astype(float)"
   ]
  },
  {
   "cell_type": "code",
   "execution_count": 128,
   "metadata": {
    "colab": {
     "base_uri": "https://localhost:8080/",
     "height": 202
    },
    "colab_type": "code",
    "id": "U6qNw-P7jlir",
    "outputId": "01bea970-4179-4158-f102-f58a508818fc"
   },
   "outputs": [
    {
     "name": "stdout",
     "output_type": "stream",
     "text": [
      "[[ 1.          0.2443009   1.03414826  1.40666502 -1.13166338  1.43013904\n",
      "  -0.08175224 -0.13048284 -0.17682281]\n",
      " [ 1.         -0.05024993  1.0424484   0.81681177  0.92046118  1.25532504\n",
      "   0.46161113 -0.13048284 -0.17682281]]\n",
      "[[ 1.         -0.0132383   0.44483842  0.22695851  0.48496208  0.52566662\n",
      "   0.50785482 -0.13048284 -0.17682281]\n",
      " [ 1.          0.74549994  0.88474577  0.66934845  0.0791561   1.06530983\n",
      "   0.45005021 -0.13048284 -0.17682281]]\n",
      "[0. 0.]\n",
      "[0. 0.]\n",
      "(6132,) (6132, 9) (2628,) (2628, 9)\n"
     ]
    }
   ],
   "source": [
    "# CHECKING\n",
    "print(X_train_L[:2,:])\n",
    "print(X_test_L[:2,:])\n",
    "print(Y_train_L[0:2])\n",
    "print(Y_test_L[0:2])\n",
    "print(Y_train_L.shape, X_train_L.shape, Y_test_L.shape, X_test_L.shape)"
   ]
  },
  {
   "cell_type": "markdown",
   "metadata": {
    "colab_type": "text",
    "id": "XFEGeV3ijliw"
   },
   "source": [
    "## LR 8 Select Features models try"
   ]
  },
  {
   "cell_type": "code",
   "execution_count": 129,
   "metadata": {
    "colab": {},
    "colab_type": "code",
    "id": "YCrqOXXTjlix"
   },
   "outputs": [],
   "source": [
    "B = np.zeros(X_train_L.shape[1])\n",
    "iterations = 1000\n",
    "newB_L, cost_history_L,h_history, ln_history,error_history = L_gradient_descent(X_train_L,Y_train_L,B,0.001,iterations)"
   ]
  },
  {
   "cell_type": "code",
   "execution_count": 130,
   "metadata": {
    "colab": {
     "base_uri": "https://localhost:8080/",
     "height": 50
    },
    "colab_type": "code",
    "id": "tX8jb8wdjli1",
    "outputId": "4938bfd0-54f3-4283-846e-5b6376774657"
   },
   "outputs": [
    {
     "name": "stdout",
     "output_type": "stream",
     "text": [
      "1 is 51 and 0 is 2577\n",
      "[0 0 0 ... 1 0 0] (2628,) (2628,)\n"
     ]
    }
   ],
   "source": [
    "X_test_pred = X_test_L.dot(newB_L)\n",
    "X_test_pred = X_test_pred.tolist()\n",
    "qwe = len(X_test_pred)\n",
    "probability = []\n",
    "for i in range(qwe):\n",
    "    if X_test_pred[i] > 0.8:\n",
    "        probability.append(1)\n",
    "    else:\n",
    "        probability.append(0)\n",
    "\n",
    "print(\"1 is {} and 0 is {}\".format(probability.count(1),probability.count(0)))\n",
    "\n",
    "probability = np.asarray(probability)\n",
    "\n",
    "print( probability, probability.shape,Y_test_L.shape)\n"
   ]
  },
  {
   "cell_type": "code",
   "execution_count": 131,
   "metadata": {
    "colab": {
     "base_uri": "https://localhost:8080/",
     "height": 185
    },
    "colab_type": "code",
    "id": "Ti1CCRtjjli6",
    "outputId": "9408e241-d289-443e-fdf1-af8c98e5a41f"
   },
   "outputs": [
    {
     "name": "stdout",
     "output_type": "stream",
     "text": [
      "[[2568    0    0    0    0    0    0    0    0]\n",
      " [   9    8    0    0    0    0    0    0    0]\n",
      " [   0   24    0    0    0    0    0    0    0]\n",
      " [   0   11    0    0    0    0    0    0    0]\n",
      " [   0    4    0    0    0    0    0    0    0]\n",
      " [   0    1    0    0    0    0    0    0    0]\n",
      " [   0    1    0    0    0    0    0    0    0]\n",
      " [   0    1    0    0    0    0    0    0    0]\n",
      " [   0    1    0    0    0    0    0    0    0]]\n"
     ]
    },
    {
     "data": {
      "text/plain": [
       "0.9802130898021308"
      ]
     },
     "execution_count": 131,
     "metadata": {},
     "output_type": "execute_result"
    }
   ],
   "source": [
    "probability = probability.astype(int)\n",
    "Y_test_L = Y_test_L.astype(int)\n",
    "cm = confusion_matrix(Y_test_L, probability)\n",
    "print(cm)\n",
    "accuracy_score(Y_test_L, probability)"
   ]
  },
  {
   "cell_type": "code",
   "execution_count": null,
   "metadata": {},
   "outputs": [],
   "source": []
  },
  {
   "cell_type": "code",
   "execution_count": null,
   "metadata": {},
   "outputs": [],
   "source": []
  }
 ],
 "metadata": {
  "colab": {
   "collapsed_sections": [],
   "name": "Assignment 1.ipynb",
   "provenance": []
  },
  "kernelspec": {
   "display_name": "Python 3",
   "language": "python",
   "name": "python3"
  },
  "language_info": {
   "codemirror_mode": {
    "name": "ipython",
    "version": 3
   },
   "file_extension": ".py",
   "mimetype": "text/x-python",
   "name": "python",
   "nbconvert_exporter": "python",
   "pygments_lexer": "ipython3",
   "version": "3.8.3"
  }
 },
 "nbformat": 4,
 "nbformat_minor": 1
}
